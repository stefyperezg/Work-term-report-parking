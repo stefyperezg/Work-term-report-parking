{
 "metadata": {
  "language_info": {
   "codemirror_mode": {
    "name": "ipython",
    "version": 3
   },
   "file_extension": ".py",
   "mimetype": "text/x-python",
   "name": "python",
   "nbconvert_exporter": "python",
   "pygments_lexer": "ipython3",
   "version": "3.8.5"
  },
  "orig_nbformat": 2,
  "kernelspec": {
   "name": "python385jvsc74a57bd04d1b2b379f77804368f1b4b97cab03696df996ef5ba308d6c883f1aa51c0a08f",
   "display_name": "Python 3.8.5 64-bit ('base': conda)"
  }
 },
 "nbformat": 4,
 "nbformat_minor": 2,
 "cells": [
  {
   "cell_type": "code",
   "execution_count": 2,
   "metadata": {},
   "outputs": [],
   "source": [
    "import pandas as pd\n",
    "import seaborn as sns\n",
    "import matplotlib.pyplot as plt\n",
    "import matplotlib.dates as mdates\n",
    "%matplotlib inline"
   ]
  },
  {
   "cell_type": "code",
   "execution_count": 3,
   "metadata": {},
   "outputs": [
    {
     "output_type": "execute_result",
     "data": {
      "text/plain": [
       "   gta06_dest  start_time  total\n",
       "0           1         700     21\n",
       "1           1         720     21\n",
       "2           1         745     38\n",
       "3           1         805      8\n",
       "4           1         825     17"
      ],
      "text/html": "<div>\n<style scoped>\n    .dataframe tbody tr th:only-of-type {\n        vertical-align: middle;\n    }\n\n    .dataframe tbody tr th {\n        vertical-align: top;\n    }\n\n    .dataframe thead th {\n        text-align: right;\n    }\n</style>\n<table border=\"1\" class=\"dataframe\">\n  <thead>\n    <tr style=\"text-align: right;\">\n      <th></th>\n      <th>gta06_dest</th>\n      <th>start_time</th>\n      <th>total</th>\n    </tr>\n  </thead>\n  <tbody>\n    <tr>\n      <th>0</th>\n      <td>1</td>\n      <td>700</td>\n      <td>21</td>\n    </tr>\n    <tr>\n      <th>1</th>\n      <td>1</td>\n      <td>720</td>\n      <td>21</td>\n    </tr>\n    <tr>\n      <th>2</th>\n      <td>1</td>\n      <td>745</td>\n      <td>38</td>\n    </tr>\n    <tr>\n      <th>3</th>\n      <td>1</td>\n      <td>805</td>\n      <td>8</td>\n    </tr>\n    <tr>\n      <th>4</th>\n      <td>1</td>\n      <td>825</td>\n      <td>17</td>\n    </tr>\n  </tbody>\n</table>\n</div>"
     },
     "metadata": {},
     "execution_count": 3
    }
   ],
   "source": [
    "directory = \"C:\\\\Users\\\\stefy\\\\OneDrive - University of Waterloo\\Work Term Report 3 - Parking\\\\Datasets\\\\Toronto\\\\TTS Trips\\\\\"\n",
    "fileName_byTIme = \"rows_ZONES - cols_START_TIME.csv\"\n",
    "\n",
    "TTS_startTime = pd.read_csv(directory+fileName_byTIme, skiprows=18)\n",
    "TTS_startTime.head()"
   ]
  },
  {
   "cell_type": "code",
   "execution_count": 4,
   "metadata": {},
   "outputs": [
    {
     "output_type": "execute_result",
     "data": {
      "text/plain": [
       "            total\n",
       "gta06_dest       \n",
       "1            1789\n",
       "2             424\n",
       "3            2097\n",
       "4            1409\n",
       "5            1468"
      ],
      "text/html": "<div>\n<style scoped>\n    .dataframe tbody tr th:only-of-type {\n        vertical-align: middle;\n    }\n\n    .dataframe tbody tr th {\n        vertical-align: top;\n    }\n\n    .dataframe thead th {\n        text-align: right;\n    }\n</style>\n<table border=\"1\" class=\"dataframe\">\n  <thead>\n    <tr style=\"text-align: right;\">\n      <th></th>\n      <th>total</th>\n    </tr>\n    <tr>\n      <th>gta06_dest</th>\n      <th></th>\n    </tr>\n  </thead>\n  <tbody>\n    <tr>\n      <th>1</th>\n      <td>1789</td>\n    </tr>\n    <tr>\n      <th>2</th>\n      <td>424</td>\n    </tr>\n    <tr>\n      <th>3</th>\n      <td>2097</td>\n    </tr>\n    <tr>\n      <th>4</th>\n      <td>1409</td>\n    </tr>\n    <tr>\n      <th>5</th>\n      <td>1468</td>\n    </tr>\n  </tbody>\n</table>\n</div>"
     },
     "metadata": {},
     "execution_count": 4
    }
   ],
   "source": [
    "trips_byZone = TTS_startTime.groupby(\"gta06_dest\").sum().drop('start_time', axis=1)\n",
    "trips_byZone.head()"
   ]
  },
  {
   "cell_type": "code",
   "execution_count": 5,
   "metadata": {},
   "outputs": [],
   "source": [
    "trips_byZone.to_excel(directory+'Trips_by_Zone.xlsx')"
   ]
  },
  {
   "cell_type": "code",
   "execution_count": 6,
   "metadata": {},
   "outputs": [
    {
     "output_type": "execute_result",
     "data": {
      "text/plain": [
       "'16:25'"
      ]
     },
     "metadata": {},
     "execution_count": 6
    }
   ],
   "source": [
    "def get_time(x):\n",
    "    x= str(x)\n",
    "    minutes = x[-2:]\n",
    "    hour = x[0:-2]\n",
    "    return hour+\":\"+minutes\n",
    "get_time(1625)"
   ]
  },
  {
   "cell_type": "code",
   "execution_count": 7,
   "metadata": {},
   "outputs": [
    {
     "output_type": "execute_result",
     "data": {
      "text/plain": [
       "0    7:00\n",
       "1    7:20\n",
       "2    7:45\n",
       "3    8:05\n",
       "4    8:25\n",
       "Name: start-time, dtype: object"
      ]
     },
     "metadata": {},
     "execution_count": 7
    }
   ],
   "source": [
    "TTS_startTime[\"start-time\"]= TTS_startTime[\"start_time\"].apply(get_time)\n",
    "TTS_startTime[\"start-time\"].head()"
   ]
  },
  {
   "cell_type": "code",
   "execution_count": 8,
   "metadata": {},
   "outputs": [],
   "source": [
    "TTS_startTime[\"hour\"] = TTS_startTime[\"start-time\"].apply(lambda x: int(x.split(\":\")[0]))\n",
    "TTS_startTime[\"minutes\"] = TTS_startTime[\"start-time\"].apply(lambda x: int(x.split(\":\")[-1]))"
   ]
  },
  {
   "cell_type": "code",
   "execution_count": 9,
   "metadata": {},
   "outputs": [],
   "source": [
    "TTS_time = TTS_startTime[TTS_startTime['hour']<24]"
   ]
  },
  {
   "cell_type": "code",
   "execution_count": 10,
   "metadata": {},
   "outputs": [
    {
     "output_type": "stream",
     "name": "stderr",
     "text": [
      "<ipython-input-10-75267834ca35>:1: SettingWithCopyWarning: \nA value is trying to be set on a copy of a slice from a DataFrame.\nTry using .loc[row_indexer,col_indexer] = value instead\n\nSee the caveats in the documentation: https://pandas.pydata.org/pandas-docs/stable/user_guide/indexing.html#returning-a-view-versus-a-copy\n  TTS_time['time']= pd.to_datetime(TTS_time['start-time'], format='%H:%M').dt.time\n"
     ]
    }
   ],
   "source": [
    "TTS_time['time']= pd.to_datetime(TTS_time['start-time'], format='%H:%M').dt.time"
   ]
  },
  {
   "cell_type": "code",
   "execution_count": 11,
   "metadata": {},
   "outputs": [
    {
     "output_type": "execute_result",
     "data": {
      "text/plain": [
       "   gta06_dest  start_time  total start-time  hour  minutes      time\n",
       "0           1         700     21       7:00     7        0  07:00:00\n",
       "1           1         720     21       7:20     7       20  07:20:00\n",
       "2           1         745     38       7:45     7       45  07:45:00\n",
       "3           1         805      8       8:05     8        5  08:05:00\n",
       "4           1         825     17       8:25     8       25  08:25:00"
      ],
      "text/html": "<div>\n<style scoped>\n    .dataframe tbody tr th:only-of-type {\n        vertical-align: middle;\n    }\n\n    .dataframe tbody tr th {\n        vertical-align: top;\n    }\n\n    .dataframe thead th {\n        text-align: right;\n    }\n</style>\n<table border=\"1\" class=\"dataframe\">\n  <thead>\n    <tr style=\"text-align: right;\">\n      <th></th>\n      <th>gta06_dest</th>\n      <th>start_time</th>\n      <th>total</th>\n      <th>start-time</th>\n      <th>hour</th>\n      <th>minutes</th>\n      <th>time</th>\n    </tr>\n  </thead>\n  <tbody>\n    <tr>\n      <th>0</th>\n      <td>1</td>\n      <td>700</td>\n      <td>21</td>\n      <td>7:00</td>\n      <td>7</td>\n      <td>0</td>\n      <td>07:00:00</td>\n    </tr>\n    <tr>\n      <th>1</th>\n      <td>1</td>\n      <td>720</td>\n      <td>21</td>\n      <td>7:20</td>\n      <td>7</td>\n      <td>20</td>\n      <td>07:20:00</td>\n    </tr>\n    <tr>\n      <th>2</th>\n      <td>1</td>\n      <td>745</td>\n      <td>38</td>\n      <td>7:45</td>\n      <td>7</td>\n      <td>45</td>\n      <td>07:45:00</td>\n    </tr>\n    <tr>\n      <th>3</th>\n      <td>1</td>\n      <td>805</td>\n      <td>8</td>\n      <td>8:05</td>\n      <td>8</td>\n      <td>5</td>\n      <td>08:05:00</td>\n    </tr>\n    <tr>\n      <th>4</th>\n      <td>1</td>\n      <td>825</td>\n      <td>17</td>\n      <td>8:25</td>\n      <td>8</td>\n      <td>25</td>\n      <td>08:25:00</td>\n    </tr>\n  </tbody>\n</table>\n</div>"
     },
     "metadata": {},
     "execution_count": 11
    }
   ],
   "source": [
    "TTS_time.head()"
   ]
  },
  {
   "cell_type": "code",
   "execution_count": 12,
   "metadata": {},
   "outputs": [
    {
     "output_type": "stream",
     "name": "stderr",
     "text": [
      "<ipython-input-12-90c8b4469615>:1: SettingWithCopyWarning: \nA value is trying to be set on a copy of a slice from a DataFrame.\nTry using .loc[row_indexer,col_indexer] = value instead\n\nSee the caveats in the documentation: https://pandas.pydata.org/pandas-docs/stable/user_guide/indexing.html#returning-a-view-versus-a-copy\n  TTS_time['dummy']=1\n"
     ]
    }
   ],
   "source": [
    "TTS_time['dummy']=1"
   ]
  },
  {
   "cell_type": "code",
   "execution_count": 13,
   "metadata": {},
   "outputs": [
    {
     "output_type": "execute_result",
     "data": {
      "text/plain": [
       "    hour  gta06_dest  start_time   total  minutes  dummy\n",
       "0      4       62367       86974    4898     4574    206\n",
       "1      5      173420      302335   15200    14835    575\n",
       "2      6      480069      981616   54352    40816   1568\n",
       "3      7      970326     2273375  131309    83075   3129\n",
       "4      8     1311723     3380582  216979   102982   4097\n",
       "5      9      834040     2409981  103848    55581   2616\n",
       "6     10      790512     2501661   90803    53661   2448\n",
       "7     11      858700     2966456   93656    60256   2642\n",
       "8     12      802512     2991979   86026    53179   2449\n",
       "9     13      765369     3116376   85560    50976   2358\n",
       "10    14      887375     3897773  105841    64573   2738\n",
       "11    15     1172679     5425021  174596    85021   3560\n",
       "12    16     1155662     5800911  194040    85711   3572\n",
       "13    17     1227564     6590264  221095    91164   3823\n",
       "14    18     1063485     6046786  163902    76186   3317\n",
       "15    19      879742     5283964  113620    60864   2749\n",
       "16    20      710730     4533535   79383    49535   2242\n",
       "17    21      578035     3762031   59057    36631   1774\n",
       "18    22      421788     2900294   39211    24894   1307\n",
       "19    23      296519     2074748   26016    16248    895"
      ],
      "text/html": "<div>\n<style scoped>\n    .dataframe tbody tr th:only-of-type {\n        vertical-align: middle;\n    }\n\n    .dataframe tbody tr th {\n        vertical-align: top;\n    }\n\n    .dataframe thead th {\n        text-align: right;\n    }\n</style>\n<table border=\"1\" class=\"dataframe\">\n  <thead>\n    <tr style=\"text-align: right;\">\n      <th></th>\n      <th>hour</th>\n      <th>gta06_dest</th>\n      <th>start_time</th>\n      <th>total</th>\n      <th>minutes</th>\n      <th>dummy</th>\n    </tr>\n  </thead>\n  <tbody>\n    <tr>\n      <th>0</th>\n      <td>4</td>\n      <td>62367</td>\n      <td>86974</td>\n      <td>4898</td>\n      <td>4574</td>\n      <td>206</td>\n    </tr>\n    <tr>\n      <th>1</th>\n      <td>5</td>\n      <td>173420</td>\n      <td>302335</td>\n      <td>15200</td>\n      <td>14835</td>\n      <td>575</td>\n    </tr>\n    <tr>\n      <th>2</th>\n      <td>6</td>\n      <td>480069</td>\n      <td>981616</td>\n      <td>54352</td>\n      <td>40816</td>\n      <td>1568</td>\n    </tr>\n    <tr>\n      <th>3</th>\n      <td>7</td>\n      <td>970326</td>\n      <td>2273375</td>\n      <td>131309</td>\n      <td>83075</td>\n      <td>3129</td>\n    </tr>\n    <tr>\n      <th>4</th>\n      <td>8</td>\n      <td>1311723</td>\n      <td>3380582</td>\n      <td>216979</td>\n      <td>102982</td>\n      <td>4097</td>\n    </tr>\n    <tr>\n      <th>5</th>\n      <td>9</td>\n      <td>834040</td>\n      <td>2409981</td>\n      <td>103848</td>\n      <td>55581</td>\n      <td>2616</td>\n    </tr>\n    <tr>\n      <th>6</th>\n      <td>10</td>\n      <td>790512</td>\n      <td>2501661</td>\n      <td>90803</td>\n      <td>53661</td>\n      <td>2448</td>\n    </tr>\n    <tr>\n      <th>7</th>\n      <td>11</td>\n      <td>858700</td>\n      <td>2966456</td>\n      <td>93656</td>\n      <td>60256</td>\n      <td>2642</td>\n    </tr>\n    <tr>\n      <th>8</th>\n      <td>12</td>\n      <td>802512</td>\n      <td>2991979</td>\n      <td>86026</td>\n      <td>53179</td>\n      <td>2449</td>\n    </tr>\n    <tr>\n      <th>9</th>\n      <td>13</td>\n      <td>765369</td>\n      <td>3116376</td>\n      <td>85560</td>\n      <td>50976</td>\n      <td>2358</td>\n    </tr>\n    <tr>\n      <th>10</th>\n      <td>14</td>\n      <td>887375</td>\n      <td>3897773</td>\n      <td>105841</td>\n      <td>64573</td>\n      <td>2738</td>\n    </tr>\n    <tr>\n      <th>11</th>\n      <td>15</td>\n      <td>1172679</td>\n      <td>5425021</td>\n      <td>174596</td>\n      <td>85021</td>\n      <td>3560</td>\n    </tr>\n    <tr>\n      <th>12</th>\n      <td>16</td>\n      <td>1155662</td>\n      <td>5800911</td>\n      <td>194040</td>\n      <td>85711</td>\n      <td>3572</td>\n    </tr>\n    <tr>\n      <th>13</th>\n      <td>17</td>\n      <td>1227564</td>\n      <td>6590264</td>\n      <td>221095</td>\n      <td>91164</td>\n      <td>3823</td>\n    </tr>\n    <tr>\n      <th>14</th>\n      <td>18</td>\n      <td>1063485</td>\n      <td>6046786</td>\n      <td>163902</td>\n      <td>76186</td>\n      <td>3317</td>\n    </tr>\n    <tr>\n      <th>15</th>\n      <td>19</td>\n      <td>879742</td>\n      <td>5283964</td>\n      <td>113620</td>\n      <td>60864</td>\n      <td>2749</td>\n    </tr>\n    <tr>\n      <th>16</th>\n      <td>20</td>\n      <td>710730</td>\n      <td>4533535</td>\n      <td>79383</td>\n      <td>49535</td>\n      <td>2242</td>\n    </tr>\n    <tr>\n      <th>17</th>\n      <td>21</td>\n      <td>578035</td>\n      <td>3762031</td>\n      <td>59057</td>\n      <td>36631</td>\n      <td>1774</td>\n    </tr>\n    <tr>\n      <th>18</th>\n      <td>22</td>\n      <td>421788</td>\n      <td>2900294</td>\n      <td>39211</td>\n      <td>24894</td>\n      <td>1307</td>\n    </tr>\n    <tr>\n      <th>19</th>\n      <td>23</td>\n      <td>296519</td>\n      <td>2074748</td>\n      <td>26016</td>\n      <td>16248</td>\n      <td>895</td>\n    </tr>\n  </tbody>\n</table>\n</div>"
     },
     "metadata": {},
     "execution_count": 13
    }
   ],
   "source": [
    "counts_by_time = TTS_time.groupby(['hour', as_index=False).sum()\n",
    "counts_by_time"
   ]
  },
  {
   "cell_type": "code",
   "execution_count": 14,
   "metadata": {},
   "outputs": [
    {
     "output_type": "display_data",
     "data": {
      "text/plain": "<Figure size 1584x432 with 1 Axes>",
      "image/svg+xml": "<?xml version=\"1.0\" encoding=\"utf-8\" standalone=\"no\"?>\r\n<!DOCTYPE svg PUBLIC \"-//W3C//DTD SVG 1.1//EN\"\r\n  \"http://www.w3.org/Graphics/SVG/1.1/DTD/svg11.dtd\">\r\n<!-- Created with matplotlib (https://matplotlib.org/) -->\r\n<svg height=\"370.91625pt\" version=\"1.1\" viewBox=\"0 0 1274.45 370.91625\" width=\"1274.45pt\" xmlns=\"http://www.w3.org/2000/svg\" xmlns:xlink=\"http://www.w3.org/1999/xlink\">\r\n <metadata>\r\n  <rdf:RDF xmlns:cc=\"http://creativecommons.org/ns#\" xmlns:dc=\"http://purl.org/dc/elements/1.1/\" xmlns:rdf=\"http://www.w3.org/1999/02/22-rdf-syntax-ns#\">\r\n   <cc:Work>\r\n    <dc:type rdf:resource=\"http://purl.org/dc/dcmitype/StillImage\"/>\r\n    <dc:date>2021-05-05T20:30:34.304859</dc:date>\r\n    <dc:format>image/svg+xml</dc:format>\r\n    <dc:creator>\r\n     <cc:Agent>\r\n      <dc:title>Matplotlib v3.3.2, https://matplotlib.org/</dc:title>\r\n     </cc:Agent>\r\n    </dc:creator>\r\n   </cc:Work>\r\n  </rdf:RDF>\r\n </metadata>\r\n <defs>\r\n  <style type=\"text/css\">*{stroke-linecap:butt;stroke-linejoin:round;}</style>\r\n </defs>\r\n <g id=\"figure_1\">\r\n  <g id=\"patch_1\">\r\n   <path d=\"M 0 370.91625 \r\nL 1274.45 370.91625 \r\nL 1274.45 0 \r\nL 0 0 \r\nz\r\n\" style=\"fill:none;\"/>\r\n  </g>\r\n  <g id=\"axes_1\">\r\n   <g id=\"patch_2\">\r\n    <path d=\"M 39.65 333.36 \r\nL 1267.25 333.36 \r\nL 1267.25 7.2 \r\nL 39.65 7.2 \r\nz\r\n\" style=\"fill:#ffffff;\"/>\r\n   </g>\r\n   <g id=\"matplotlib.axis_1\">\r\n    <g id=\"xtick_1\">\r\n     <g id=\"line2d_1\">\r\n      <defs>\r\n       <path d=\"M 0 0 \r\nL 0 3.5 \r\n\" id=\"m9ab9b09717\" style=\"stroke:#000000;stroke-width:0.8;\"/>\r\n      </defs>\r\n      <g>\r\n       <use style=\"stroke:#000000;stroke-width:0.8;\" x=\"154.186842\" xlink:href=\"#m9ab9b09717\" y=\"333.36\"/>\r\n      </g>\r\n     </g>\r\n     <g id=\"text_1\">\r\n      <!-- 5.0 -->\r\n      <g transform=\"translate(146.23528 347.958438)scale(0.1 -0.1)\">\r\n       <defs>\r\n        <path d=\"M 10.796875 72.90625 \r\nL 49.515625 72.90625 \r\nL 49.515625 64.59375 \r\nL 19.828125 64.59375 \r\nL 19.828125 46.734375 \r\nQ 21.96875 47.46875 24.109375 47.828125 \r\nQ 26.265625 48.1875 28.421875 48.1875 \r\nQ 40.625 48.1875 47.75 41.5 \r\nQ 54.890625 34.8125 54.890625 23.390625 \r\nQ 54.890625 11.625 47.5625 5.09375 \r\nQ 40.234375 -1.421875 26.90625 -1.421875 \r\nQ 22.3125 -1.421875 17.546875 -0.640625 \r\nQ 12.796875 0.140625 7.71875 1.703125 \r\nL 7.71875 11.625 \r\nQ 12.109375 9.234375 16.796875 8.0625 \r\nQ 21.484375 6.890625 26.703125 6.890625 \r\nQ 35.15625 6.890625 40.078125 11.328125 \r\nQ 45.015625 15.765625 45.015625 23.390625 \r\nQ 45.015625 31 40.078125 35.4375 \r\nQ 35.15625 39.890625 26.703125 39.890625 \r\nQ 22.75 39.890625 18.8125 39.015625 \r\nQ 14.890625 38.140625 10.796875 36.28125 \r\nz\r\n\" id=\"DejaVuSans-53\"/>\r\n        <path d=\"M 10.6875 12.40625 \r\nL 21 12.40625 \r\nL 21 0 \r\nL 10.6875 0 \r\nz\r\n\" id=\"DejaVuSans-46\"/>\r\n        <path d=\"M 31.78125 66.40625 \r\nQ 24.171875 66.40625 20.328125 58.90625 \r\nQ 16.5 51.421875 16.5 36.375 \r\nQ 16.5 21.390625 20.328125 13.890625 \r\nQ 24.171875 6.390625 31.78125 6.390625 \r\nQ 39.453125 6.390625 43.28125 13.890625 \r\nQ 47.125 21.390625 47.125 36.375 \r\nQ 47.125 51.421875 43.28125 58.90625 \r\nQ 39.453125 66.40625 31.78125 66.40625 \r\nz\r\nM 31.78125 74.21875 \r\nQ 44.046875 74.21875 50.515625 64.515625 \r\nQ 56.984375 54.828125 56.984375 36.375 \r\nQ 56.984375 17.96875 50.515625 8.265625 \r\nQ 44.046875 -1.421875 31.78125 -1.421875 \r\nQ 19.53125 -1.421875 13.0625 8.265625 \r\nQ 6.59375 17.96875 6.59375 36.375 \r\nQ 6.59375 54.828125 13.0625 64.515625 \r\nQ 19.53125 74.21875 31.78125 74.21875 \r\nz\r\n\" id=\"DejaVuSans-48\"/>\r\n       </defs>\r\n       <use xlink:href=\"#DejaVuSans-53\"/>\r\n       <use x=\"63.623047\" xlink:href=\"#DejaVuSans-46\"/>\r\n       <use x=\"95.410156\" xlink:href=\"#DejaVuSans-48\"/>\r\n      </g>\r\n     </g>\r\n    </g>\r\n    <g id=\"xtick_2\">\r\n     <g id=\"line2d_2\">\r\n      <g>\r\n       <use style=\"stroke:#000000;stroke-width:0.8;\" x=\"301.028947\" xlink:href=\"#m9ab9b09717\" y=\"333.36\"/>\r\n      </g>\r\n     </g>\r\n     <g id=\"text_2\">\r\n      <!-- 7.5 -->\r\n      <g transform=\"translate(293.077385 347.958438)scale(0.1 -0.1)\">\r\n       <defs>\r\n        <path d=\"M 8.203125 72.90625 \r\nL 55.078125 72.90625 \r\nL 55.078125 68.703125 \r\nL 28.609375 0 \r\nL 18.3125 0 \r\nL 43.21875 64.59375 \r\nL 8.203125 64.59375 \r\nz\r\n\" id=\"DejaVuSans-55\"/>\r\n       </defs>\r\n       <use xlink:href=\"#DejaVuSans-55\"/>\r\n       <use x=\"63.623047\" xlink:href=\"#DejaVuSans-46\"/>\r\n       <use x=\"95.410156\" xlink:href=\"#DejaVuSans-53\"/>\r\n      </g>\r\n     </g>\r\n    </g>\r\n    <g id=\"xtick_3\">\r\n     <g id=\"line2d_3\">\r\n      <g>\r\n       <use style=\"stroke:#000000;stroke-width:0.8;\" x=\"447.871053\" xlink:href=\"#m9ab9b09717\" y=\"333.36\"/>\r\n      </g>\r\n     </g>\r\n     <g id=\"text_3\">\r\n      <!-- 10.0 -->\r\n      <g transform=\"translate(436.73824 347.958438)scale(0.1 -0.1)\">\r\n       <defs>\r\n        <path d=\"M 12.40625 8.296875 \r\nL 28.515625 8.296875 \r\nL 28.515625 63.921875 \r\nL 10.984375 60.40625 \r\nL 10.984375 69.390625 \r\nL 28.421875 72.90625 \r\nL 38.28125 72.90625 \r\nL 38.28125 8.296875 \r\nL 54.390625 8.296875 \r\nL 54.390625 0 \r\nL 12.40625 0 \r\nz\r\n\" id=\"DejaVuSans-49\"/>\r\n       </defs>\r\n       <use xlink:href=\"#DejaVuSans-49\"/>\r\n       <use x=\"63.623047\" xlink:href=\"#DejaVuSans-48\"/>\r\n       <use x=\"127.246094\" xlink:href=\"#DejaVuSans-46\"/>\r\n       <use x=\"159.033203\" xlink:href=\"#DejaVuSans-48\"/>\r\n      </g>\r\n     </g>\r\n    </g>\r\n    <g id=\"xtick_4\">\r\n     <g id=\"line2d_4\">\r\n      <g>\r\n       <use style=\"stroke:#000000;stroke-width:0.8;\" x=\"594.713158\" xlink:href=\"#m9ab9b09717\" y=\"333.36\"/>\r\n      </g>\r\n     </g>\r\n     <g id=\"text_4\">\r\n      <!-- 12.5 -->\r\n      <g transform=\"translate(583.580345 347.958438)scale(0.1 -0.1)\">\r\n       <defs>\r\n        <path d=\"M 19.1875 8.296875 \r\nL 53.609375 8.296875 \r\nL 53.609375 0 \r\nL 7.328125 0 \r\nL 7.328125 8.296875 \r\nQ 12.9375 14.109375 22.625 23.890625 \r\nQ 32.328125 33.6875 34.8125 36.53125 \r\nQ 39.546875 41.84375 41.421875 45.53125 \r\nQ 43.3125 49.21875 43.3125 52.78125 \r\nQ 43.3125 58.59375 39.234375 62.25 \r\nQ 35.15625 65.921875 28.609375 65.921875 \r\nQ 23.96875 65.921875 18.8125 64.3125 \r\nQ 13.671875 62.703125 7.8125 59.421875 \r\nL 7.8125 69.390625 \r\nQ 13.765625 71.78125 18.9375 73 \r\nQ 24.125 74.21875 28.421875 74.21875 \r\nQ 39.75 74.21875 46.484375 68.546875 \r\nQ 53.21875 62.890625 53.21875 53.421875 \r\nQ 53.21875 48.921875 51.53125 44.890625 \r\nQ 49.859375 40.875 45.40625 35.40625 \r\nQ 44.1875 33.984375 37.640625 27.21875 \r\nQ 31.109375 20.453125 19.1875 8.296875 \r\nz\r\n\" id=\"DejaVuSans-50\"/>\r\n       </defs>\r\n       <use xlink:href=\"#DejaVuSans-49\"/>\r\n       <use x=\"63.623047\" xlink:href=\"#DejaVuSans-50\"/>\r\n       <use x=\"127.246094\" xlink:href=\"#DejaVuSans-46\"/>\r\n       <use x=\"159.033203\" xlink:href=\"#DejaVuSans-53\"/>\r\n      </g>\r\n     </g>\r\n    </g>\r\n    <g id=\"xtick_5\">\r\n     <g id=\"line2d_5\">\r\n      <g>\r\n       <use style=\"stroke:#000000;stroke-width:0.8;\" x=\"741.555263\" xlink:href=\"#m9ab9b09717\" y=\"333.36\"/>\r\n      </g>\r\n     </g>\r\n     <g id=\"text_5\">\r\n      <!-- 15.0 -->\r\n      <g transform=\"translate(730.422451 347.958438)scale(0.1 -0.1)\">\r\n       <use xlink:href=\"#DejaVuSans-49\"/>\r\n       <use x=\"63.623047\" xlink:href=\"#DejaVuSans-53\"/>\r\n       <use x=\"127.246094\" xlink:href=\"#DejaVuSans-46\"/>\r\n       <use x=\"159.033203\" xlink:href=\"#DejaVuSans-48\"/>\r\n      </g>\r\n     </g>\r\n    </g>\r\n    <g id=\"xtick_6\">\r\n     <g id=\"line2d_6\">\r\n      <g>\r\n       <use style=\"stroke:#000000;stroke-width:0.8;\" x=\"888.397368\" xlink:href=\"#m9ab9b09717\" y=\"333.36\"/>\r\n      </g>\r\n     </g>\r\n     <g id=\"text_6\">\r\n      <!-- 17.5 -->\r\n      <g transform=\"translate(877.264556 347.958438)scale(0.1 -0.1)\">\r\n       <use xlink:href=\"#DejaVuSans-49\"/>\r\n       <use x=\"63.623047\" xlink:href=\"#DejaVuSans-55\"/>\r\n       <use x=\"127.246094\" xlink:href=\"#DejaVuSans-46\"/>\r\n       <use x=\"159.033203\" xlink:href=\"#DejaVuSans-53\"/>\r\n      </g>\r\n     </g>\r\n    </g>\r\n    <g id=\"xtick_7\">\r\n     <g id=\"line2d_7\">\r\n      <g>\r\n       <use style=\"stroke:#000000;stroke-width:0.8;\" x=\"1035.239474\" xlink:href=\"#m9ab9b09717\" y=\"333.36\"/>\r\n      </g>\r\n     </g>\r\n     <g id=\"text_7\">\r\n      <!-- 20.0 -->\r\n      <g transform=\"translate(1024.106661 347.958438)scale(0.1 -0.1)\">\r\n       <use xlink:href=\"#DejaVuSans-50\"/>\r\n       <use x=\"63.623047\" xlink:href=\"#DejaVuSans-48\"/>\r\n       <use x=\"127.246094\" xlink:href=\"#DejaVuSans-46\"/>\r\n       <use x=\"159.033203\" xlink:href=\"#DejaVuSans-48\"/>\r\n      </g>\r\n     </g>\r\n    </g>\r\n    <g id=\"xtick_8\">\r\n     <g id=\"line2d_8\">\r\n      <g>\r\n       <use style=\"stroke:#000000;stroke-width:0.8;\" x=\"1182.081579\" xlink:href=\"#m9ab9b09717\" y=\"333.36\"/>\r\n      </g>\r\n     </g>\r\n     <g id=\"text_8\">\r\n      <!-- 22.5 -->\r\n      <g transform=\"translate(1170.948766 347.958438)scale(0.1 -0.1)\">\r\n       <use xlink:href=\"#DejaVuSans-50\"/>\r\n       <use x=\"63.623047\" xlink:href=\"#DejaVuSans-50\"/>\r\n       <use x=\"127.246094\" xlink:href=\"#DejaVuSans-46\"/>\r\n       <use x=\"159.033203\" xlink:href=\"#DejaVuSans-53\"/>\r\n      </g>\r\n     </g>\r\n    </g>\r\n    <g id=\"text_9\">\r\n     <!-- hour -->\r\n     <g transform=\"translate(641.997656 361.636562)scale(0.1 -0.1)\">\r\n      <defs>\r\n       <path d=\"M 54.890625 33.015625 \r\nL 54.890625 0 \r\nL 45.90625 0 \r\nL 45.90625 32.71875 \r\nQ 45.90625 40.484375 42.875 44.328125 \r\nQ 39.84375 48.1875 33.796875 48.1875 \r\nQ 26.515625 48.1875 22.3125 43.546875 \r\nQ 18.109375 38.921875 18.109375 30.90625 \r\nL 18.109375 0 \r\nL 9.078125 0 \r\nL 9.078125 75.984375 \r\nL 18.109375 75.984375 \r\nL 18.109375 46.1875 \r\nQ 21.34375 51.125 25.703125 53.5625 \r\nQ 30.078125 56 35.796875 56 \r\nQ 45.21875 56 50.046875 50.171875 \r\nQ 54.890625 44.34375 54.890625 33.015625 \r\nz\r\n\" id=\"DejaVuSans-104\"/>\r\n       <path d=\"M 30.609375 48.390625 \r\nQ 23.390625 48.390625 19.1875 42.75 \r\nQ 14.984375 37.109375 14.984375 27.296875 \r\nQ 14.984375 17.484375 19.15625 11.84375 \r\nQ 23.34375 6.203125 30.609375 6.203125 \r\nQ 37.796875 6.203125 41.984375 11.859375 \r\nQ 46.1875 17.53125 46.1875 27.296875 \r\nQ 46.1875 37.015625 41.984375 42.703125 \r\nQ 37.796875 48.390625 30.609375 48.390625 \r\nz\r\nM 30.609375 56 \r\nQ 42.328125 56 49.015625 48.375 \r\nQ 55.71875 40.765625 55.71875 27.296875 \r\nQ 55.71875 13.875 49.015625 6.21875 \r\nQ 42.328125 -1.421875 30.609375 -1.421875 \r\nQ 18.84375 -1.421875 12.171875 6.21875 \r\nQ 5.515625 13.875 5.515625 27.296875 \r\nQ 5.515625 40.765625 12.171875 48.375 \r\nQ 18.84375 56 30.609375 56 \r\nz\r\n\" id=\"DejaVuSans-111\"/>\r\n       <path d=\"M 8.5 21.578125 \r\nL 8.5 54.6875 \r\nL 17.484375 54.6875 \r\nL 17.484375 21.921875 \r\nQ 17.484375 14.15625 20.5 10.265625 \r\nQ 23.53125 6.390625 29.59375 6.390625 \r\nQ 36.859375 6.390625 41.078125 11.03125 \r\nQ 45.3125 15.671875 45.3125 23.6875 \r\nL 45.3125 54.6875 \r\nL 54.296875 54.6875 \r\nL 54.296875 0 \r\nL 45.3125 0 \r\nL 45.3125 8.40625 \r\nQ 42.046875 3.421875 37.71875 1 \r\nQ 33.40625 -1.421875 27.6875 -1.421875 \r\nQ 18.265625 -1.421875 13.375 4.4375 \r\nQ 8.5 10.296875 8.5 21.578125 \r\nz\r\nM 31.109375 56 \r\nz\r\n\" id=\"DejaVuSans-117\"/>\r\n       <path d=\"M 41.109375 46.296875 \r\nQ 39.59375 47.171875 37.8125 47.578125 \r\nQ 36.03125 48 33.890625 48 \r\nQ 26.265625 48 22.1875 43.046875 \r\nQ 18.109375 38.09375 18.109375 28.8125 \r\nL 18.109375 0 \r\nL 9.078125 0 \r\nL 9.078125 54.6875 \r\nL 18.109375 54.6875 \r\nL 18.109375 46.1875 \r\nQ 20.953125 51.171875 25.484375 53.578125 \r\nQ 30.03125 56 36.53125 56 \r\nQ 37.453125 56 38.578125 55.875 \r\nQ 39.703125 55.765625 41.0625 55.515625 \r\nz\r\n\" id=\"DejaVuSans-114\"/>\r\n      </defs>\r\n      <use xlink:href=\"#DejaVuSans-104\"/>\r\n      <use x=\"63.378906\" xlink:href=\"#DejaVuSans-111\"/>\r\n      <use x=\"124.560547\" xlink:href=\"#DejaVuSans-117\"/>\r\n      <use x=\"187.939453\" xlink:href=\"#DejaVuSans-114\"/>\r\n     </g>\r\n    </g>\r\n   </g>\r\n   <g id=\"matplotlib.axis_2\">\r\n    <g id=\"ytick_1\">\r\n     <g id=\"line2d_9\">\r\n      <defs>\r\n       <path d=\"M 0 0 \r\nL -3.5 0 \r\n\" id=\"m1def9e9af8\" style=\"stroke:#000000;stroke-width:0.8;\"/>\r\n      </defs>\r\n      <g>\r\n       <use style=\"stroke:#000000;stroke-width:0.8;\" x=\"39.65\" xlink:href=\"#m1def9e9af8\" y=\"296.13062\"/>\r\n      </g>\r\n     </g>\r\n     <g id=\"text_10\">\r\n      <!-- 500 -->\r\n      <g transform=\"translate(13.5625 299.929839)scale(0.1 -0.1)\">\r\n       <use xlink:href=\"#DejaVuSans-53\"/>\r\n       <use x=\"63.623047\" xlink:href=\"#DejaVuSans-48\"/>\r\n       <use x=\"127.246094\" xlink:href=\"#DejaVuSans-48\"/>\r\n      </g>\r\n     </g>\r\n    </g>\r\n    <g id=\"ytick_2\">\r\n     <g id=\"line2d_10\">\r\n      <g>\r\n       <use style=\"stroke:#000000;stroke-width:0.8;\" x=\"39.65\" xlink:href=\"#m1def9e9af8\" y=\"258.028707\"/>\r\n      </g>\r\n     </g>\r\n     <g id=\"text_11\">\r\n      <!-- 1000 -->\r\n      <g transform=\"translate(7.2 261.827926)scale(0.1 -0.1)\">\r\n       <use xlink:href=\"#DejaVuSans-49\"/>\r\n       <use x=\"63.623047\" xlink:href=\"#DejaVuSans-48\"/>\r\n       <use x=\"127.246094\" xlink:href=\"#DejaVuSans-48\"/>\r\n       <use x=\"190.869141\" xlink:href=\"#DejaVuSans-48\"/>\r\n      </g>\r\n     </g>\r\n    </g>\r\n    <g id=\"ytick_3\">\r\n     <g id=\"line2d_11\">\r\n      <g>\r\n       <use style=\"stroke:#000000;stroke-width:0.8;\" x=\"39.65\" xlink:href=\"#m1def9e9af8\" y=\"219.926793\"/>\r\n      </g>\r\n     </g>\r\n     <g id=\"text_12\">\r\n      <!-- 1500 -->\r\n      <g transform=\"translate(7.2 223.726012)scale(0.1 -0.1)\">\r\n       <use xlink:href=\"#DejaVuSans-49\"/>\r\n       <use x=\"63.623047\" xlink:href=\"#DejaVuSans-53\"/>\r\n       <use x=\"127.246094\" xlink:href=\"#DejaVuSans-48\"/>\r\n       <use x=\"190.869141\" xlink:href=\"#DejaVuSans-48\"/>\r\n      </g>\r\n     </g>\r\n    </g>\r\n    <g id=\"ytick_4\">\r\n     <g id=\"line2d_12\">\r\n      <g>\r\n       <use style=\"stroke:#000000;stroke-width:0.8;\" x=\"39.65\" xlink:href=\"#m1def9e9af8\" y=\"181.82488\"/>\r\n      </g>\r\n     </g>\r\n     <g id=\"text_13\">\r\n      <!-- 2000 -->\r\n      <g transform=\"translate(7.2 185.624099)scale(0.1 -0.1)\">\r\n       <use xlink:href=\"#DejaVuSans-50\"/>\r\n       <use x=\"63.623047\" xlink:href=\"#DejaVuSans-48\"/>\r\n       <use x=\"127.246094\" xlink:href=\"#DejaVuSans-48\"/>\r\n       <use x=\"190.869141\" xlink:href=\"#DejaVuSans-48\"/>\r\n      </g>\r\n     </g>\r\n    </g>\r\n    <g id=\"ytick_5\">\r\n     <g id=\"line2d_13\">\r\n      <g>\r\n       <use style=\"stroke:#000000;stroke-width:0.8;\" x=\"39.65\" xlink:href=\"#m1def9e9af8\" y=\"143.722966\"/>\r\n      </g>\r\n     </g>\r\n     <g id=\"text_14\">\r\n      <!-- 2500 -->\r\n      <g transform=\"translate(7.2 147.522185)scale(0.1 -0.1)\">\r\n       <use xlink:href=\"#DejaVuSans-50\"/>\r\n       <use x=\"63.623047\" xlink:href=\"#DejaVuSans-53\"/>\r\n       <use x=\"127.246094\" xlink:href=\"#DejaVuSans-48\"/>\r\n       <use x=\"190.869141\" xlink:href=\"#DejaVuSans-48\"/>\r\n      </g>\r\n     </g>\r\n    </g>\r\n    <g id=\"ytick_6\">\r\n     <g id=\"line2d_14\">\r\n      <g>\r\n       <use style=\"stroke:#000000;stroke-width:0.8;\" x=\"39.65\" xlink:href=\"#m1def9e9af8\" y=\"105.621053\"/>\r\n      </g>\r\n     </g>\r\n     <g id=\"text_15\">\r\n      <!-- 3000 -->\r\n      <g transform=\"translate(7.2 109.420272)scale(0.1 -0.1)\">\r\n       <defs>\r\n        <path d=\"M 40.578125 39.3125 \r\nQ 47.65625 37.796875 51.625 33 \r\nQ 55.609375 28.21875 55.609375 21.1875 \r\nQ 55.609375 10.40625 48.1875 4.484375 \r\nQ 40.765625 -1.421875 27.09375 -1.421875 \r\nQ 22.515625 -1.421875 17.65625 -0.515625 \r\nQ 12.796875 0.390625 7.625 2.203125 \r\nL 7.625 11.71875 \r\nQ 11.71875 9.328125 16.59375 8.109375 \r\nQ 21.484375 6.890625 26.8125 6.890625 \r\nQ 36.078125 6.890625 40.9375 10.546875 \r\nQ 45.796875 14.203125 45.796875 21.1875 \r\nQ 45.796875 27.640625 41.28125 31.265625 \r\nQ 36.765625 34.90625 28.71875 34.90625 \r\nL 20.21875 34.90625 \r\nL 20.21875 43.015625 \r\nL 29.109375 43.015625 \r\nQ 36.375 43.015625 40.234375 45.921875 \r\nQ 44.09375 48.828125 44.09375 54.296875 \r\nQ 44.09375 59.90625 40.109375 62.90625 \r\nQ 36.140625 65.921875 28.71875 65.921875 \r\nQ 24.65625 65.921875 20.015625 65.03125 \r\nQ 15.375 64.15625 9.8125 62.3125 \r\nL 9.8125 71.09375 \r\nQ 15.4375 72.65625 20.34375 73.4375 \r\nQ 25.25 74.21875 29.59375 74.21875 \r\nQ 40.828125 74.21875 47.359375 69.109375 \r\nQ 53.90625 64.015625 53.90625 55.328125 \r\nQ 53.90625 49.265625 50.4375 45.09375 \r\nQ 46.96875 40.921875 40.578125 39.3125 \r\nz\r\n\" id=\"DejaVuSans-51\"/>\r\n       </defs>\r\n       <use xlink:href=\"#DejaVuSans-51\"/>\r\n       <use x=\"63.623047\" xlink:href=\"#DejaVuSans-48\"/>\r\n       <use x=\"127.246094\" xlink:href=\"#DejaVuSans-48\"/>\r\n       <use x=\"190.869141\" xlink:href=\"#DejaVuSans-48\"/>\r\n      </g>\r\n     </g>\r\n    </g>\r\n    <g id=\"ytick_7\">\r\n     <g id=\"line2d_15\">\r\n      <g>\r\n       <use style=\"stroke:#000000;stroke-width:0.8;\" x=\"39.65\" xlink:href=\"#m1def9e9af8\" y=\"67.519139\"/>\r\n      </g>\r\n     </g>\r\n     <g id=\"text_16\">\r\n      <!-- 3500 -->\r\n      <g transform=\"translate(7.2 71.318358)scale(0.1 -0.1)\">\r\n       <use xlink:href=\"#DejaVuSans-51\"/>\r\n       <use x=\"63.623047\" xlink:href=\"#DejaVuSans-53\"/>\r\n       <use x=\"127.246094\" xlink:href=\"#DejaVuSans-48\"/>\r\n       <use x=\"190.869141\" xlink:href=\"#DejaVuSans-48\"/>\r\n      </g>\r\n     </g>\r\n    </g>\r\n    <g id=\"ytick_8\">\r\n     <g id=\"line2d_16\">\r\n      <g>\r\n       <use style=\"stroke:#000000;stroke-width:0.8;\" x=\"39.65\" xlink:href=\"#m1def9e9af8\" y=\"29.417226\"/>\r\n      </g>\r\n     </g>\r\n     <g id=\"text_17\">\r\n      <!-- 4000 -->\r\n      <g transform=\"translate(7.2 33.216445)scale(0.1 -0.1)\">\r\n       <defs>\r\n        <path d=\"M 37.796875 64.3125 \r\nL 12.890625 25.390625 \r\nL 37.796875 25.390625 \r\nz\r\nM 35.203125 72.90625 \r\nL 47.609375 72.90625 \r\nL 47.609375 25.390625 \r\nL 58.015625 25.390625 \r\nL 58.015625 17.1875 \r\nL 47.609375 17.1875 \r\nL 47.609375 0 \r\nL 37.796875 0 \r\nL 37.796875 17.1875 \r\nL 4.890625 17.1875 \r\nL 4.890625 26.703125 \r\nz\r\n\" id=\"DejaVuSans-52\"/>\r\n       </defs>\r\n       <use xlink:href=\"#DejaVuSans-52\"/>\r\n       <use x=\"63.623047\" xlink:href=\"#DejaVuSans-48\"/>\r\n       <use x=\"127.246094\" xlink:href=\"#DejaVuSans-48\"/>\r\n       <use x=\"190.869141\" xlink:href=\"#DejaVuSans-48\"/>\r\n      </g>\r\n     </g>\r\n    </g>\r\n   </g>\r\n   <g id=\"line2d_17\">\r\n    <path clip-path=\"url(#pf598a43f68)\" d=\"M 95.45 318.534545 \r\nL 154.186842 290.415333 \r\nL 212.923684 214.744933 \r\nL 271.660526 95.790759 \r\nL 330.397368 22.025455 \r\nL 389.134211 134.883322 \r\nL 447.871053 147.685565 \r\nL 506.607895 132.902023 \r\nL 565.344737 147.609361 \r\nL 624.081579 154.54391 \r\nL 682.818421 125.586455 \r\nL 741.555263 62.94691 \r\nL 800.292105 62.032464 \r\nL 859.028947 42.905303 \r\nL 917.765789 81.46444 \r\nL 976.502632 124.748213 \r\nL 1035.239474 163.383554 \r\nL 1093.976316 199.046945 \r\nL 1152.713158 234.634132 \r\nL 1211.45 266.030109 \r\n\" style=\"fill:none;stroke:#1f77b4;stroke-linecap:square;stroke-width:1.5;\"/>\r\n   </g>\r\n   <g id=\"patch_3\">\r\n    <path d=\"M 39.65 333.36 \r\nL 39.65 7.2 \r\n\" style=\"fill:none;stroke:#000000;stroke-linecap:square;stroke-linejoin:miter;stroke-width:0.8;\"/>\r\n   </g>\r\n   <g id=\"patch_4\">\r\n    <path d=\"M 1267.25 333.36 \r\nL 1267.25 7.2 \r\n\" style=\"fill:none;stroke:#000000;stroke-linecap:square;stroke-linejoin:miter;stroke-width:0.8;\"/>\r\n   </g>\r\n   <g id=\"patch_5\">\r\n    <path d=\"M 39.65 333.36 \r\nL 1267.25 333.36 \r\n\" style=\"fill:none;stroke:#000000;stroke-linecap:square;stroke-linejoin:miter;stroke-width:0.8;\"/>\r\n   </g>\r\n   <g id=\"patch_6\">\r\n    <path d=\"M 39.65 7.2 \r\nL 1267.25 7.2 \r\n\" style=\"fill:none;stroke:#000000;stroke-linecap:square;stroke-linejoin:miter;stroke-width:0.8;\"/>\r\n   </g>\r\n   <g id=\"legend_1\">\r\n    <g id=\"patch_7\">\r\n     <path d=\"M 1190.164063 29.878125 \r\nL 1260.25 29.878125 \r\nQ 1262.25 29.878125 1262.25 27.878125 \r\nL 1262.25 14.2 \r\nQ 1262.25 12.2 1260.25 12.2 \r\nL 1190.164063 12.2 \r\nQ 1188.164063 12.2 1188.164063 14.2 \r\nL 1188.164063 27.878125 \r\nQ 1188.164063 29.878125 1190.164063 29.878125 \r\nz\r\n\" style=\"fill:#ffffff;opacity:0.8;stroke:#cccccc;stroke-linejoin:miter;\"/>\r\n    </g>\r\n    <g id=\"line2d_18\">\r\n     <path d=\"M 1192.164063 20.298437 \r\nL 1212.164063 20.298437 \r\n\" style=\"fill:none;stroke:#1f77b4;stroke-linecap:square;stroke-width:1.5;\"/>\r\n    </g>\r\n    <g id=\"line2d_19\"/>\r\n    <g id=\"text_18\">\r\n     <!-- dummy -->\r\n     <g transform=\"translate(1220.164063 23.798437)scale(0.1 -0.1)\">\r\n      <defs>\r\n       <path d=\"M 45.40625 46.390625 \r\nL 45.40625 75.984375 \r\nL 54.390625 75.984375 \r\nL 54.390625 0 \r\nL 45.40625 0 \r\nL 45.40625 8.203125 \r\nQ 42.578125 3.328125 38.25 0.953125 \r\nQ 33.9375 -1.421875 27.875 -1.421875 \r\nQ 17.96875 -1.421875 11.734375 6.484375 \r\nQ 5.515625 14.40625 5.515625 27.296875 \r\nQ 5.515625 40.1875 11.734375 48.09375 \r\nQ 17.96875 56 27.875 56 \r\nQ 33.9375 56 38.25 53.625 \r\nQ 42.578125 51.265625 45.40625 46.390625 \r\nz\r\nM 14.796875 27.296875 \r\nQ 14.796875 17.390625 18.875 11.75 \r\nQ 22.953125 6.109375 30.078125 6.109375 \r\nQ 37.203125 6.109375 41.296875 11.75 \r\nQ 45.40625 17.390625 45.40625 27.296875 \r\nQ 45.40625 37.203125 41.296875 42.84375 \r\nQ 37.203125 48.484375 30.078125 48.484375 \r\nQ 22.953125 48.484375 18.875 42.84375 \r\nQ 14.796875 37.203125 14.796875 27.296875 \r\nz\r\n\" id=\"DejaVuSans-100\"/>\r\n       <path d=\"M 52 44.1875 \r\nQ 55.375 50.25 60.0625 53.125 \r\nQ 64.75 56 71.09375 56 \r\nQ 79.640625 56 84.28125 50.015625 \r\nQ 88.921875 44.046875 88.921875 33.015625 \r\nL 88.921875 0 \r\nL 79.890625 0 \r\nL 79.890625 32.71875 \r\nQ 79.890625 40.578125 77.09375 44.375 \r\nQ 74.3125 48.1875 68.609375 48.1875 \r\nQ 61.625 48.1875 57.5625 43.546875 \r\nQ 53.515625 38.921875 53.515625 30.90625 \r\nL 53.515625 0 \r\nL 44.484375 0 \r\nL 44.484375 32.71875 \r\nQ 44.484375 40.625 41.703125 44.40625 \r\nQ 38.921875 48.1875 33.109375 48.1875 \r\nQ 26.21875 48.1875 22.15625 43.53125 \r\nQ 18.109375 38.875 18.109375 30.90625 \r\nL 18.109375 0 \r\nL 9.078125 0 \r\nL 9.078125 54.6875 \r\nL 18.109375 54.6875 \r\nL 18.109375 46.1875 \r\nQ 21.1875 51.21875 25.484375 53.609375 \r\nQ 29.78125 56 35.6875 56 \r\nQ 41.65625 56 45.828125 52.96875 \r\nQ 50 49.953125 52 44.1875 \r\nz\r\n\" id=\"DejaVuSans-109\"/>\r\n       <path d=\"M 32.171875 -5.078125 \r\nQ 28.375 -14.84375 24.75 -17.8125 \r\nQ 21.140625 -20.796875 15.09375 -20.796875 \r\nL 7.90625 -20.796875 \r\nL 7.90625 -13.28125 \r\nL 13.1875 -13.28125 \r\nQ 16.890625 -13.28125 18.9375 -11.515625 \r\nQ 21 -9.765625 23.484375 -3.21875 \r\nL 25.09375 0.875 \r\nL 2.984375 54.6875 \r\nL 12.5 54.6875 \r\nL 29.59375 11.921875 \r\nL 46.6875 54.6875 \r\nL 56.203125 54.6875 \r\nz\r\n\" id=\"DejaVuSans-121\"/>\r\n      </defs>\r\n      <use xlink:href=\"#DejaVuSans-100\"/>\r\n      <use x=\"63.476562\" xlink:href=\"#DejaVuSans-117\"/>\r\n      <use x=\"126.855469\" xlink:href=\"#DejaVuSans-109\"/>\r\n      <use x=\"224.267578\" xlink:href=\"#DejaVuSans-109\"/>\r\n      <use x=\"321.679688\" xlink:href=\"#DejaVuSans-121\"/>\r\n     </g>\r\n    </g>\r\n   </g>\r\n  </g>\r\n </g>\r\n <defs>\r\n  <clipPath id=\"pf598a43f68\">\r\n   <rect height=\"326.16\" width=\"1227.6\" x=\"39.65\" y=\"7.2\"/>\r\n  </clipPath>\r\n </defs>\r\n</svg>\r\n",
      "image/png": "[encoded data removed]"
     },
     "metadata": {
      "needs_background": "light"
     }
    }
   ],
   "source": [
    "counts_by_time.plot(x='hour',y='dummy',figsize=(22,6))\n",
    "plt.show()"
   ]
  },
  {
   "cell_type": "code",
   "execution_count": 15,
   "metadata": {},
   "outputs": [
    {
     "output_type": "execute_result",
     "data": {
      "text/plain": [
       "<AxesSubplot:xlabel='hour', ylabel='count'>"
      ]
     },
     "metadata": {},
     "execution_count": 15
    },
    {
     "output_type": "display_data",
     "data": {
      "text/plain": "<Figure size 1440x432 with 1 Axes>",
      "image/svg+xml": "<?xml version=\"1.0\" encoding=\"utf-8\" standalone=\"no\"?>\r\n<!DOCTYPE svg PUBLIC \"-//W3C//DTD SVG 1.1//EN\"\r\n  \"http://www.w3.org/Graphics/SVG/1.1/DTD/svg11.dtd\">\r\n<!-- Created with matplotlib (https://matplotlib.org/) -->\r\n<svg height=\"370.91625pt\" version=\"1.1\" viewBox=\"0 0 1176.528125 370.91625\" width=\"1176.528125pt\" xmlns=\"http://www.w3.org/2000/svg\" xmlns:xlink=\"http://www.w3.org/1999/xlink\">\r\n <metadata>\r\n  <rdf:RDF xmlns:cc=\"http://creativecommons.org/ns#\" xmlns:dc=\"http://purl.org/dc/elements/1.1/\" xmlns:rdf=\"http://www.w3.org/1999/02/22-rdf-syntax-ns#\">\r\n   <cc:Work>\r\n    <dc:type rdf:resource=\"http://purl.org/dc/dcmitype/StillImage\"/>\r\n    <dc:date>2021-05-05T20:30:35.348334</dc:date>\r\n    <dc:format>image/svg+xml</dc:format>\r\n    <dc:creator>\r\n     <cc:Agent>\r\n      <dc:title>Matplotlib v3.3.2, https://matplotlib.org/</dc:title>\r\n     </cc:Agent>\r\n    </dc:creator>\r\n   </cc:Work>\r\n  </rdf:RDF>\r\n </metadata>\r\n <defs>\r\n  <style type=\"text/css\">*{stroke-linecap:butt;stroke-linejoin:round;}</style>\r\n </defs>\r\n <g id=\"figure_1\">\r\n  <g id=\"patch_1\">\r\n   <path d=\"M 0 370.91625 \r\nL 1176.528125 370.91625 \r\nL 1176.528125 0 \r\nL 0 0 \r\nz\r\n\" style=\"fill:none;\"/>\r\n  </g>\r\n  <g id=\"axes_1\">\r\n   <g id=\"patch_2\">\r\n    <path d=\"M 53.328125 333.36 \r\nL 1169.328125 333.36 \r\nL 1169.328125 7.2 \r\nL 53.328125 7.2 \r\nz\r\n\" style=\"fill:#ffffff;\"/>\r\n   </g>\r\n   <g id=\"patch_3\">\r\n    <path clip-path=\"url(#p57c9d7f2f6)\" d=\"M 58.908125 333.36 \r\nL 103.548125 333.36 \r\nL 103.548125 317.74138 \r\nL 58.908125 317.74138 \r\nz\r\n\" style=\"fill:#ea96a3;\"/>\r\n   </g>\r\n   <g id=\"patch_4\">\r\n    <path clip-path=\"url(#p57c9d7f2f6)\" d=\"M 114.708125 333.36 \r\nL 159.348125 333.36 \r\nL 159.348125 289.764338 \r\nL 114.708125 289.764338 \r\nz\r\n\" style=\"fill:#e79683;\"/>\r\n   </g>\r\n   <g id=\"patch_5\">\r\n    <path clip-path=\"url(#p57c9d7f2f6)\" d=\"M 170.508125 333.36 \r\nL 215.148125 333.36 \r\nL 215.148125 214.476524 \r\nL 170.508125 214.476524 \r\nz\r\n\" style=\"fill:#d7944e;\"/>\r\n   </g>\r\n   <g id=\"patch_6\">\r\n    <path clip-path=\"url(#p57c9d7f2f6)\" d=\"M 226.308125 333.36 \r\nL 270.948125 333.36 \r\nL 270.948125 96.123778 \r\nL 226.308125 96.123778 \r\nz\r\n\" style=\"fill:#bf9a4a;\"/>\r\n   </g>\r\n   <g id=\"patch_7\">\r\n    <path clip-path=\"url(#p57c9d7f2f6)\" d=\"M 282.108125 333.36 \r\nL 326.748125 333.36 \r\nL 326.748125 22.731429 \r\nL 282.108125 22.731429 \r\nz\r\n\" style=\"fill:#ab9e47;\"/>\r\n   </g>\r\n   <g id=\"patch_8\">\r\n    <path clip-path=\"url(#p57c9d7f2f6)\" d=\"M 337.908125 333.36 \r\nL 382.548125 333.36 \r\nL 382.548125 135.018691 \r\nL 337.908125 135.018691 \r\nz\r\n\" style=\"fill:#98a246;\"/>\r\n   </g>\r\n   <g id=\"patch_9\">\r\n    <path clip-path=\"url(#p57c9d7f2f6)\" d=\"M 393.708125 333.36 \r\nL 438.348125 333.36 \r\nL 438.348125 147.756206 \r\nL 393.708125 147.756206 \r\nz\r\n\" style=\"fill:#7fa946;\"/>\r\n   </g>\r\n   <g id=\"patch_10\">\r\n    <path clip-path=\"url(#p57c9d7f2f6)\" d=\"M 449.508125 333.36 \r\nL 494.148125 333.36 \r\nL 494.148125 133.047409 \r\nL 449.508125 133.047409 \r\nz\r\n\" style=\"fill:#48b052;\"/>\r\n   </g>\r\n   <g id=\"patch_11\">\r\n    <path clip-path=\"url(#p57c9d7f2f6)\" d=\"M 505.308125 333.36 \r\nL 549.948125 333.36 \r\nL 549.948125 147.680388 \r\nL 505.308125 147.680388 \r\nz\r\n\" style=\"fill:#49ae83;\"/>\r\n   </g>\r\n   <g id=\"patch_12\">\r\n    <path clip-path=\"url(#p57c9d7f2f6)\" d=\"M 561.108125 333.36 \r\nL 605.748125 333.36 \r\nL 605.748125 154.579875 \r\nL 561.108125 154.579875 \r\nz\r\n\" style=\"fill:#4aad96;\"/>\r\n   </g>\r\n   <g id=\"patch_13\">\r\n    <path clip-path=\"url(#p57c9d7f2f6)\" d=\"M 616.908125 333.36 \r\nL 661.548125 333.36 \r\nL 661.548125 125.768829 \r\nL 616.908125 125.768829 \r\nz\r\n\" style=\"fill:#4baba4;\"/>\r\n   </g>\r\n   <g id=\"patch_14\">\r\n    <path clip-path=\"url(#p57c9d7f2f6)\" d=\"M 672.708125 333.36 \r\nL 717.348125 333.36 \r\nL 717.348125 63.445986 \r\nL 672.708125 63.445986 \r\nz\r\n\" style=\"fill:#4dabb2;\"/>\r\n   </g>\r\n   <g id=\"patch_15\">\r\n    <path clip-path=\"url(#p57c9d7f2f6)\" d=\"M 728.508125 333.36 \r\nL 773.148125 333.36 \r\nL 773.148125 62.536164 \r\nL 728.508125 62.536164 \r\nz\r\n\" style=\"fill:#50acc3;\"/>\r\n   </g>\r\n   <g id=\"patch_16\">\r\n    <path clip-path=\"url(#p57c9d7f2f6)\" d=\"M 784.308125 333.36 \r\nL 828.948125 333.36 \r\nL 828.948125 43.505709 \r\nL 784.308125 43.505709 \r\nz\r\n\" style=\"fill:#56addb;\"/>\r\n   </g>\r\n   <g id=\"patch_17\">\r\n    <path clip-path=\"url(#p57c9d7f2f6)\" d=\"M 840.108125 333.36 \r\nL 884.748125 333.36 \r\nL 884.748125 81.869892 \r\nL 840.108125 81.869892 \r\nz\r\n\" style=\"fill:#94aee8;\"/>\r\n   </g>\r\n   <g id=\"patch_18\">\r\n    <path clip-path=\"url(#p57c9d7f2f6)\" d=\"M 895.908125 333.36 \r\nL 940.548125 333.36 \r\nL 940.548125 124.934825 \r\nL 895.908125 124.934825 \r\nz\r\n\" style=\"fill:#b6a8eb;\"/>\r\n   </g>\r\n   <g id=\"patch_19\">\r\n    <path clip-path=\"url(#p57c9d7f2f6)\" d=\"M 951.708125 333.36 \r\nL 996.348125 333.36 \r\nL 996.348125 163.374826 \r\nL 951.708125 163.374826 \r\nz\r\n\" style=\"fill:#ce9be9;\"/>\r\n   </g>\r\n   <g id=\"patch_20\">\r\n    <path clip-path=\"url(#p57c9d7f2f6)\" d=\"M 1007.508125 333.36 \r\nL 1052.148125 333.36 \r\nL 1052.148125 198.857904 \r\nL 1007.508125 198.857904 \r\nz\r\n\" style=\"fill:#e689e4;\"/>\r\n   </g>\r\n   <g id=\"patch_21\">\r\n    <path clip-path=\"url(#p57c9d7f2f6)\" d=\"M 1063.308125 333.36 \r\nL 1107.948125 333.36 \r\nL 1107.948125 234.265164 \r\nL 1063.308125 234.265164 \r\nz\r\n\" style=\"fill:#e88fcc;\"/>\r\n   </g>\r\n   <g id=\"patch_22\">\r\n    <path clip-path=\"url(#p57c9d7f2f6)\" d=\"M 1119.108125 333.36 \r\nL 1163.748125 333.36 \r\nL 1163.748125 265.502404 \r\nL 1119.108125 265.502404 \r\nz\r\n\" style=\"fill:#e993b9;\"/>\r\n   </g>\r\n   <g id=\"matplotlib.axis_1\">\r\n    <g id=\"xtick_1\">\r\n     <g id=\"line2d_1\">\r\n      <defs>\r\n       <path d=\"M 0 0 \r\nL 0 3.5 \r\n\" id=\"m5201dc1fd5\" style=\"stroke:#000000;stroke-width:0.8;\"/>\r\n      </defs>\r\n      <g>\r\n       <use style=\"stroke:#000000;stroke-width:0.8;\" x=\"81.228125\" xlink:href=\"#m5201dc1fd5\" y=\"333.36\"/>\r\n      </g>\r\n     </g>\r\n     <g id=\"text_1\">\r\n      <!-- 4 -->\r\n      <g transform=\"translate(78.046875 347.958438)scale(0.1 -0.1)\">\r\n       <defs>\r\n        <path d=\"M 37.796875 64.3125 \r\nL 12.890625 25.390625 \r\nL 37.796875 25.390625 \r\nz\r\nM 35.203125 72.90625 \r\nL 47.609375 72.90625 \r\nL 47.609375 25.390625 \r\nL 58.015625 25.390625 \r\nL 58.015625 17.1875 \r\nL 47.609375 17.1875 \r\nL 47.609375 0 \r\nL 37.796875 0 \r\nL 37.796875 17.1875 \r\nL 4.890625 17.1875 \r\nL 4.890625 26.703125 \r\nz\r\n\" id=\"DejaVuSans-52\"/>\r\n       </defs>\r\n       <use xlink:href=\"#DejaVuSans-52\"/>\r\n      </g>\r\n     </g>\r\n    </g>\r\n    <g id=\"xtick_2\">\r\n     <g id=\"line2d_2\">\r\n      <g>\r\n       <use style=\"stroke:#000000;stroke-width:0.8;\" x=\"137.028125\" xlink:href=\"#m5201dc1fd5\" y=\"333.36\"/>\r\n      </g>\r\n     </g>\r\n     <g id=\"text_2\">\r\n      <!-- 5 -->\r\n      <g transform=\"translate(133.846875 347.958438)scale(0.1 -0.1)\">\r\n       <defs>\r\n        <path d=\"M 10.796875 72.90625 \r\nL 49.515625 72.90625 \r\nL 49.515625 64.59375 \r\nL 19.828125 64.59375 \r\nL 19.828125 46.734375 \r\nQ 21.96875 47.46875 24.109375 47.828125 \r\nQ 26.265625 48.1875 28.421875 48.1875 \r\nQ 40.625 48.1875 47.75 41.5 \r\nQ 54.890625 34.8125 54.890625 23.390625 \r\nQ 54.890625 11.625 47.5625 5.09375 \r\nQ 40.234375 -1.421875 26.90625 -1.421875 \r\nQ 22.3125 -1.421875 17.546875 -0.640625 \r\nQ 12.796875 0.140625 7.71875 1.703125 \r\nL 7.71875 11.625 \r\nQ 12.109375 9.234375 16.796875 8.0625 \r\nQ 21.484375 6.890625 26.703125 6.890625 \r\nQ 35.15625 6.890625 40.078125 11.328125 \r\nQ 45.015625 15.765625 45.015625 23.390625 \r\nQ 45.015625 31 40.078125 35.4375 \r\nQ 35.15625 39.890625 26.703125 39.890625 \r\nQ 22.75 39.890625 18.8125 39.015625 \r\nQ 14.890625 38.140625 10.796875 36.28125 \r\nz\r\n\" id=\"DejaVuSans-53\"/>\r\n       </defs>\r\n       <use xlink:href=\"#DejaVuSans-53\"/>\r\n      </g>\r\n     </g>\r\n    </g>\r\n    <g id=\"xtick_3\">\r\n     <g id=\"line2d_3\">\r\n      <g>\r\n       <use style=\"stroke:#000000;stroke-width:0.8;\" x=\"192.828125\" xlink:href=\"#m5201dc1fd5\" y=\"333.36\"/>\r\n      </g>\r\n     </g>\r\n     <g id=\"text_3\">\r\n      <!-- 6 -->\r\n      <g transform=\"translate(189.646875 347.958438)scale(0.1 -0.1)\">\r\n       <defs>\r\n        <path d=\"M 33.015625 40.375 \r\nQ 26.375 40.375 22.484375 35.828125 \r\nQ 18.609375 31.296875 18.609375 23.390625 \r\nQ 18.609375 15.53125 22.484375 10.953125 \r\nQ 26.375 6.390625 33.015625 6.390625 \r\nQ 39.65625 6.390625 43.53125 10.953125 \r\nQ 47.40625 15.53125 47.40625 23.390625 \r\nQ 47.40625 31.296875 43.53125 35.828125 \r\nQ 39.65625 40.375 33.015625 40.375 \r\nz\r\nM 52.59375 71.296875 \r\nL 52.59375 62.3125 \r\nQ 48.875 64.0625 45.09375 64.984375 \r\nQ 41.3125 65.921875 37.59375 65.921875 \r\nQ 27.828125 65.921875 22.671875 59.328125 \r\nQ 17.53125 52.734375 16.796875 39.40625 \r\nQ 19.671875 43.65625 24.015625 45.921875 \r\nQ 28.375 48.1875 33.59375 48.1875 \r\nQ 44.578125 48.1875 50.953125 41.515625 \r\nQ 57.328125 34.859375 57.328125 23.390625 \r\nQ 57.328125 12.15625 50.6875 5.359375 \r\nQ 44.046875 -1.421875 33.015625 -1.421875 \r\nQ 20.359375 -1.421875 13.671875 8.265625 \r\nQ 6.984375 17.96875 6.984375 36.375 \r\nQ 6.984375 53.65625 15.1875 63.9375 \r\nQ 23.390625 74.21875 37.203125 74.21875 \r\nQ 40.921875 74.21875 44.703125 73.484375 \r\nQ 48.484375 72.75 52.59375 71.296875 \r\nz\r\n\" id=\"DejaVuSans-54\"/>\r\n       </defs>\r\n       <use xlink:href=\"#DejaVuSans-54\"/>\r\n      </g>\r\n     </g>\r\n    </g>\r\n    <g id=\"xtick_4\">\r\n     <g id=\"line2d_4\">\r\n      <g>\r\n       <use style=\"stroke:#000000;stroke-width:0.8;\" x=\"248.628125\" xlink:href=\"#m5201dc1fd5\" y=\"333.36\"/>\r\n      </g>\r\n     </g>\r\n     <g id=\"text_4\">\r\n      <!-- 7 -->\r\n      <g transform=\"translate(245.446875 347.958438)scale(0.1 -0.1)\">\r\n       <defs>\r\n        <path d=\"M 8.203125 72.90625 \r\nL 55.078125 72.90625 \r\nL 55.078125 68.703125 \r\nL 28.609375 0 \r\nL 18.3125 0 \r\nL 43.21875 64.59375 \r\nL 8.203125 64.59375 \r\nz\r\n\" id=\"DejaVuSans-55\"/>\r\n       </defs>\r\n       <use xlink:href=\"#DejaVuSans-55\"/>\r\n      </g>\r\n     </g>\r\n    </g>\r\n    <g id=\"xtick_5\">\r\n     <g id=\"line2d_5\">\r\n      <g>\r\n       <use style=\"stroke:#000000;stroke-width:0.8;\" x=\"304.428125\" xlink:href=\"#m5201dc1fd5\" y=\"333.36\"/>\r\n      </g>\r\n     </g>\r\n     <g id=\"text_5\">\r\n      <!-- 8 -->\r\n      <g transform=\"translate(301.246875 347.958438)scale(0.1 -0.1)\">\r\n       <defs>\r\n        <path d=\"M 31.78125 34.625 \r\nQ 24.75 34.625 20.71875 30.859375 \r\nQ 16.703125 27.09375 16.703125 20.515625 \r\nQ 16.703125 13.921875 20.71875 10.15625 \r\nQ 24.75 6.390625 31.78125 6.390625 \r\nQ 38.8125 6.390625 42.859375 10.171875 \r\nQ 46.921875 13.96875 46.921875 20.515625 \r\nQ 46.921875 27.09375 42.890625 30.859375 \r\nQ 38.875 34.625 31.78125 34.625 \r\nz\r\nM 21.921875 38.8125 \r\nQ 15.578125 40.375 12.03125 44.71875 \r\nQ 8.5 49.078125 8.5 55.328125 \r\nQ 8.5 64.0625 14.71875 69.140625 \r\nQ 20.953125 74.21875 31.78125 74.21875 \r\nQ 42.671875 74.21875 48.875 69.140625 \r\nQ 55.078125 64.0625 55.078125 55.328125 \r\nQ 55.078125 49.078125 51.53125 44.71875 \r\nQ 48 40.375 41.703125 38.8125 \r\nQ 48.828125 37.15625 52.796875 32.3125 \r\nQ 56.78125 27.484375 56.78125 20.515625 \r\nQ 56.78125 9.90625 50.3125 4.234375 \r\nQ 43.84375 -1.421875 31.78125 -1.421875 \r\nQ 19.734375 -1.421875 13.25 4.234375 \r\nQ 6.78125 9.90625 6.78125 20.515625 \r\nQ 6.78125 27.484375 10.78125 32.3125 \r\nQ 14.796875 37.15625 21.921875 38.8125 \r\nz\r\nM 18.3125 54.390625 \r\nQ 18.3125 48.734375 21.84375 45.5625 \r\nQ 25.390625 42.390625 31.78125 42.390625 \r\nQ 38.140625 42.390625 41.71875 45.5625 \r\nQ 45.3125 48.734375 45.3125 54.390625 \r\nQ 45.3125 60.0625 41.71875 63.234375 \r\nQ 38.140625 66.40625 31.78125 66.40625 \r\nQ 25.390625 66.40625 21.84375 63.234375 \r\nQ 18.3125 60.0625 18.3125 54.390625 \r\nz\r\n\" id=\"DejaVuSans-56\"/>\r\n       </defs>\r\n       <use xlink:href=\"#DejaVuSans-56\"/>\r\n      </g>\r\n     </g>\r\n    </g>\r\n    <g id=\"xtick_6\">\r\n     <g id=\"line2d_6\">\r\n      <g>\r\n       <use style=\"stroke:#000000;stroke-width:0.8;\" x=\"360.228125\" xlink:href=\"#m5201dc1fd5\" y=\"333.36\"/>\r\n      </g>\r\n     </g>\r\n     <g id=\"text_6\">\r\n      <!-- 9 -->\r\n      <g transform=\"translate(357.046875 347.958438)scale(0.1 -0.1)\">\r\n       <defs>\r\n        <path d=\"M 10.984375 1.515625 \r\nL 10.984375 10.5 \r\nQ 14.703125 8.734375 18.5 7.8125 \r\nQ 22.3125 6.890625 25.984375 6.890625 \r\nQ 35.75 6.890625 40.890625 13.453125 \r\nQ 46.046875 20.015625 46.78125 33.40625 \r\nQ 43.953125 29.203125 39.59375 26.953125 \r\nQ 35.25 24.703125 29.984375 24.703125 \r\nQ 19.046875 24.703125 12.671875 31.3125 \r\nQ 6.296875 37.9375 6.296875 49.421875 \r\nQ 6.296875 60.640625 12.9375 67.421875 \r\nQ 19.578125 74.21875 30.609375 74.21875 \r\nQ 43.265625 74.21875 49.921875 64.515625 \r\nQ 56.59375 54.828125 56.59375 36.375 \r\nQ 56.59375 19.140625 48.40625 8.859375 \r\nQ 40.234375 -1.421875 26.421875 -1.421875 \r\nQ 22.703125 -1.421875 18.890625 -0.6875 \r\nQ 15.09375 0.046875 10.984375 1.515625 \r\nz\r\nM 30.609375 32.421875 \r\nQ 37.25 32.421875 41.125 36.953125 \r\nQ 45.015625 41.5 45.015625 49.421875 \r\nQ 45.015625 57.28125 41.125 61.84375 \r\nQ 37.25 66.40625 30.609375 66.40625 \r\nQ 23.96875 66.40625 20.09375 61.84375 \r\nQ 16.21875 57.28125 16.21875 49.421875 \r\nQ 16.21875 41.5 20.09375 36.953125 \r\nQ 23.96875 32.421875 30.609375 32.421875 \r\nz\r\n\" id=\"DejaVuSans-57\"/>\r\n       </defs>\r\n       <use xlink:href=\"#DejaVuSans-57\"/>\r\n      </g>\r\n     </g>\r\n    </g>\r\n    <g id=\"xtick_7\">\r\n     <g id=\"line2d_7\">\r\n      <g>\r\n       <use style=\"stroke:#000000;stroke-width:0.8;\" x=\"416.028125\" xlink:href=\"#m5201dc1fd5\" y=\"333.36\"/>\r\n      </g>\r\n     </g>\r\n     <g id=\"text_7\">\r\n      <!-- 10 -->\r\n      <g transform=\"translate(409.665625 347.958438)scale(0.1 -0.1)\">\r\n       <defs>\r\n        <path d=\"M 12.40625 8.296875 \r\nL 28.515625 8.296875 \r\nL 28.515625 63.921875 \r\nL 10.984375 60.40625 \r\nL 10.984375 69.390625 \r\nL 28.421875 72.90625 \r\nL 38.28125 72.90625 \r\nL 38.28125 8.296875 \r\nL 54.390625 8.296875 \r\nL 54.390625 0 \r\nL 12.40625 0 \r\nz\r\n\" id=\"DejaVuSans-49\"/>\r\n        <path d=\"M 31.78125 66.40625 \r\nQ 24.171875 66.40625 20.328125 58.90625 \r\nQ 16.5 51.421875 16.5 36.375 \r\nQ 16.5 21.390625 20.328125 13.890625 \r\nQ 24.171875 6.390625 31.78125 6.390625 \r\nQ 39.453125 6.390625 43.28125 13.890625 \r\nQ 47.125 21.390625 47.125 36.375 \r\nQ 47.125 51.421875 43.28125 58.90625 \r\nQ 39.453125 66.40625 31.78125 66.40625 \r\nz\r\nM 31.78125 74.21875 \r\nQ 44.046875 74.21875 50.515625 64.515625 \r\nQ 56.984375 54.828125 56.984375 36.375 \r\nQ 56.984375 17.96875 50.515625 8.265625 \r\nQ 44.046875 -1.421875 31.78125 -1.421875 \r\nQ 19.53125 -1.421875 13.0625 8.265625 \r\nQ 6.59375 17.96875 6.59375 36.375 \r\nQ 6.59375 54.828125 13.0625 64.515625 \r\nQ 19.53125 74.21875 31.78125 74.21875 \r\nz\r\n\" id=\"DejaVuSans-48\"/>\r\n       </defs>\r\n       <use xlink:href=\"#DejaVuSans-49\"/>\r\n       <use x=\"63.623047\" xlink:href=\"#DejaVuSans-48\"/>\r\n      </g>\r\n     </g>\r\n    </g>\r\n    <g id=\"xtick_8\">\r\n     <g id=\"line2d_8\">\r\n      <g>\r\n       <use style=\"stroke:#000000;stroke-width:0.8;\" x=\"471.828125\" xlink:href=\"#m5201dc1fd5\" y=\"333.36\"/>\r\n      </g>\r\n     </g>\r\n     <g id=\"text_8\">\r\n      <!-- 11 -->\r\n      <g transform=\"translate(465.465625 347.958438)scale(0.1 -0.1)\">\r\n       <use xlink:href=\"#DejaVuSans-49\"/>\r\n       <use x=\"63.623047\" xlink:href=\"#DejaVuSans-49\"/>\r\n      </g>\r\n     </g>\r\n    </g>\r\n    <g id=\"xtick_9\">\r\n     <g id=\"line2d_9\">\r\n      <g>\r\n       <use style=\"stroke:#000000;stroke-width:0.8;\" x=\"527.628125\" xlink:href=\"#m5201dc1fd5\" y=\"333.36\"/>\r\n      </g>\r\n     </g>\r\n     <g id=\"text_9\">\r\n      <!-- 12 -->\r\n      <g transform=\"translate(521.265625 347.958438)scale(0.1 -0.1)\">\r\n       <defs>\r\n        <path d=\"M 19.1875 8.296875 \r\nL 53.609375 8.296875 \r\nL 53.609375 0 \r\nL 7.328125 0 \r\nL 7.328125 8.296875 \r\nQ 12.9375 14.109375 22.625 23.890625 \r\nQ 32.328125 33.6875 34.8125 36.53125 \r\nQ 39.546875 41.84375 41.421875 45.53125 \r\nQ 43.3125 49.21875 43.3125 52.78125 \r\nQ 43.3125 58.59375 39.234375 62.25 \r\nQ 35.15625 65.921875 28.609375 65.921875 \r\nQ 23.96875 65.921875 18.8125 64.3125 \r\nQ 13.671875 62.703125 7.8125 59.421875 \r\nL 7.8125 69.390625 \r\nQ 13.765625 71.78125 18.9375 73 \r\nQ 24.125 74.21875 28.421875 74.21875 \r\nQ 39.75 74.21875 46.484375 68.546875 \r\nQ 53.21875 62.890625 53.21875 53.421875 \r\nQ 53.21875 48.921875 51.53125 44.890625 \r\nQ 49.859375 40.875 45.40625 35.40625 \r\nQ 44.1875 33.984375 37.640625 27.21875 \r\nQ 31.109375 20.453125 19.1875 8.296875 \r\nz\r\n\" id=\"DejaVuSans-50\"/>\r\n       </defs>\r\n       <use xlink:href=\"#DejaVuSans-49\"/>\r\n       <use x=\"63.623047\" xlink:href=\"#DejaVuSans-50\"/>\r\n      </g>\r\n     </g>\r\n    </g>\r\n    <g id=\"xtick_10\">\r\n     <g id=\"line2d_10\">\r\n      <g>\r\n       <use style=\"stroke:#000000;stroke-width:0.8;\" x=\"583.428125\" xlink:href=\"#m5201dc1fd5\" y=\"333.36\"/>\r\n      </g>\r\n     </g>\r\n     <g id=\"text_10\">\r\n      <!-- 13 -->\r\n      <g transform=\"translate(577.065625 347.958438)scale(0.1 -0.1)\">\r\n       <defs>\r\n        <path d=\"M 40.578125 39.3125 \r\nQ 47.65625 37.796875 51.625 33 \r\nQ 55.609375 28.21875 55.609375 21.1875 \r\nQ 55.609375 10.40625 48.1875 4.484375 \r\nQ 40.765625 -1.421875 27.09375 -1.421875 \r\nQ 22.515625 -1.421875 17.65625 -0.515625 \r\nQ 12.796875 0.390625 7.625 2.203125 \r\nL 7.625 11.71875 \r\nQ 11.71875 9.328125 16.59375 8.109375 \r\nQ 21.484375 6.890625 26.8125 6.890625 \r\nQ 36.078125 6.890625 40.9375 10.546875 \r\nQ 45.796875 14.203125 45.796875 21.1875 \r\nQ 45.796875 27.640625 41.28125 31.265625 \r\nQ 36.765625 34.90625 28.71875 34.90625 \r\nL 20.21875 34.90625 \r\nL 20.21875 43.015625 \r\nL 29.109375 43.015625 \r\nQ 36.375 43.015625 40.234375 45.921875 \r\nQ 44.09375 48.828125 44.09375 54.296875 \r\nQ 44.09375 59.90625 40.109375 62.90625 \r\nQ 36.140625 65.921875 28.71875 65.921875 \r\nQ 24.65625 65.921875 20.015625 65.03125 \r\nQ 15.375 64.15625 9.8125 62.3125 \r\nL 9.8125 71.09375 \r\nQ 15.4375 72.65625 20.34375 73.4375 \r\nQ 25.25 74.21875 29.59375 74.21875 \r\nQ 40.828125 74.21875 47.359375 69.109375 \r\nQ 53.90625 64.015625 53.90625 55.328125 \r\nQ 53.90625 49.265625 50.4375 45.09375 \r\nQ 46.96875 40.921875 40.578125 39.3125 \r\nz\r\n\" id=\"DejaVuSans-51\"/>\r\n       </defs>\r\n       <use xlink:href=\"#DejaVuSans-49\"/>\r\n       <use x=\"63.623047\" xlink:href=\"#DejaVuSans-51\"/>\r\n      </g>\r\n     </g>\r\n    </g>\r\n    <g id=\"xtick_11\">\r\n     <g id=\"line2d_11\">\r\n      <g>\r\n       <use style=\"stroke:#000000;stroke-width:0.8;\" x=\"639.228125\" xlink:href=\"#m5201dc1fd5\" y=\"333.36\"/>\r\n      </g>\r\n     </g>\r\n     <g id=\"text_11\">\r\n      <!-- 14 -->\r\n      <g transform=\"translate(632.865625 347.958438)scale(0.1 -0.1)\">\r\n       <use xlink:href=\"#DejaVuSans-49\"/>\r\n       <use x=\"63.623047\" xlink:href=\"#DejaVuSans-52\"/>\r\n      </g>\r\n     </g>\r\n    </g>\r\n    <g id=\"xtick_12\">\r\n     <g id=\"line2d_12\">\r\n      <g>\r\n       <use style=\"stroke:#000000;stroke-width:0.8;\" x=\"695.028125\" xlink:href=\"#m5201dc1fd5\" y=\"333.36\"/>\r\n      </g>\r\n     </g>\r\n     <g id=\"text_12\">\r\n      <!-- 15 -->\r\n      <g transform=\"translate(688.665625 347.958438)scale(0.1 -0.1)\">\r\n       <use xlink:href=\"#DejaVuSans-49\"/>\r\n       <use x=\"63.623047\" xlink:href=\"#DejaVuSans-53\"/>\r\n      </g>\r\n     </g>\r\n    </g>\r\n    <g id=\"xtick_13\">\r\n     <g id=\"line2d_13\">\r\n      <g>\r\n       <use style=\"stroke:#000000;stroke-width:0.8;\" x=\"750.828125\" xlink:href=\"#m5201dc1fd5\" y=\"333.36\"/>\r\n      </g>\r\n     </g>\r\n     <g id=\"text_13\">\r\n      <!-- 16 -->\r\n      <g transform=\"translate(744.465625 347.958438)scale(0.1 -0.1)\">\r\n       <use xlink:href=\"#DejaVuSans-49\"/>\r\n       <use x=\"63.623047\" xlink:href=\"#DejaVuSans-54\"/>\r\n      </g>\r\n     </g>\r\n    </g>\r\n    <g id=\"xtick_14\">\r\n     <g id=\"line2d_14\">\r\n      <g>\r\n       <use style=\"stroke:#000000;stroke-width:0.8;\" x=\"806.628125\" xlink:href=\"#m5201dc1fd5\" y=\"333.36\"/>\r\n      </g>\r\n     </g>\r\n     <g id=\"text_14\">\r\n      <!-- 17 -->\r\n      <g transform=\"translate(800.265625 347.958438)scale(0.1 -0.1)\">\r\n       <use xlink:href=\"#DejaVuSans-49\"/>\r\n       <use x=\"63.623047\" xlink:href=\"#DejaVuSans-55\"/>\r\n      </g>\r\n     </g>\r\n    </g>\r\n    <g id=\"xtick_15\">\r\n     <g id=\"line2d_15\">\r\n      <g>\r\n       <use style=\"stroke:#000000;stroke-width:0.8;\" x=\"862.428125\" xlink:href=\"#m5201dc1fd5\" y=\"333.36\"/>\r\n      </g>\r\n     </g>\r\n     <g id=\"text_15\">\r\n      <!-- 18 -->\r\n      <g transform=\"translate(856.065625 347.958438)scale(0.1 -0.1)\">\r\n       <use xlink:href=\"#DejaVuSans-49\"/>\r\n       <use x=\"63.623047\" xlink:href=\"#DejaVuSans-56\"/>\r\n      </g>\r\n     </g>\r\n    </g>\r\n    <g id=\"xtick_16\">\r\n     <g id=\"line2d_16\">\r\n      <g>\r\n       <use style=\"stroke:#000000;stroke-width:0.8;\" x=\"918.228125\" xlink:href=\"#m5201dc1fd5\" y=\"333.36\"/>\r\n      </g>\r\n     </g>\r\n     <g id=\"text_16\">\r\n      <!-- 19 -->\r\n      <g transform=\"translate(911.865625 347.958438)scale(0.1 -0.1)\">\r\n       <use xlink:href=\"#DejaVuSans-49\"/>\r\n       <use x=\"63.623047\" xlink:href=\"#DejaVuSans-57\"/>\r\n      </g>\r\n     </g>\r\n    </g>\r\n    <g id=\"xtick_17\">\r\n     <g id=\"line2d_17\">\r\n      <g>\r\n       <use style=\"stroke:#000000;stroke-width:0.8;\" x=\"974.028125\" xlink:href=\"#m5201dc1fd5\" y=\"333.36\"/>\r\n      </g>\r\n     </g>\r\n     <g id=\"text_17\">\r\n      <!-- 20 -->\r\n      <g transform=\"translate(967.665625 347.958438)scale(0.1 -0.1)\">\r\n       <use xlink:href=\"#DejaVuSans-50\"/>\r\n       <use x=\"63.623047\" xlink:href=\"#DejaVuSans-48\"/>\r\n      </g>\r\n     </g>\r\n    </g>\r\n    <g id=\"xtick_18\">\r\n     <g id=\"line2d_18\">\r\n      <g>\r\n       <use style=\"stroke:#000000;stroke-width:0.8;\" x=\"1029.828125\" xlink:href=\"#m5201dc1fd5\" y=\"333.36\"/>\r\n      </g>\r\n     </g>\r\n     <g id=\"text_18\">\r\n      <!-- 21 -->\r\n      <g transform=\"translate(1023.465625 347.958438)scale(0.1 -0.1)\">\r\n       <use xlink:href=\"#DejaVuSans-50\"/>\r\n       <use x=\"63.623047\" xlink:href=\"#DejaVuSans-49\"/>\r\n      </g>\r\n     </g>\r\n    </g>\r\n    <g id=\"xtick_19\">\r\n     <g id=\"line2d_19\">\r\n      <g>\r\n       <use style=\"stroke:#000000;stroke-width:0.8;\" x=\"1085.628125\" xlink:href=\"#m5201dc1fd5\" y=\"333.36\"/>\r\n      </g>\r\n     </g>\r\n     <g id=\"text_19\">\r\n      <!-- 22 -->\r\n      <g transform=\"translate(1079.265625 347.958438)scale(0.1 -0.1)\">\r\n       <use xlink:href=\"#DejaVuSans-50\"/>\r\n       <use x=\"63.623047\" xlink:href=\"#DejaVuSans-50\"/>\r\n      </g>\r\n     </g>\r\n    </g>\r\n    <g id=\"xtick_20\">\r\n     <g id=\"line2d_20\">\r\n      <g>\r\n       <use style=\"stroke:#000000;stroke-width:0.8;\" x=\"1141.428125\" xlink:href=\"#m5201dc1fd5\" y=\"333.36\"/>\r\n      </g>\r\n     </g>\r\n     <g id=\"text_20\">\r\n      <!-- 23 -->\r\n      <g transform=\"translate(1135.065625 347.958438)scale(0.1 -0.1)\">\r\n       <use xlink:href=\"#DejaVuSans-50\"/>\r\n       <use x=\"63.623047\" xlink:href=\"#DejaVuSans-51\"/>\r\n      </g>\r\n     </g>\r\n    </g>\r\n    <g id=\"text_21\">\r\n     <!-- hour -->\r\n     <g transform=\"translate(599.875781 361.636563)scale(0.1 -0.1)\">\r\n      <defs>\r\n       <path d=\"M 54.890625 33.015625 \r\nL 54.890625 0 \r\nL 45.90625 0 \r\nL 45.90625 32.71875 \r\nQ 45.90625 40.484375 42.875 44.328125 \r\nQ 39.84375 48.1875 33.796875 48.1875 \r\nQ 26.515625 48.1875 22.3125 43.546875 \r\nQ 18.109375 38.921875 18.109375 30.90625 \r\nL 18.109375 0 \r\nL 9.078125 0 \r\nL 9.078125 75.984375 \r\nL 18.109375 75.984375 \r\nL 18.109375 46.1875 \r\nQ 21.34375 51.125 25.703125 53.5625 \r\nQ 30.078125 56 35.796875 56 \r\nQ 45.21875 56 50.046875 50.171875 \r\nQ 54.890625 44.34375 54.890625 33.015625 \r\nz\r\n\" id=\"DejaVuSans-104\"/>\r\n       <path d=\"M 30.609375 48.390625 \r\nQ 23.390625 48.390625 19.1875 42.75 \r\nQ 14.984375 37.109375 14.984375 27.296875 \r\nQ 14.984375 17.484375 19.15625 11.84375 \r\nQ 23.34375 6.203125 30.609375 6.203125 \r\nQ 37.796875 6.203125 41.984375 11.859375 \r\nQ 46.1875 17.53125 46.1875 27.296875 \r\nQ 46.1875 37.015625 41.984375 42.703125 \r\nQ 37.796875 48.390625 30.609375 48.390625 \r\nz\r\nM 30.609375 56 \r\nQ 42.328125 56 49.015625 48.375 \r\nQ 55.71875 40.765625 55.71875 27.296875 \r\nQ 55.71875 13.875 49.015625 6.21875 \r\nQ 42.328125 -1.421875 30.609375 -1.421875 \r\nQ 18.84375 -1.421875 12.171875 6.21875 \r\nQ 5.515625 13.875 5.515625 27.296875 \r\nQ 5.515625 40.765625 12.171875 48.375 \r\nQ 18.84375 56 30.609375 56 \r\nz\r\n\" id=\"DejaVuSans-111\"/>\r\n       <path d=\"M 8.5 21.578125 \r\nL 8.5 54.6875 \r\nL 17.484375 54.6875 \r\nL 17.484375 21.921875 \r\nQ 17.484375 14.15625 20.5 10.265625 \r\nQ 23.53125 6.390625 29.59375 6.390625 \r\nQ 36.859375 6.390625 41.078125 11.03125 \r\nQ 45.3125 15.671875 45.3125 23.6875 \r\nL 45.3125 54.6875 \r\nL 54.296875 54.6875 \r\nL 54.296875 0 \r\nL 45.3125 0 \r\nL 45.3125 8.40625 \r\nQ 42.046875 3.421875 37.71875 1 \r\nQ 33.40625 -1.421875 27.6875 -1.421875 \r\nQ 18.265625 -1.421875 13.375 4.4375 \r\nQ 8.5 10.296875 8.5 21.578125 \r\nz\r\nM 31.109375 56 \r\nz\r\n\" id=\"DejaVuSans-117\"/>\r\n       <path d=\"M 41.109375 46.296875 \r\nQ 39.59375 47.171875 37.8125 47.578125 \r\nQ 36.03125 48 33.890625 48 \r\nQ 26.265625 48 22.1875 43.046875 \r\nQ 18.109375 38.09375 18.109375 28.8125 \r\nL 18.109375 0 \r\nL 9.078125 0 \r\nL 9.078125 54.6875 \r\nL 18.109375 54.6875 \r\nL 18.109375 46.1875 \r\nQ 20.953125 51.171875 25.484375 53.578125 \r\nQ 30.03125 56 36.53125 56 \r\nQ 37.453125 56 38.578125 55.875 \r\nQ 39.703125 55.765625 41.0625 55.515625 \r\nz\r\n\" id=\"DejaVuSans-114\"/>\r\n      </defs>\r\n      <use xlink:href=\"#DejaVuSans-104\"/>\r\n      <use x=\"63.378906\" xlink:href=\"#DejaVuSans-111\"/>\r\n      <use x=\"124.560547\" xlink:href=\"#DejaVuSans-117\"/>\r\n      <use x=\"187.939453\" xlink:href=\"#DejaVuSans-114\"/>\r\n     </g>\r\n    </g>\r\n   </g>\r\n   <g id=\"matplotlib.axis_2\">\r\n    <g id=\"ytick_1\">\r\n     <g id=\"line2d_21\">\r\n      <defs>\r\n       <path d=\"M 0 0 \r\nL -3.5 0 \r\n\" id=\"m44ed82b7fb\" style=\"stroke:#000000;stroke-width:0.8;\"/>\r\n      </defs>\r\n      <g>\r\n       <use style=\"stroke:#000000;stroke-width:0.8;\" x=\"53.328125\" xlink:href=\"#m44ed82b7fb\" y=\"333.36\"/>\r\n      </g>\r\n     </g>\r\n     <g id=\"text_22\">\r\n      <!-- 0 -->\r\n      <g transform=\"translate(39.965625 337.159219)scale(0.1 -0.1)\">\r\n       <use xlink:href=\"#DejaVuSans-48\"/>\r\n      </g>\r\n     </g>\r\n    </g>\r\n    <g id=\"ytick_2\">\r\n     <g id=\"line2d_22\">\r\n      <g>\r\n       <use style=\"stroke:#000000;stroke-width:0.8;\" x=\"53.328125\" xlink:href=\"#m44ed82b7fb\" y=\"295.450728\"/>\r\n      </g>\r\n     </g>\r\n     <g id=\"text_23\">\r\n      <!-- 500 -->\r\n      <g transform=\"translate(27.240625 299.249947)scale(0.1 -0.1)\">\r\n       <use xlink:href=\"#DejaVuSans-53\"/>\r\n       <use x=\"63.623047\" xlink:href=\"#DejaVuSans-48\"/>\r\n       <use x=\"127.246094\" xlink:href=\"#DejaVuSans-48\"/>\r\n      </g>\r\n     </g>\r\n    </g>\r\n    <g id=\"ytick_3\">\r\n     <g id=\"line2d_23\">\r\n      <g>\r\n       <use style=\"stroke:#000000;stroke-width:0.8;\" x=\"53.328125\" xlink:href=\"#m44ed82b7fb\" y=\"257.541457\"/>\r\n      </g>\r\n     </g>\r\n     <g id=\"text_24\">\r\n      <!-- 1000 -->\r\n      <g transform=\"translate(20.878125 261.340676)scale(0.1 -0.1)\">\r\n       <use xlink:href=\"#DejaVuSans-49\"/>\r\n       <use x=\"63.623047\" xlink:href=\"#DejaVuSans-48\"/>\r\n       <use x=\"127.246094\" xlink:href=\"#DejaVuSans-48\"/>\r\n       <use x=\"190.869141\" xlink:href=\"#DejaVuSans-48\"/>\r\n      </g>\r\n     </g>\r\n    </g>\r\n    <g id=\"ytick_4\">\r\n     <g id=\"line2d_24\">\r\n      <g>\r\n       <use style=\"stroke:#000000;stroke-width:0.8;\" x=\"53.328125\" xlink:href=\"#m44ed82b7fb\" y=\"219.632185\"/>\r\n      </g>\r\n     </g>\r\n     <g id=\"text_25\">\r\n      <!-- 1500 -->\r\n      <g transform=\"translate(20.878125 223.431404)scale(0.1 -0.1)\">\r\n       <use xlink:href=\"#DejaVuSans-49\"/>\r\n       <use x=\"63.623047\" xlink:href=\"#DejaVuSans-53\"/>\r\n       <use x=\"127.246094\" xlink:href=\"#DejaVuSans-48\"/>\r\n       <use x=\"190.869141\" xlink:href=\"#DejaVuSans-48\"/>\r\n      </g>\r\n     </g>\r\n    </g>\r\n    <g id=\"ytick_5\">\r\n     <g id=\"line2d_25\">\r\n      <g>\r\n       <use style=\"stroke:#000000;stroke-width:0.8;\" x=\"53.328125\" xlink:href=\"#m44ed82b7fb\" y=\"181.722914\"/>\r\n      </g>\r\n     </g>\r\n     <g id=\"text_26\">\r\n      <!-- 2000 -->\r\n      <g transform=\"translate(20.878125 185.522132)scale(0.1 -0.1)\">\r\n       <use xlink:href=\"#DejaVuSans-50\"/>\r\n       <use x=\"63.623047\" xlink:href=\"#DejaVuSans-48\"/>\r\n       <use x=\"127.246094\" xlink:href=\"#DejaVuSans-48\"/>\r\n       <use x=\"190.869141\" xlink:href=\"#DejaVuSans-48\"/>\r\n      </g>\r\n     </g>\r\n    </g>\r\n    <g id=\"ytick_6\">\r\n     <g id=\"line2d_26\">\r\n      <g>\r\n       <use style=\"stroke:#000000;stroke-width:0.8;\" x=\"53.328125\" xlink:href=\"#m44ed82b7fb\" y=\"143.813642\"/>\r\n      </g>\r\n     </g>\r\n     <g id=\"text_27\">\r\n      <!-- 2500 -->\r\n      <g transform=\"translate(20.878125 147.612861)scale(0.1 -0.1)\">\r\n       <use xlink:href=\"#DejaVuSans-50\"/>\r\n       <use x=\"63.623047\" xlink:href=\"#DejaVuSans-53\"/>\r\n       <use x=\"127.246094\" xlink:href=\"#DejaVuSans-48\"/>\r\n       <use x=\"190.869141\" xlink:href=\"#DejaVuSans-48\"/>\r\n      </g>\r\n     </g>\r\n    </g>\r\n    <g id=\"ytick_7\">\r\n     <g id=\"line2d_27\">\r\n      <g>\r\n       <use style=\"stroke:#000000;stroke-width:0.8;\" x=\"53.328125\" xlink:href=\"#m44ed82b7fb\" y=\"105.90437\"/>\r\n      </g>\r\n     </g>\r\n     <g id=\"text_28\">\r\n      <!-- 3000 -->\r\n      <g transform=\"translate(20.878125 109.703589)scale(0.1 -0.1)\">\r\n       <use xlink:href=\"#DejaVuSans-51\"/>\r\n       <use x=\"63.623047\" xlink:href=\"#DejaVuSans-48\"/>\r\n       <use x=\"127.246094\" xlink:href=\"#DejaVuSans-48\"/>\r\n       <use x=\"190.869141\" xlink:href=\"#DejaVuSans-48\"/>\r\n      </g>\r\n     </g>\r\n    </g>\r\n    <g id=\"ytick_8\">\r\n     <g id=\"line2d_28\">\r\n      <g>\r\n       <use style=\"stroke:#000000;stroke-width:0.8;\" x=\"53.328125\" xlink:href=\"#m44ed82b7fb\" y=\"67.995099\"/>\r\n      </g>\r\n     </g>\r\n     <g id=\"text_29\">\r\n      <!-- 3500 -->\r\n      <g transform=\"translate(20.878125 71.794318)scale(0.1 -0.1)\">\r\n       <use xlink:href=\"#DejaVuSans-51\"/>\r\n       <use x=\"63.623047\" xlink:href=\"#DejaVuSans-53\"/>\r\n       <use x=\"127.246094\" xlink:href=\"#DejaVuSans-48\"/>\r\n       <use x=\"190.869141\" xlink:href=\"#DejaVuSans-48\"/>\r\n      </g>\r\n     </g>\r\n    </g>\r\n    <g id=\"ytick_9\">\r\n     <g id=\"line2d_29\">\r\n      <g>\r\n       <use style=\"stroke:#000000;stroke-width:0.8;\" x=\"53.328125\" xlink:href=\"#m44ed82b7fb\" y=\"30.085827\"/>\r\n      </g>\r\n     </g>\r\n     <g id=\"text_30\">\r\n      <!-- 4000 -->\r\n      <g transform=\"translate(20.878125 33.885046)scale(0.1 -0.1)\">\r\n       <use xlink:href=\"#DejaVuSans-52\"/>\r\n       <use x=\"63.623047\" xlink:href=\"#DejaVuSans-48\"/>\r\n       <use x=\"127.246094\" xlink:href=\"#DejaVuSans-48\"/>\r\n       <use x=\"190.869141\" xlink:href=\"#DejaVuSans-48\"/>\r\n      </g>\r\n     </g>\r\n    </g>\r\n    <g id=\"text_31\">\r\n     <!-- count -->\r\n     <g transform=\"translate(14.798437 184.38625)rotate(-90)scale(0.1 -0.1)\">\r\n      <defs>\r\n       <path d=\"M 48.78125 52.59375 \r\nL 48.78125 44.1875 \r\nQ 44.96875 46.296875 41.140625 47.34375 \r\nQ 37.3125 48.390625 33.40625 48.390625 \r\nQ 24.65625 48.390625 19.8125 42.84375 \r\nQ 14.984375 37.3125 14.984375 27.296875 \r\nQ 14.984375 17.28125 19.8125 11.734375 \r\nQ 24.65625 6.203125 33.40625 6.203125 \r\nQ 37.3125 6.203125 41.140625 7.25 \r\nQ 44.96875 8.296875 48.78125 10.40625 \r\nL 48.78125 2.09375 \r\nQ 45.015625 0.34375 40.984375 -0.53125 \r\nQ 36.96875 -1.421875 32.421875 -1.421875 \r\nQ 20.0625 -1.421875 12.78125 6.34375 \r\nQ 5.515625 14.109375 5.515625 27.296875 \r\nQ 5.515625 40.671875 12.859375 48.328125 \r\nQ 20.21875 56 33.015625 56 \r\nQ 37.15625 56 41.109375 55.140625 \r\nQ 45.0625 54.296875 48.78125 52.59375 \r\nz\r\n\" id=\"DejaVuSans-99\"/>\r\n       <path d=\"M 54.890625 33.015625 \r\nL 54.890625 0 \r\nL 45.90625 0 \r\nL 45.90625 32.71875 \r\nQ 45.90625 40.484375 42.875 44.328125 \r\nQ 39.84375 48.1875 33.796875 48.1875 \r\nQ 26.515625 48.1875 22.3125 43.546875 \r\nQ 18.109375 38.921875 18.109375 30.90625 \r\nL 18.109375 0 \r\nL 9.078125 0 \r\nL 9.078125 54.6875 \r\nL 18.109375 54.6875 \r\nL 18.109375 46.1875 \r\nQ 21.34375 51.125 25.703125 53.5625 \r\nQ 30.078125 56 35.796875 56 \r\nQ 45.21875 56 50.046875 50.171875 \r\nQ 54.890625 44.34375 54.890625 33.015625 \r\nz\r\n\" id=\"DejaVuSans-110\"/>\r\n       <path d=\"M 18.3125 70.21875 \r\nL 18.3125 54.6875 \r\nL 36.8125 54.6875 \r\nL 36.8125 47.703125 \r\nL 18.3125 47.703125 \r\nL 18.3125 18.015625 \r\nQ 18.3125 11.328125 20.140625 9.421875 \r\nQ 21.96875 7.515625 27.59375 7.515625 \r\nL 36.8125 7.515625 \r\nL 36.8125 0 \r\nL 27.59375 0 \r\nQ 17.1875 0 13.234375 3.875 \r\nQ 9.28125 7.765625 9.28125 18.015625 \r\nL 9.28125 47.703125 \r\nL 2.6875 47.703125 \r\nL 2.6875 54.6875 \r\nL 9.28125 54.6875 \r\nL 9.28125 70.21875 \r\nz\r\n\" id=\"DejaVuSans-116\"/>\r\n      </defs>\r\n      <use xlink:href=\"#DejaVuSans-99\"/>\r\n      <use x=\"54.980469\" xlink:href=\"#DejaVuSans-111\"/>\r\n      <use x=\"116.162109\" xlink:href=\"#DejaVuSans-117\"/>\r\n      <use x=\"179.541016\" xlink:href=\"#DejaVuSans-110\"/>\r\n      <use x=\"242.919922\" xlink:href=\"#DejaVuSans-116\"/>\r\n     </g>\r\n    </g>\r\n   </g>\r\n   <g id=\"patch_23\">\r\n    <path d=\"M 53.328125 333.36 \r\nL 53.328125 7.2 \r\n\" style=\"fill:none;stroke:#000000;stroke-linecap:square;stroke-linejoin:miter;stroke-width:0.8;\"/>\r\n   </g>\r\n   <g id=\"patch_24\">\r\n    <path d=\"M 1169.328125 333.36 \r\nL 1169.328125 7.2 \r\n\" style=\"fill:none;stroke:#000000;stroke-linecap:square;stroke-linejoin:miter;stroke-width:0.8;\"/>\r\n   </g>\r\n   <g id=\"patch_25\">\r\n    <path d=\"M 53.328125 333.36 \r\nL 1169.328125 333.36 \r\n\" style=\"fill:none;stroke:#000000;stroke-linecap:square;stroke-linejoin:miter;stroke-width:0.8;\"/>\r\n   </g>\r\n   <g id=\"patch_26\">\r\n    <path d=\"M 53.328125 7.2 \r\nL 1169.328125 7.2 \r\n\" style=\"fill:none;stroke:#000000;stroke-linecap:square;stroke-linejoin:miter;stroke-width:0.8;\"/>\r\n   </g>\r\n  </g>\r\n </g>\r\n <defs>\r\n  <clipPath id=\"p57c9d7f2f6\">\r\n   <rect height=\"326.16\" width=\"1116\" x=\"53.328125\" y=\"7.2\"/>\r\n  </clipPath>\r\n </defs>\r\n</svg>\r\n",
      "image/png": "[encoded data removed]"
     },
     "metadata": {
      "needs_background": "light"
     }
    }
   ],
   "source": [
    "plt.figure(figsize=(20,6))\n",
    "sns.countplot(x='hour', data=TTS_time)"
   ]
  },
  {
   "source": [
    "Read Parking Tickets File and Join them by Hour to TTS trips"
   ],
   "cell_type": "markdown",
   "metadata": {}
  },
  {
   "cell_type": "code",
   "execution_count": 18,
   "metadata": {},
   "outputs": [],
   "source": [
    "tickets2012_dir = \"C:\\\\Users\\\\stefy\\\\OneDrive - University of Waterloo\\\\Work Term Report 3 - Parking\\\\Datasets\\\\Toronto\\\\Adam's parking tickets 2012\\\\\"\n",
    "tickets2012_file = \"total_geocoded_records_2012_joined_TTSzone_of_interest.csv\"\n",
    "tickets2012 = pd.read_csv(tickets2012_dir+tickets2012_file)"
   ]
  },
  {
   "cell_type": "code",
   "execution_count": 26,
   "metadata": {},
   "outputs": [],
   "source": [
    "def get_hour(x):\n",
    "    if str(x)[0].isdigit()==False:\n",
    "        x=-1\n",
    "\n",
    "    x= int(x)\n",
    "    x = str(int(x))\n",
    "    hour=0\n",
    "    min=0\n",
    "    if len(x)==1:\n",
    "        min=x\n",
    "    if len(x)==2:\n",
    "        min=x\n",
    "    if len(x)==3:\n",
    "        hour=x[0]\n",
    "        min = x[1:]\n",
    "    if len(x)==4:\n",
    "        hour=x[0:2]\n",
    "        min=x[2:]\n",
    "    if int(min)>60 or int(hour)>24:\n",
    "        \n",
    "        print('error in interpretation')\n",
    "        print('hour is '+str(hour)+' and minutes is '+ str(min))\n",
    "        hour=-1\n",
    "    return int(hour) "
   ]
  },
  {
   "cell_type": "code",
   "execution_count": 43,
   "metadata": {},
   "outputs": [
    {
     "output_type": "execute_result",
     "data": {
      "text/plain": [
       "           x          y      Rcode  Prescode Geocode Method tag_number_masked  \\\n",
       "0 -79.392354  43.650181  115010101        10    GeoPinPoint          ***89654   \n",
       "1 -79.378374  43.656802  111010101        10    GeoPinPoint          ***51221   \n",
       "2 -79.393422  43.652641  111010101        15    GeoPinPoint          ***22541   \n",
       "3 -79.400032  43.652777  111010101        10    GeoPinPoint          ***67490   \n",
       "4 -79.393422  43.652641  111010101        15    GeoPinPoint          ***57035   \n",
       "\n",
       "   date_of_infraction  infraction_code          infraction_description  \\\n",
       "0            20120722              384  STOP VEH OTR THN BCYCL-BYCL LN   \n",
       "1            20120612                9    STOP HWY PROHIBITED TIME/DAY   \n",
       "2            20120401              210    PARK FAIL TO DISPLAY RECEIPT   \n",
       "3            20120228                5    PARK HWY PROHIBITED TIME/DAY   \n",
       "4            20121013               29  PARK PROHIBITED TIME NO PERMIT   \n",
       "\n",
       "   set_fine_amount  ...  province Ticket_Data_Original_municipality gta06  \\\n",
       "0               60  ...        ON                           Toronto    67   \n",
       "1               60  ...        ON                           Toronto    38   \n",
       "2               30  ...        ON                           Toronto    67   \n",
       "3               40  ...        ON                           Toronto    75   \n",
       "4               30  ...        ON                           Toronto    67   \n",
       "\n",
       "  NUMPOINTS hour  year  month  day  formatted_date  day_name  \n",
       "0     11840   17  2012      7   22      2012-07-22    Sunday  \n",
       "1     11877   23  2012      6   12      2012-06-12   Tuesday  \n",
       "2     11840   13  2012      4    1      2012-04-01    Sunday  \n",
       "3      9766   14  2012      2   28      2012-02-28   Tuesday  \n",
       "4     11840    0  2012     10   13      2012-10-13  Saturday  \n",
       "\n",
       "[5 rows x 23 columns]"
      ],
      "text/html": "<div>\n<style scoped>\n    .dataframe tbody tr th:only-of-type {\n        vertical-align: middle;\n    }\n\n    .dataframe tbody tr th {\n        vertical-align: top;\n    }\n\n    .dataframe thead th {\n        text-align: right;\n    }\n</style>\n<table border=\"1\" class=\"dataframe\">\n  <thead>\n    <tr style=\"text-align: right;\">\n      <th></th>\n      <th>x</th>\n      <th>y</th>\n      <th>Rcode</th>\n      <th>Prescode</th>\n      <th>Geocode Method</th>\n      <th>tag_number_masked</th>\n      <th>date_of_infraction</th>\n      <th>infraction_code</th>\n      <th>infraction_description</th>\n      <th>set_fine_amount</th>\n      <th>...</th>\n      <th>province</th>\n      <th>Ticket_Data_Original_municipality</th>\n      <th>gta06</th>\n      <th>NUMPOINTS</th>\n      <th>hour</th>\n      <th>year</th>\n      <th>month</th>\n      <th>day</th>\n      <th>formatted_date</th>\n      <th>day_name</th>\n    </tr>\n  </thead>\n  <tbody>\n    <tr>\n      <th>0</th>\n      <td>-79.392354</td>\n      <td>43.650181</td>\n      <td>115010101</td>\n      <td>10</td>\n      <td>GeoPinPoint</td>\n      <td>***89654</td>\n      <td>20120722</td>\n      <td>384</td>\n      <td>STOP VEH OTR THN BCYCL-BYCL LN</td>\n      <td>60</td>\n      <td>...</td>\n      <td>ON</td>\n      <td>Toronto</td>\n      <td>67</td>\n      <td>11840</td>\n      <td>17</td>\n      <td>2012</td>\n      <td>7</td>\n      <td>22</td>\n      <td>2012-07-22</td>\n      <td>Sunday</td>\n    </tr>\n    <tr>\n      <th>1</th>\n      <td>-79.378374</td>\n      <td>43.656802</td>\n      <td>111010101</td>\n      <td>10</td>\n      <td>GeoPinPoint</td>\n      <td>***51221</td>\n      <td>20120612</td>\n      <td>9</td>\n      <td>STOP HWY PROHIBITED TIME/DAY</td>\n      <td>60</td>\n      <td>...</td>\n      <td>ON</td>\n      <td>Toronto</td>\n      <td>38</td>\n      <td>11877</td>\n      <td>23</td>\n      <td>2012</td>\n      <td>6</td>\n      <td>12</td>\n      <td>2012-06-12</td>\n      <td>Tuesday</td>\n    </tr>\n    <tr>\n      <th>2</th>\n      <td>-79.393422</td>\n      <td>43.652641</td>\n      <td>111010101</td>\n      <td>15</td>\n      <td>GeoPinPoint</td>\n      <td>***22541</td>\n      <td>20120401</td>\n      <td>210</td>\n      <td>PARK FAIL TO DISPLAY RECEIPT</td>\n      <td>30</td>\n      <td>...</td>\n      <td>ON</td>\n      <td>Toronto</td>\n      <td>67</td>\n      <td>11840</td>\n      <td>13</td>\n      <td>2012</td>\n      <td>4</td>\n      <td>1</td>\n      <td>2012-04-01</td>\n      <td>Sunday</td>\n    </tr>\n    <tr>\n      <th>3</th>\n      <td>-79.400032</td>\n      <td>43.652777</td>\n      <td>111010101</td>\n      <td>10</td>\n      <td>GeoPinPoint</td>\n      <td>***67490</td>\n      <td>20120228</td>\n      <td>5</td>\n      <td>PARK HWY PROHIBITED TIME/DAY</td>\n      <td>40</td>\n      <td>...</td>\n      <td>ON</td>\n      <td>Toronto</td>\n      <td>75</td>\n      <td>9766</td>\n      <td>14</td>\n      <td>2012</td>\n      <td>2</td>\n      <td>28</td>\n      <td>2012-02-28</td>\n      <td>Tuesday</td>\n    </tr>\n    <tr>\n      <th>4</th>\n      <td>-79.393422</td>\n      <td>43.652641</td>\n      <td>111010101</td>\n      <td>15</td>\n      <td>GeoPinPoint</td>\n      <td>***57035</td>\n      <td>20121013</td>\n      <td>29</td>\n      <td>PARK PROHIBITED TIME NO PERMIT</td>\n      <td>30</td>\n      <td>...</td>\n      <td>ON</td>\n      <td>Toronto</td>\n      <td>67</td>\n      <td>11840</td>\n      <td>0</td>\n      <td>2012</td>\n      <td>10</td>\n      <td>13</td>\n      <td>2012-10-13</td>\n      <td>Saturday</td>\n    </tr>\n  </tbody>\n</table>\n<p>5 rows × 23 columns</p>\n</div>"
     },
     "metadata": {},
     "execution_count": 43
    }
   ],
   "source": [
    "tickets2012.head()"
   ]
  },
  {
   "cell_type": "code",
   "execution_count": 42,
   "metadata": {},
   "outputs": [],
   "source": [
    "tickets2012['year'] = tickets2012['date_of_infraction'].apply(lambda x: int(str(x)[0:4]))\n",
    "tickets2012['month'] = tickets2012['date_of_infraction'].apply(lambda x: int(str(x)[4:6]))\n",
    "tickets2012['day'] = tickets2012['date_of_infraction'].apply(lambda x: int(str(x)[6:8]))\n",
    "\n",
    "tickets2012['formatted_date'] = pd.to_datetime(tickets2012[['year','month','day']])\n",
    "tickets2012['day_name'] = tickets2012['formatted_date'].dt.day_name()\n"
   ]
  },
  {
   "cell_type": "code",
   "execution_count": 27,
   "metadata": {},
   "outputs": [],
   "source": [
    "tickets2012['hour']=tickets2012['time_of_infraction'].apply(get_hour)"
   ]
  },
  {
   "cell_type": "code",
   "execution_count": 47,
   "metadata": {},
   "outputs": [
    {
     "output_type": "execute_result",
     "data": {
      "text/plain": [
       "array(['Tuesday', 'Thursday', 'Monday', 'Friday', 'Wednesday'],\n",
       "      dtype=object)"
      ]
     },
     "metadata": {},
     "execution_count": 47
    }
   ],
   "source": [
    "tickets2012 = tickets2012[tickets2012['day_name']!='Saturday']\n",
    "tickets2012 = tickets2012[tickets2012['day_name']!='Sunday']\n",
    "tickets2012['day_name'].unique()"
   ]
  },
  {
   "cell_type": "code",
   "execution_count": 126,
   "metadata": {},
   "outputs": [
    {
     "output_type": "execute_result",
     "data": {
      "text/plain": [
       "     gta06  hour           x           y      Rcode  Prescode  \\\n",
       "0       30    10  -79.369123   43.643794  111010101        10   \n",
       "1       30    15  -79.370461   43.643338  111010101        10   \n",
       "2       31    20  -79.370468   43.643534  111010101        10   \n",
       "3       32     0 -158.746330   87.289670  230020202        30   \n",
       "4       32     7  -79.373528   43.643584  115010101        10   \n",
       "..     ...   ...         ...         ...        ...       ...   \n",
       "649     80    19 -635.183028  349.096863  920080808       120   \n",
       "650     80    20 -396.989290  218.183464  575050505        70   \n",
       "651     80    21 -238.193533  130.909248  345030303        40   \n",
       "652     80    22  -79.397776   43.635032  115010101        10   \n",
       "653     80    23 -238.193328  130.905096  345030303        30   \n",
       "\n",
       "     date_of_infraction  infraction_code  set_fine_amount  time_of_infraction  \\\n",
       "0              20121031                3               30              1041.0   \n",
       "1              20120322                3               30              1525.0   \n",
       "2              20120913                3               30              2056.0   \n",
       "3              40241524              507              210                34.0   \n",
       "4              20120215               30               60               720.0   \n",
       "..                  ...              ...              ...                 ...   \n",
       "649           160965446             2436              315             15367.0   \n",
       "650           100602627              231              200             10199.0   \n",
       "651            60361246               11              100              6376.0   \n",
       "652            20120712                4               30              2246.0   \n",
       "653            60361333               12               90              6936.0   \n",
       "\n",
       "     NUMPOINTS   year  month  day  tickets_count  \n",
       "0            2   2012     10   31              1  \n",
       "1            2   2012      3   22              1  \n",
       "2            1   2012      9   13              1  \n",
       "3          584   4024     15   24              2  \n",
       "4          292   2012      2   15              1  \n",
       "..         ...    ...    ...  ...            ...  \n",
       "649      11936  16096     53  146              8  \n",
       "650       7460  10060     26   27              5  \n",
       "651       4476   6036     12   46              3  \n",
       "652       1492   2012      7   12              1  \n",
       "653       4476   6036     13   33              3  \n",
       "\n",
       "[654 rows x 15 columns]"
      ],
      "text/html": "<div>\n<style scoped>\n    .dataframe tbody tr th:only-of-type {\n        vertical-align: middle;\n    }\n\n    .dataframe tbody tr th {\n        vertical-align: top;\n    }\n\n    .dataframe thead th {\n        text-align: right;\n    }\n</style>\n<table border=\"1\" class=\"dataframe\">\n  <thead>\n    <tr style=\"text-align: right;\">\n      <th></th>\n      <th>gta06</th>\n      <th>hour</th>\n      <th>x</th>\n      <th>y</th>\n      <th>Rcode</th>\n      <th>Prescode</th>\n      <th>date_of_infraction</th>\n      <th>infraction_code</th>\n      <th>set_fine_amount</th>\n      <th>time_of_infraction</th>\n      <th>NUMPOINTS</th>\n      <th>year</th>\n      <th>month</th>\n      <th>day</th>\n      <th>tickets_count</th>\n    </tr>\n  </thead>\n  <tbody>\n    <tr>\n      <th>0</th>\n      <td>30</td>\n      <td>10</td>\n      <td>-79.369123</td>\n      <td>43.643794</td>\n      <td>111010101</td>\n      <td>10</td>\n      <td>20121031</td>\n      <td>3</td>\n      <td>30</td>\n      <td>1041.0</td>\n      <td>2</td>\n      <td>2012</td>\n      <td>10</td>\n      <td>31</td>\n      <td>1</td>\n    </tr>\n    <tr>\n      <th>1</th>\n      <td>30</td>\n      <td>15</td>\n      <td>-79.370461</td>\n      <td>43.643338</td>\n      <td>111010101</td>\n      <td>10</td>\n      <td>20120322</td>\n      <td>3</td>\n      <td>30</td>\n      <td>1525.0</td>\n      <td>2</td>\n      <td>2012</td>\n      <td>3</td>\n      <td>22</td>\n      <td>1</td>\n    </tr>\n    <tr>\n      <th>2</th>\n      <td>31</td>\n      <td>20</td>\n      <td>-79.370468</td>\n      <td>43.643534</td>\n      <td>111010101</td>\n      <td>10</td>\n      <td>20120913</td>\n      <td>3</td>\n      <td>30</td>\n      <td>2056.0</td>\n      <td>1</td>\n      <td>2012</td>\n      <td>9</td>\n      <td>13</td>\n      <td>1</td>\n    </tr>\n    <tr>\n      <th>3</th>\n      <td>32</td>\n      <td>0</td>\n      <td>-158.746330</td>\n      <td>87.289670</td>\n      <td>230020202</td>\n      <td>30</td>\n      <td>40241524</td>\n      <td>507</td>\n      <td>210</td>\n      <td>34.0</td>\n      <td>584</td>\n      <td>4024</td>\n      <td>15</td>\n      <td>24</td>\n      <td>2</td>\n    </tr>\n    <tr>\n      <th>4</th>\n      <td>32</td>\n      <td>7</td>\n      <td>-79.373528</td>\n      <td>43.643584</td>\n      <td>115010101</td>\n      <td>10</td>\n      <td>20120215</td>\n      <td>30</td>\n      <td>60</td>\n      <td>720.0</td>\n      <td>292</td>\n      <td>2012</td>\n      <td>2</td>\n      <td>15</td>\n      <td>1</td>\n    </tr>\n    <tr>\n      <th>...</th>\n      <td>...</td>\n      <td>...</td>\n      <td>...</td>\n      <td>...</td>\n      <td>...</td>\n      <td>...</td>\n      <td>...</td>\n      <td>...</td>\n      <td>...</td>\n      <td>...</td>\n      <td>...</td>\n      <td>...</td>\n      <td>...</td>\n      <td>...</td>\n      <td>...</td>\n    </tr>\n    <tr>\n      <th>649</th>\n      <td>80</td>\n      <td>19</td>\n      <td>-635.183028</td>\n      <td>349.096863</td>\n      <td>920080808</td>\n      <td>120</td>\n      <td>160965446</td>\n      <td>2436</td>\n      <td>315</td>\n      <td>15367.0</td>\n      <td>11936</td>\n      <td>16096</td>\n      <td>53</td>\n      <td>146</td>\n      <td>8</td>\n    </tr>\n    <tr>\n      <th>650</th>\n      <td>80</td>\n      <td>20</td>\n      <td>-396.989290</td>\n      <td>218.183464</td>\n      <td>575050505</td>\n      <td>70</td>\n      <td>100602627</td>\n      <td>231</td>\n      <td>200</td>\n      <td>10199.0</td>\n      <td>7460</td>\n      <td>10060</td>\n      <td>26</td>\n      <td>27</td>\n      <td>5</td>\n    </tr>\n    <tr>\n      <th>651</th>\n      <td>80</td>\n      <td>21</td>\n      <td>-238.193533</td>\n      <td>130.909248</td>\n      <td>345030303</td>\n      <td>40</td>\n      <td>60361246</td>\n      <td>11</td>\n      <td>100</td>\n      <td>6376.0</td>\n      <td>4476</td>\n      <td>6036</td>\n      <td>12</td>\n      <td>46</td>\n      <td>3</td>\n    </tr>\n    <tr>\n      <th>652</th>\n      <td>80</td>\n      <td>22</td>\n      <td>-79.397776</td>\n      <td>43.635032</td>\n      <td>115010101</td>\n      <td>10</td>\n      <td>20120712</td>\n      <td>4</td>\n      <td>30</td>\n      <td>2246.0</td>\n      <td>1492</td>\n      <td>2012</td>\n      <td>7</td>\n      <td>12</td>\n      <td>1</td>\n    </tr>\n    <tr>\n      <th>653</th>\n      <td>80</td>\n      <td>23</td>\n      <td>-238.193328</td>\n      <td>130.905096</td>\n      <td>345030303</td>\n      <td>30</td>\n      <td>60361333</td>\n      <td>12</td>\n      <td>90</td>\n      <td>6936.0</td>\n      <td>4476</td>\n      <td>6036</td>\n      <td>13</td>\n      <td>33</td>\n      <td>3</td>\n    </tr>\n  </tbody>\n</table>\n<p>654 rows × 15 columns</p>\n</div>"
     },
     "metadata": {},
     "execution_count": 126
    }
   ],
   "source": [
    "tickets2012['tickets_count']=1\n",
    "hourly_tickets = tickets2012.groupby(['gta06','hour'],as_index=False).sum()\n",
    "hourly_tickets"
   ]
  },
  {
   "cell_type": "code",
   "execution_count": 127,
   "metadata": {},
   "outputs": [],
   "source": [
    "hourly_tickets = hourly_tickets.drop(['Rcode','Prescode','date_of_infraction','infraction_code','time_of_infraction','x','y','year','month','day'], axis=1)"
   ]
  },
  {
   "cell_type": "code",
   "execution_count": 128,
   "metadata": {},
   "outputs": [
    {
     "output_type": "execute_result",
     "data": {
      "text/plain": [
       "     gta06  hour  set_fine_amount  NUMPOINTS  tickets_count\n",
       "0       30    10               30          2              1\n",
       "1       30    15               30          2              1\n",
       "2       31    20               30          1              1\n",
       "3       32     0              210        584              2\n",
       "4       32     7               60        292              1\n",
       "..     ...   ...              ...        ...            ...\n",
       "649     80    19              315      11936              8\n",
       "650     80    20              200       7460              5\n",
       "651     80    21              100       4476              3\n",
       "652     80    22               30       1492              1\n",
       "653     80    23               90       4476              3\n",
       "\n",
       "[654 rows x 5 columns]"
      ],
      "text/html": "<div>\n<style scoped>\n    .dataframe tbody tr th:only-of-type {\n        vertical-align: middle;\n    }\n\n    .dataframe tbody tr th {\n        vertical-align: top;\n    }\n\n    .dataframe thead th {\n        text-align: right;\n    }\n</style>\n<table border=\"1\" class=\"dataframe\">\n  <thead>\n    <tr style=\"text-align: right;\">\n      <th></th>\n      <th>gta06</th>\n      <th>hour</th>\n      <th>set_fine_amount</th>\n      <th>NUMPOINTS</th>\n      <th>tickets_count</th>\n    </tr>\n  </thead>\n  <tbody>\n    <tr>\n      <th>0</th>\n      <td>30</td>\n      <td>10</td>\n      <td>30</td>\n      <td>2</td>\n      <td>1</td>\n    </tr>\n    <tr>\n      <th>1</th>\n      <td>30</td>\n      <td>15</td>\n      <td>30</td>\n      <td>2</td>\n      <td>1</td>\n    </tr>\n    <tr>\n      <th>2</th>\n      <td>31</td>\n      <td>20</td>\n      <td>30</td>\n      <td>1</td>\n      <td>1</td>\n    </tr>\n    <tr>\n      <th>3</th>\n      <td>32</td>\n      <td>0</td>\n      <td>210</td>\n      <td>584</td>\n      <td>2</td>\n    </tr>\n    <tr>\n      <th>4</th>\n      <td>32</td>\n      <td>7</td>\n      <td>60</td>\n      <td>292</td>\n      <td>1</td>\n    </tr>\n    <tr>\n      <th>...</th>\n      <td>...</td>\n      <td>...</td>\n      <td>...</td>\n      <td>...</td>\n      <td>...</td>\n    </tr>\n    <tr>\n      <th>649</th>\n      <td>80</td>\n      <td>19</td>\n      <td>315</td>\n      <td>11936</td>\n      <td>8</td>\n    </tr>\n    <tr>\n      <th>650</th>\n      <td>80</td>\n      <td>20</td>\n      <td>200</td>\n      <td>7460</td>\n      <td>5</td>\n    </tr>\n    <tr>\n      <th>651</th>\n      <td>80</td>\n      <td>21</td>\n      <td>100</td>\n      <td>4476</td>\n      <td>3</td>\n    </tr>\n    <tr>\n      <th>652</th>\n      <td>80</td>\n      <td>22</td>\n      <td>30</td>\n      <td>1492</td>\n      <td>1</td>\n    </tr>\n    <tr>\n      <th>653</th>\n      <td>80</td>\n      <td>23</td>\n      <td>90</td>\n      <td>4476</td>\n      <td>3</td>\n    </tr>\n  </tbody>\n</table>\n<p>654 rows × 5 columns</p>\n</div>"
     },
     "metadata": {},
     "execution_count": 128
    }
   ],
   "source": [
    "hourly_tickets"
   ]
  },
  {
   "cell_type": "code",
   "execution_count": 129,
   "metadata": {},
   "outputs": [
    {
     "output_type": "execute_result",
     "data": {
      "text/plain": [
       "       gta06_dest  hour  start_time  trips_to_zone  minutes  dummy  gta06\n",
       "0               1     7        2165             80       65      3      1\n",
       "1               1     8        3320             79      120      4      1\n",
       "2               1     9        3650            122       50      4      1\n",
       "3               1    10        5135            105      135      5      1\n",
       "4               1    11        5645            116      145      5      1\n",
       "...           ...   ...         ...            ...      ...    ...    ...\n",
       "10903         625    16        1600             23        0      1    625\n",
       "10904         625    17        3430             80       30      2    625\n",
       "10905         625    18        1800              8        0      1    625\n",
       "10906         625    19        3820             26       20      2    625\n",
       "10907         625    20        4015             55       15      2    625\n",
       "\n",
       "[10908 rows x 7 columns]"
      ],
      "text/html": "<div>\n<style scoped>\n    .dataframe tbody tr th:only-of-type {\n        vertical-align: middle;\n    }\n\n    .dataframe tbody tr th {\n        vertical-align: top;\n    }\n\n    .dataframe thead th {\n        text-align: right;\n    }\n</style>\n<table border=\"1\" class=\"dataframe\">\n  <thead>\n    <tr style=\"text-align: right;\">\n      <th></th>\n      <th>gta06_dest</th>\n      <th>hour</th>\n      <th>start_time</th>\n      <th>trips_to_zone</th>\n      <th>minutes</th>\n      <th>dummy</th>\n      <th>gta06</th>\n    </tr>\n  </thead>\n  <tbody>\n    <tr>\n      <th>0</th>\n      <td>1</td>\n      <td>7</td>\n      <td>2165</td>\n      <td>80</td>\n      <td>65</td>\n      <td>3</td>\n      <td>1</td>\n    </tr>\n    <tr>\n      <th>1</th>\n      <td>1</td>\n      <td>8</td>\n      <td>3320</td>\n      <td>79</td>\n      <td>120</td>\n      <td>4</td>\n      <td>1</td>\n    </tr>\n    <tr>\n      <th>2</th>\n      <td>1</td>\n      <td>9</td>\n      <td>3650</td>\n      <td>122</td>\n      <td>50</td>\n      <td>4</td>\n      <td>1</td>\n    </tr>\n    <tr>\n      <th>3</th>\n      <td>1</td>\n      <td>10</td>\n      <td>5135</td>\n      <td>105</td>\n      <td>135</td>\n      <td>5</td>\n      <td>1</td>\n    </tr>\n    <tr>\n      <th>4</th>\n      <td>1</td>\n      <td>11</td>\n      <td>5645</td>\n      <td>116</td>\n      <td>145</td>\n      <td>5</td>\n      <td>1</td>\n    </tr>\n    <tr>\n      <th>...</th>\n      <td>...</td>\n      <td>...</td>\n      <td>...</td>\n      <td>...</td>\n      <td>...</td>\n      <td>...</td>\n      <td>...</td>\n    </tr>\n    <tr>\n      <th>10903</th>\n      <td>625</td>\n      <td>16</td>\n      <td>1600</td>\n      <td>23</td>\n      <td>0</td>\n      <td>1</td>\n      <td>625</td>\n    </tr>\n    <tr>\n      <th>10904</th>\n      <td>625</td>\n      <td>17</td>\n      <td>3430</td>\n      <td>80</td>\n      <td>30</td>\n      <td>2</td>\n      <td>625</td>\n    </tr>\n    <tr>\n      <th>10905</th>\n      <td>625</td>\n      <td>18</td>\n      <td>1800</td>\n      <td>8</td>\n      <td>0</td>\n      <td>1</td>\n      <td>625</td>\n    </tr>\n    <tr>\n      <th>10906</th>\n      <td>625</td>\n      <td>19</td>\n      <td>3820</td>\n      <td>26</td>\n      <td>20</td>\n      <td>2</td>\n      <td>625</td>\n    </tr>\n    <tr>\n      <th>10907</th>\n      <td>625</td>\n      <td>20</td>\n      <td>4015</td>\n      <td>55</td>\n      <td>15</td>\n      <td>2</td>\n      <td>625</td>\n    </tr>\n  </tbody>\n</table>\n<p>10908 rows × 7 columns</p>\n</div>"
     },
     "metadata": {},
     "execution_count": 129
    }
   ],
   "source": [
    "counts_by_time_and_zone = TTS_time.groupby(['gta06_dest','hour'], as_index=False).sum()\n",
    "counts_by_time_and_zone['gta06']=counts_by_time_and_zone['gta06_dest']\n",
    "counts_by_time_and_zone = counts_by_time_and_zone.rename(columns={'total':'trips_to_zone'}) \n",
    "counts_by_time_and_zone"
   ]
  },
  {
   "cell_type": "code",
   "execution_count": 130,
   "metadata": {},
   "outputs": [
    {
     "output_type": "execute_result",
     "data": {
      "text/plain": [
       "array([30, 31, 32, 33, 34, 35, 36, 37, 38, 50, 51, 52, 53, 54, 55, 56, 57,\n",
       "       58, 60, 61, 62, 63, 64, 65, 66, 67, 68, 75, 76, 77, 78, 80],\n",
       "      dtype=int64)"
      ]
     },
     "metadata": {},
     "execution_count": 130
    }
   ],
   "source": [
    "zones_of_interest = hourly_tickets['gta06'].unique()\n",
    "zones_of_interest"
   ]
  },
  {
   "cell_type": "code",
   "execution_count": 131,
   "metadata": {},
   "outputs": [],
   "source": [
    "counts_by_time_and_zone = counts_by_time_and_zone[counts_by_time_and_zone['gta06'].apply(lambda x: x in zones_of_interest)]"
   ]
  },
  {
   "cell_type": "code",
   "execution_count": 132,
   "metadata": {},
   "outputs": [],
   "source": [
    "merged_TTS_tickets = pd.merge(hourly_tickets,counts_by_time_and_zone,how='outer', on=['gta06','hour']).drop(['minutes','dummy','start_time','gta06_dest'],axis=1)"
   ]
  },
  {
   "cell_type": "code",
   "execution_count": 133,
   "metadata": {},
   "outputs": [
    {
     "output_type": "execute_result",
     "data": {
      "text/plain": [
       "     gta06  hour  set_fine_amount  NUMPOINTS  tickets_count  trips_to_zone\n",
       "0       30    10             30.0        2.0            1.0            NaN\n",
       "1       30    15             30.0        2.0            1.0            NaN\n",
       "2       31    20             30.0        1.0            1.0           34.0\n",
       "3       32     0            210.0      584.0            2.0            NaN\n",
       "4       32     7             60.0      292.0            1.0          216.0\n",
       "..     ...   ...              ...        ...            ...            ...\n",
       "716     63     5              NaN        NaN            NaN           63.0\n",
       "717     64     4              NaN        NaN            NaN           22.0\n",
       "718     64     5              NaN        NaN            NaN           12.0\n",
       "719     65     4              NaN        NaN            NaN           11.0\n",
       "720     68     5              NaN        NaN            NaN           74.0\n",
       "\n",
       "[721 rows x 6 columns]"
      ],
      "text/html": "<div>\n<style scoped>\n    .dataframe tbody tr th:only-of-type {\n        vertical-align: middle;\n    }\n\n    .dataframe tbody tr th {\n        vertical-align: top;\n    }\n\n    .dataframe thead th {\n        text-align: right;\n    }\n</style>\n<table border=\"1\" class=\"dataframe\">\n  <thead>\n    <tr style=\"text-align: right;\">\n      <th></th>\n      <th>gta06</th>\n      <th>hour</th>\n      <th>set_fine_amount</th>\n      <th>NUMPOINTS</th>\n      <th>tickets_count</th>\n      <th>trips_to_zone</th>\n    </tr>\n  </thead>\n  <tbody>\n    <tr>\n      <th>0</th>\n      <td>30</td>\n      <td>10</td>\n      <td>30.0</td>\n      <td>2.0</td>\n      <td>1.0</td>\n      <td>NaN</td>\n    </tr>\n    <tr>\n      <th>1</th>\n      <td>30</td>\n      <td>15</td>\n      <td>30.0</td>\n      <td>2.0</td>\n      <td>1.0</td>\n      <td>NaN</td>\n    </tr>\n    <tr>\n      <th>2</th>\n      <td>31</td>\n      <td>20</td>\n      <td>30.0</td>\n      <td>1.0</td>\n      <td>1.0</td>\n      <td>34.0</td>\n    </tr>\n    <tr>\n      <th>3</th>\n      <td>32</td>\n      <td>0</td>\n      <td>210.0</td>\n      <td>584.0</td>\n      <td>2.0</td>\n      <td>NaN</td>\n    </tr>\n    <tr>\n      <th>4</th>\n      <td>32</td>\n      <td>7</td>\n      <td>60.0</td>\n      <td>292.0</td>\n      <td>1.0</td>\n      <td>216.0</td>\n    </tr>\n    <tr>\n      <th>...</th>\n      <td>...</td>\n      <td>...</td>\n      <td>...</td>\n      <td>...</td>\n      <td>...</td>\n      <td>...</td>\n    </tr>\n    <tr>\n      <th>716</th>\n      <td>63</td>\n      <td>5</td>\n      <td>NaN</td>\n      <td>NaN</td>\n      <td>NaN</td>\n      <td>63.0</td>\n    </tr>\n    <tr>\n      <th>717</th>\n      <td>64</td>\n      <td>4</td>\n      <td>NaN</td>\n      <td>NaN</td>\n      <td>NaN</td>\n      <td>22.0</td>\n    </tr>\n    <tr>\n      <th>718</th>\n      <td>64</td>\n      <td>5</td>\n      <td>NaN</td>\n      <td>NaN</td>\n      <td>NaN</td>\n      <td>12.0</td>\n    </tr>\n    <tr>\n      <th>719</th>\n      <td>65</td>\n      <td>4</td>\n      <td>NaN</td>\n      <td>NaN</td>\n      <td>NaN</td>\n      <td>11.0</td>\n    </tr>\n    <tr>\n      <th>720</th>\n      <td>68</td>\n      <td>5</td>\n      <td>NaN</td>\n      <td>NaN</td>\n      <td>NaN</td>\n      <td>74.0</td>\n    </tr>\n  </tbody>\n</table>\n<p>721 rows × 6 columns</p>\n</div>"
     },
     "metadata": {},
     "execution_count": 133
    }
   ],
   "source": [
    "merged_TTS_tickets"
   ]
  },
  {
   "cell_type": "code",
   "execution_count": 144,
   "metadata": {
    "tags": [
     "outputPrepend"
    ]
   },
   "outputs": [
    {
     "output_type": "stream",
     "name": "stdout",
     "text": [
      "47.0\n",
      "Zone 54, Hour: 20, Tickets: 232.0, Trips: 28.0\n",
      "Zone 54, Hour: 21, Tickets: 77.0, Trips: nan\n",
      "Zone 54, Hour: 22, Tickets: 58.0, Trips: nan\n",
      "Zone 54, Hour: 23, Tickets: 44.0, Trips: 13.0\n",
      "Zone 55, Hour: 0, Tickets: 19.0, Trips: nan\n",
      "Zone 55, Hour: 1, Tickets: 12.0, Trips: nan\n",
      "Zone 55, Hour: 2, Tickets: 3.0, Trips: nan\n",
      "Zone 55, Hour: 3, Tickets: 6.0, Trips: nan\n",
      "Zone 55, Hour: 4, Tickets: 3.0, Trips: 101.0\n",
      "Zone 55, Hour: 5, Tickets: 4.0, Trips: 115.0\n",
      "Zone 55, Hour: 6, Tickets: 49.0, Trips: 563.0\n",
      "Zone 55, Hour: 7, Tickets: 373.0, Trips: 1156.0\n",
      "Zone 55, Hour: 8, Tickets: 380.0, Trips: 1647.0\n",
      "Zone 55, Hour: 9, Tickets: 1643.0, Trips: 534.0\n",
      "Zone 55, Hour: 10, Tickets: 2152.0, Trips: 145.0\n",
      "Zone 55, Hour: 11, Tickets: 2017.0, Trips: 86.0\n",
      "Zone 55, Hour: 12, Tickets: 1788.0, Trips: 25.0\n",
      "Zone 55, Hour: 13, Tickets: 1320.0, Trips: 164.0\n",
      "Zone 55, Hour: 14, Tickets: 928.0, Trips: 146.0\n",
      "Zone 55, Hour: 15, Tickets: 757.0, Trips: 68.0\n",
      "Zone 55, Hour: 16, Tickets: 406.0, Trips: 92.0\n",
      "Zone 55, Hour: 17, Tickets: 170.0, Trips: 115.0\n",
      "Zone 55, Hour: 18, Tickets: 248.0, Trips: 140.0\n",
      "Zone 55, Hour: 19, Tickets: 81.0, Trips: 157.0\n",
      "Zone 55, Hour: 20, Tickets: 37.0, Trips: 13.0\n",
      "Zone 55, Hour: 21, Tickets: 39.0, Trips: 20.0\n",
      "Zone 55, Hour: 22, Tickets: 39.0, Trips: 9.0\n",
      "Zone 55, Hour: 23, Tickets: 46.0, Trips: 17.0\n",
      "Zone 56, Hour: 0, Tickets: 2.0, Trips: nan\n",
      "Zone 56, Hour: 1, Tickets: 4.0, Trips: nan\n",
      "Zone 56, Hour: 2, Tickets: 2.0, Trips: nan\n",
      "Zone 56, Hour: 3, Tickets: 0.0, Trips: 0.0\n",
      "Zone 56, Hour: 4, Tickets: 0.0, Trips: 0.0\n",
      "Zone 56, Hour: 5, Tickets: nan, Trips: 19.0\n",
      "Zone 56, Hour: 6, Tickets: 46.0, Trips: 272.0\n",
      "Zone 56, Hour: 7, Tickets: 180.0, Trips: 741.0\n",
      "Zone 56, Hour: 8, Tickets: 128.0, Trips: 648.0\n",
      "Zone 56, Hour: 9, Tickets: 249.0, Trips: 192.0\n",
      "Zone 56, Hour: 10, Tickets: 442.0, Trips: 107.0\n",
      "Zone 56, Hour: 11, Tickets: 521.0, Trips: 6.0\n",
      "Zone 56, Hour: 12, Tickets: 679.0, Trips: 89.0\n",
      "Zone 56, Hour: 13, Tickets: 392.0, Trips: nan\n",
      "Zone 56, Hour: 14, Tickets: 231.0, Trips: 25.0\n",
      "Zone 56, Hour: 15, Tickets: 93.0, Trips: 18.0\n",
      "Zone 56, Hour: 16, Tickets: 192.0, Trips: 103.0\n",
      "Zone 56, Hour: 17, Tickets: 59.0, Trips: 55.0\n",
      "Zone 56, Hour: 18, Tickets: 34.0, Trips: 66.0\n",
      "Zone 56, Hour: 19, Tickets: 26.0, Trips: 18.0\n",
      "Zone 56, Hour: 20, Tickets: 15.0, Trips: 27.0\n",
      "Zone 56, Hour: 21, Tickets: 15.0, Trips: nan\n",
      "Zone 56, Hour: 22, Tickets: 19.0, Trips: nan\n",
      "Zone 56, Hour: 23, Tickets: 18.0, Trips: nan\n",
      "Zone 57, Hour: 0, Tickets: 8.0, Trips: nan\n",
      "Zone 57, Hour: 1, Tickets: 1.0, Trips: nan\n",
      "Zone 57, Hour: 2, Tickets: 1.0, Trips: nan\n",
      "Zone 57, Hour: 3, Tickets: 0.0, Trips: 0.0\n",
      "Zone 57, Hour: 4, Tickets: nan, Trips: 11.0\n",
      "Zone 57, Hour: 5, Tickets: nan, Trips: 14.0\n",
      "Zone 57, Hour: 6, Tickets: 83.0, Trips: 427.0\n",
      "Zone 57, Hour: 7, Tickets: 153.0, Trips: 1093.0\n",
      "Zone 57, Hour: 8, Tickets: 340.0, Trips: 1381.0\n",
      "Zone 57, Hour: 9, Tickets: 901.0, Trips: 222.0\n",
      "Zone 57, Hour: 10, Tickets: 820.0, Trips: 110.0\n",
      "Zone 57, Hour: 11, Tickets: 768.0, Trips: 121.0\n",
      "Zone 57, Hour: 12, Tickets: 756.0, Trips: 50.0\n",
      "Zone 57, Hour: 13, Tickets: 554.0, Trips: 58.0\n",
      "Zone 57, Hour: 14, Tickets: 432.0, Trips: 20.0\n",
      "Zone 57, Hour: 15, Tickets: 467.0, Trips: 175.0\n",
      "Zone 57, Hour: 16, Tickets: 346.0, Trips: 82.0\n",
      "Zone 57, Hour: 17, Tickets: 96.0, Trips: 173.0\n",
      "Zone 57, Hour: 18, Tickets: 34.0, Trips: 87.0\n",
      "Zone 57, Hour: 19, Tickets: 109.0, Trips: 30.0\n",
      "Zone 57, Hour: 20, Tickets: 150.0, Trips: 47.0\n",
      "Zone 57, Hour: 21, Tickets: 171.0, Trips: 51.0\n",
      "Zone 57, Hour: 22, Tickets: 91.0, Trips: 38.0\n",
      "Zone 57, Hour: 23, Tickets: 97.0, Trips: 19.0\n",
      "Zone 58, Hour: 0, Tickets: 0.0, Trips: 0.0\n",
      "Zone 58, Hour: 1, Tickets: 0.0, Trips: 0.0\n",
      "Zone 58, Hour: 2, Tickets: 0.0, Trips: 0.0\n",
      "Zone 58, Hour: 3, Tickets: 0.0, Trips: 0.0\n",
      "Zone 58, Hour: 4, Tickets: 0.0, Trips: 0.0\n",
      "Zone 58, Hour: 5, Tickets: nan, Trips: 25.0\n",
      "Zone 58, Hour: 6, Tickets: nan, Trips: 168.0\n",
      "Zone 58, Hour: 7, Tickets: nan, Trips: 65.0\n",
      "Zone 58, Hour: 8, Tickets: 1.0, Trips: 76.0\n",
      "Zone 58, Hour: 9, Tickets: 1.0, Trips: 42.0\n",
      "Zone 58, Hour: 10, Tickets: 1.0, Trips: 9.0\n",
      "Zone 58, Hour: 11, Tickets: 0.0, Trips: 0.0\n",
      "Zone 58, Hour: 12, Tickets: nan, Trips: 40.0\n",
      "Zone 58, Hour: 13, Tickets: nan, Trips: 13.0\n",
      "Zone 58, Hour: 14, Tickets: 1.0, Trips: 14.0\n",
      "Zone 58, Hour: 15, Tickets: nan, Trips: 39.0\n",
      "Zone 58, Hour: 16, Tickets: nan, Trips: 101.0\n",
      "Zone 58, Hour: 17, Tickets: 0.0, Trips: 0.0\n",
      "Zone 58, Hour: 18, Tickets: nan, Trips: 18.0\n",
      "Zone 58, Hour: 19, Tickets: nan, Trips: 11.0\n",
      "Zone 58, Hour: 20, Tickets: nan, Trips: 13.0\n",
      "Zone 58, Hour: 21, Tickets: 0.0, Trips: 0.0\n",
      "Zone 58, Hour: 22, Tickets: 0.0, Trips: 0.0\n",
      "Zone 58, Hour: 23, Tickets: 0.0, Trips: 0.0\n",
      "Zone 60, Hour: 0, Tickets: 16.0, Trips: nan\n",
      "Zone 60, Hour: 1, Tickets: 51.0, Trips: nan\n",
      "Zone 60, Hour: 2, Tickets: 24.0, Trips: nan\n",
      "Zone 60, Hour: 3, Tickets: 26.0, Trips: nan\n",
      "Zone 60, Hour: 4, Tickets: 38.0, Trips: nan\n",
      "Zone 60, Hour: 5, Tickets: 7.0, Trips: 63.0\n",
      "Zone 60, Hour: 6, Tickets: 18.0, Trips: 45.0\n",
      "Zone 60, Hour: 7, Tickets: 79.0, Trips: 469.0\n",
      "Zone 60, Hour: 8, Tickets: 110.0, Trips: 747.0\n",
      "Zone 60, Hour: 9, Tickets: 494.0, Trips: 101.0\n",
      "Zone 60, Hour: 10, Tickets: 478.0, Trips: 44.0\n",
      "Zone 60, Hour: 11, Tickets: 940.0, Trips: 33.0\n",
      "Zone 60, Hour: 12, Tickets: 1038.0, Trips: 28.0\n",
      "Zone 60, Hour: 13, Tickets: 803.0, Trips: 24.0\n",
      "Zone 60, Hour: 14, Tickets: 555.0, Trips: nan\n",
      "Zone 60, Hour: 15, Tickets: 312.0, Trips: 37.0\n",
      "Zone 60, Hour: 16, Tickets: 120.0, Trips: 157.0\n",
      "Zone 60, Hour: 17, Tickets: 69.0, Trips: 426.0\n",
      "Zone 60, Hour: 18, Tickets: 80.0, Trips: 92.0\n",
      "Zone 60, Hour: 19, Tickets: 66.0, Trips: 147.0\n",
      "Zone 60, Hour: 20, Tickets: 45.0, Trips: 59.0\n",
      "Zone 60, Hour: 21, Tickets: 44.0, Trips: 39.0\n",
      "Zone 60, Hour: 22, Tickets: 25.0, Trips: 29.0\n",
      "Zone 60, Hour: 23, Tickets: 18.0, Trips: nan\n",
      "Zone 61, Hour: 0, Tickets: 0.0, Trips: 0.0\n",
      "Zone 61, Hour: 1, Tickets: 0.0, Trips: 0.0\n",
      "Zone 61, Hour: 2, Tickets: 0.0, Trips: 0.0\n",
      "Zone 61, Hour: 3, Tickets: 0.0, Trips: 0.0\n",
      "Zone 61, Hour: 4, Tickets: 1.0, Trips: nan\n",
      "Zone 61, Hour: 5, Tickets: nan, Trips: 16.0\n",
      "Zone 61, Hour: 6, Tickets: nan, Trips: 152.0\n",
      "Zone 61, Hour: 7, Tickets: nan, Trips: 103.0\n",
      "Zone 61, Hour: 8, Tickets: nan, Trips: 76.0\n",
      "Zone 61, Hour: 9, Tickets: 1.0, Trips: 38.0\n",
      "Zone 61, Hour: 10, Tickets: nan, Trips: 67.0\n",
      "Zone 61, Hour: 11, Tickets: nan, Trips: 45.0\n",
      "Zone 61, Hour: 12, Tickets: nan, Trips: 16.0\n",
      "Zone 61, Hour: 13, Tickets: nan, Trips: 21.0\n",
      "Zone 61, Hour: 14, Tickets: nan, Trips: 11.0\n",
      "Zone 61, Hour: 15, Tickets: nan, Trips: 156.0\n",
      "Zone 61, Hour: 16, Tickets: nan, Trips: 157.0\n",
      "Zone 61, Hour: 17, Tickets: nan, Trips: 188.0\n",
      "Zone 61, Hour: 18, Tickets: nan, Trips: 36.0\n",
      "Zone 61, Hour: 19, Tickets: nan, Trips: 75.0\n",
      "Zone 61, Hour: 20, Tickets: 1.0, Trips: 51.0\n",
      "Zone 61, Hour: 21, Tickets: nan, Trips: 59.0\n",
      "Zone 61, Hour: 22, Tickets: nan, Trips: 21.0\n",
      "Zone 61, Hour: 23, Tickets: nan, Trips: 14.0\n",
      "Zone 62, Hour: 0, Tickets: 26.0, Trips: nan\n",
      "Zone 62, Hour: 1, Tickets: 4.0, Trips: nan\n",
      "Zone 62, Hour: 2, Tickets: 5.0, Trips: nan\n",
      "Zone 62, Hour: 3, Tickets: 3.0, Trips: nan\n",
      "Zone 62, Hour: 4, Tickets: 3.0, Trips: 14.0\n",
      "Zone 62, Hour: 5, Tickets: 1.0, Trips: 31.0\n",
      "Zone 62, Hour: 6, Tickets: nan, Trips: 65.0\n",
      "Zone 62, Hour: 7, Tickets: 27.0, Trips: 270.0\n",
      "Zone 62, Hour: 8, Tickets: 38.0, Trips: 291.0\n",
      "Zone 62, Hour: 9, Tickets: 46.0, Trips: 43.0\n",
      "Zone 62, Hour: 10, Tickets: 74.0, Trips: 100.0\n",
      "Zone 62, Hour: 11, Tickets: 101.0, Trips: 69.0\n",
      "Zone 62, Hour: 12, Tickets: 132.0, Trips: 55.0\n",
      "Zone 62, Hour: 13, Tickets: 125.0, Trips: 87.0\n",
      "Zone 62, Hour: 14, Tickets: 73.0, Trips: 88.0\n",
      "Zone 62, Hour: 15, Tickets: 87.0, Trips: 107.0\n",
      "Zone 62, Hour: 16, Tickets: 60.0, Trips: 125.0\n",
      "Zone 62, Hour: 17, Tickets: 34.0, Trips: 46.0\n",
      "Zone 62, Hour: 18, Tickets: 26.0, Trips: 193.0\n",
      "Zone 62, Hour: 19, Tickets: 47.0, Trips: 57.0\n",
      "Zone 62, Hour: 20, Tickets: 39.0, Trips: 128.0\n",
      "Zone 62, Hour: 21, Tickets: 50.0, Trips: 86.0\n",
      "Zone 62, Hour: 22, Tickets: 56.0, Trips: 47.0\n",
      "Zone 62, Hour: 23, Tickets: 13.0, Trips: 30.0\n",
      "Zone 63, Hour: 0, Tickets: 4.0, Trips: nan\n",
      "Zone 63, Hour: 1, Tickets: 6.0, Trips: nan\n",
      "Zone 63, Hour: 2, Tickets: 4.0, Trips: nan\n",
      "Zone 63, Hour: 3, Tickets: 6.0, Trips: nan\n",
      "Zone 63, Hour: 4, Tickets: 2.0, Trips: nan\n",
      "Zone 63, Hour: 5, Tickets: nan, Trips: 63.0\n",
      "Zone 63, Hour: 6, Tickets: 5.0, Trips: 106.0\n",
      "Zone 63, Hour: 7, Tickets: 76.0, Trips: 560.0\n",
      "Zone 63, Hour: 8, Tickets: 154.0, Trips: 448.0\n",
      "Zone 63, Hour: 9, Tickets: 254.0, Trips: 75.0\n",
      "Zone 63, Hour: 10, Tickets: 249.0, Trips: 118.0\n",
      "Zone 63, Hour: 11, Tickets: 194.0, Trips: 40.0\n",
      "Zone 63, Hour: 12, Tickets: 198.0, Trips: nan\n",
      "Zone 63, Hour: 13, Tickets: 221.0, Trips: 27.0\n",
      "Zone 63, Hour: 14, Tickets: 226.0, Trips: 143.0\n",
      "Zone 63, Hour: 15, Tickets: 209.0, Trips: 175.0\n",
      "Zone 63, Hour: 16, Tickets: 198.0, Trips: 77.0\n",
      "Zone 63, Hour: 17, Tickets: 114.0, Trips: 207.0\n",
      "Zone 63, Hour: 18, Tickets: 51.0, Trips: 55.0\n",
      "Zone 63, Hour: 19, Tickets: 148.0, Trips: 50.0\n",
      "Zone 63, Hour: 20, Tickets: 139.0, Trips: 30.0\n",
      "Zone 63, Hour: 21, Tickets: 195.0, Trips: 9.0\n",
      "Zone 63, Hour: 22, Tickets: 97.0, Trips: 41.0\n",
      "Zone 63, Hour: 23, Tickets: 89.0, Trips: nan\n",
      "Zone 64, Hour: 0, Tickets: 2.0, Trips: nan\n",
      "Zone 64, Hour: 1, Tickets: 1.0, Trips: nan\n",
      "Zone 64, Hour: 2, Tickets: 1.0, Trips: nan\n",
      "Zone 64, Hour: 3, Tickets: 2.0, Trips: nan\n",
      "Zone 64, Hour: 4, Tickets: nan, Trips: 22.0\n",
      "Zone 64, Hour: 5, Tickets: nan, Trips: 12.0\n",
      "Zone 64, Hour: 6, Tickets: 5.0, Trips: 30.0\n",
      "Zone 64, Hour: 7, Tickets: 32.0, Trips: 78.0\n",
      "Zone 64, Hour: 8, Tickets: 14.0, Trips: 201.0\n",
      "Zone 64, Hour: 9, Tickets: 5.0, Trips: 31.0\n",
      "Zone 64, Hour: 10, Tickets: 18.0, Trips: 10.0\n",
      "Zone 64, Hour: 11, Tickets: 39.0, Trips: 31.0\n",
      "Zone 64, Hour: 12, Tickets: 27.0, Trips: 42.0\n",
      "Zone 64, Hour: 13, Tickets: 14.0, Trips: 106.0\n",
      "Zone 64, Hour: 14, Tickets: 22.0, Trips: 46.0\n",
      "Zone 64, Hour: 15, Tickets: 2.0, Trips: 135.0\n",
      "Zone 64, Hour: 16, Tickets: 5.0, Trips: 184.0\n",
      "Zone 64, Hour: 17, Tickets: 8.0, Trips: 312.0\n",
      "Zone 64, Hour: 18, Tickets: 20.0, Trips: 167.0\n",
      "Zone 64, Hour: 19, Tickets: 22.0, Trips: 141.0\n",
      "Zone 64, Hour: 20, Tickets: 8.0, Trips: 117.0\n",
      "Zone 64, Hour: 21, Tickets: 14.0, Trips: 70.0\n",
      "Zone 64, Hour: 22, Tickets: 3.0, Trips: 77.0\n",
      "Zone 64, Hour: 23, Tickets: 7.0, Trips: 114.0\n",
      "Zone 65, Hour: 0, Tickets: 25.0, Trips: nan\n",
      "Zone 65, Hour: 1, Tickets: 6.0, Trips: nan\n",
      "Zone 65, Hour: 2, Tickets: 3.0, Trips: nan\n",
      "Zone 65, Hour: 3, Tickets: 0.0, Trips: 0.0\n",
      "Zone 65, Hour: 4, Tickets: nan, Trips: 11.0\n",
      "Zone 65, Hour: 5, Tickets: 1.0, Trips: 9.0\n",
      "Zone 65, Hour: 6, Tickets: 14.0, Trips: 364.0\n",
      "Zone 65, Hour: 7, Tickets: 40.0, Trips: 812.0\n",
      "Zone 65, Hour: 8, Tickets: 103.0, Trips: 581.0\n",
      "Zone 65, Hour: 9, Tickets: 199.0, Trips: 327.0\n",
      "Zone 65, Hour: 10, Tickets: 410.0, Trips: 118.0\n",
      "Zone 65, Hour: 11, Tickets: 337.0, Trips: 91.0\n",
      "Zone 65, Hour: 12, Tickets: 363.0, Trips: 78.0\n",
      "Zone 65, Hour: 13, Tickets: 352.0, Trips: 79.0\n",
      "Zone 65, Hour: 14, Tickets: 381.0, Trips: 89.0\n",
      "Zone 65, Hour: 15, Tickets: 307.0, Trips: 142.0\n",
      "Zone 65, Hour: 16, Tickets: 329.0, Trips: 147.0\n",
      "Zone 65, Hour: 17, Tickets: 68.0, Trips: 397.0\n",
      "Zone 65, Hour: 18, Tickets: 51.0, Trips: 263.0\n",
      "Zone 65, Hour: 19, Tickets: 198.0, Trips: 177.0\n",
      "Zone 65, Hour: 20, Tickets: 153.0, Trips: 146.0\n",
      "Zone 65, Hour: 21, Tickets: 754.0, Trips: 184.0\n",
      "Zone 65, Hour: 22, Tickets: 356.0, Trips: 64.0\n",
      "Zone 65, Hour: 23, Tickets: 402.0, Trips: nan\n",
      "Zone 66, Hour: 0, Tickets: 21.0, Trips: nan\n",
      "Zone 66, Hour: 1, Tickets: 116.0, Trips: nan\n",
      "Zone 66, Hour: 2, Tickets: 284.0, Trips: nan\n",
      "Zone 66, Hour: 3, Tickets: 37.0, Trips: nan\n",
      "Zone 66, Hour: 4, Tickets: 12.0, Trips: 22.0\n",
      "Zone 66, Hour: 5, Tickets: 1.0, Trips: 52.0\n",
      "Zone 66, Hour: 6, Tickets: 21.0, Trips: 226.0\n",
      "Zone 66, Hour: 7, Tickets: 176.0, Trips: 413.0\n",
      "Zone 66, Hour: 8, Tickets: 454.0, Trips: 668.0\n",
      "Zone 66, Hour: 9, Tickets: 765.0, Trips: 204.0\n",
      "Zone 66, Hour: 10, Tickets: 1466.0, Trips: 194.0\n",
      "Zone 66, Hour: 11, Tickets: 1420.0, Trips: 174.0\n",
      "Zone 66, Hour: 12, Tickets: 1602.0, Trips: 209.0\n",
      "Zone 66, Hour: 13, Tickets: 1301.0, Trips: 172.0\n",
      "Zone 66, Hour: 14, Tickets: 1032.0, Trips: 106.0\n",
      "Zone 66, Hour: 15, Tickets: 841.0, Trips: 145.0\n",
      "Zone 66, Hour: 16, Tickets: 1072.0, Trips: 286.0\n",
      "Zone 66, Hour: 17, Tickets: 374.0, Trips: 384.0\n",
      "Zone 66, Hour: 18, Tickets: 245.0, Trips: 350.0\n",
      "Zone 66, Hour: 19, Tickets: 416.0, Trips: 145.0\n",
      "Zone 66, Hour: 20, Tickets: 528.0, Trips: 155.0\n",
      "Zone 66, Hour: 21, Tickets: 1798.0, Trips: 87.0\n",
      "Zone 66, Hour: 22, Tickets: 1044.0, Trips: 45.0\n",
      "Zone 66, Hour: 23, Tickets: 838.0, Trips: nan\n",
      "Zone 67, Hour: 0, Tickets: 649.0, Trips: nan\n",
      "Zone 67, Hour: 1, Tickets: 56.0, Trips: nan\n",
      "Zone 67, Hour: 2, Tickets: 25.0, Trips: nan\n",
      "Zone 67, Hour: 3, Tickets: 10.0, Trips: nan\n",
      "Zone 67, Hour: 4, Tickets: 7.0, Trips: nan\n",
      "Zone 67, Hour: 5, Tickets: 2.0, Trips: nan\n",
      "Zone 67, Hour: 6, Tickets: 100.0, Trips: 328.0\n",
      "Zone 67, Hour: 7, Tickets: 42.0, Trips: 347.0\n",
      "Zone 67, Hour: 8, Tickets: 286.0, Trips: 640.0\n",
      "Zone 67, Hour: 9, Tickets: 224.0, Trips: 423.0\n",
      "Zone 67, Hour: 10, Tickets: 358.0, Trips: 526.0\n",
      "Zone 67, Hour: 11, Tickets: 602.0, Trips: 91.0\n",
      "Zone 67, Hour: 12, Tickets: 1324.0, Trips: 131.0\n",
      "Zone 67, Hour: 13, Tickets: 849.0, Trips: 97.0\n",
      "Zone 67, Hour: 14, Tickets: 725.0, Trips: 186.0\n",
      "Zone 67, Hour: 15, Tickets: 581.0, Trips: 175.0\n",
      "Zone 67, Hour: 16, Tickets: 454.0, Trips: 267.0\n",
      "Zone 67, Hour: 17, Tickets: 400.0, Trips: 401.0\n",
      "Zone 67, Hour: 18, Tickets: 319.0, Trips: 300.0\n",
      "Zone 67, Hour: 19, Tickets: 332.0, Trips: 365.0\n",
      "Zone 67, Hour: 20, Tickets: 458.0, Trips: 46.0\n",
      "Zone 67, Hour: 21, Tickets: 122.0, Trips: 106.0\n",
      "Zone 67, Hour: 22, Tickets: 97.0, Trips: 44.0\n",
      "Zone 67, Hour: 23, Tickets: 78.0, Trips: 4.0\n",
      "Zone 68, Hour: 0, Tickets: 795.0, Trips: nan\n",
      "Zone 68, Hour: 1, Tickets: 48.0, Trips: nan\n",
      "Zone 68, Hour: 2, Tickets: 34.0, Trips: nan\n",
      "Zone 68, Hour: 3, Tickets: 8.0, Trips: nan\n",
      "Zone 68, Hour: 4, Tickets: 6.0, Trips: 27.0\n",
      "Zone 68, Hour: 5, Tickets: nan, Trips: 74.0\n",
      "Zone 68, Hour: 6, Tickets: 64.0, Trips: 99.0\n",
      "Zone 68, Hour: 7, Tickets: 22.0, Trips: 738.0\n",
      "Zone 68, Hour: 8, Tickets: 257.0, Trips: 639.0\n",
      "Zone 68, Hour: 9, Tickets: 619.0, Trips: 328.0\n",
      "Zone 68, Hour: 10, Tickets: 865.0, Trips: 279.0\n",
      "Zone 68, Hour: 11, Tickets: 1225.0, Trips: 109.0\n",
      "Zone 68, Hour: 12, Tickets: 874.0, Trips: 207.0\n",
      "Zone 68, Hour: 13, Tickets: 1661.0, Trips: 299.0\n",
      "Zone 68, Hour: 14, Tickets: 1377.0, Trips: 115.0\n",
      "Zone 68, Hour: 15, Tickets: 739.0, Trips: 301.0\n",
      "Zone 68, Hour: 16, Tickets: 738.0, Trips: 125.0\n",
      "Zone 68, Hour: 17, Tickets: 540.0, Trips: 304.0\n",
      "Zone 68, Hour: 18, Tickets: 515.0, Trips: 196.0\n",
      "Zone 68, Hour: 19, Tickets: 637.0, Trips: 67.0\n",
      "Zone 68, Hour: 20, Tickets: 654.0, Trips: 102.0\n",
      "Zone 68, Hour: 21, Tickets: 75.0, Trips: 28.0\n",
      "Zone 68, Hour: 22, Tickets: 30.0, Trips: 64.0\n",
      "Zone 68, Hour: 23, Tickets: 10.0, Trips: 8.0\n",
      "Zone 75, Hour: 0, Tickets: 100.0, Trips: nan\n",
      "Zone 75, Hour: 1, Tickets: 140.0, Trips: nan\n",
      "Zone 75, Hour: 2, Tickets: 65.0, Trips: nan\n",
      "Zone 75, Hour: 3, Tickets: 30.0, Trips: nan\n",
      "Zone 75, Hour: 4, Tickets: 10.0, Trips: 11.0\n",
      "Zone 75, Hour: 5, Tickets: 6.0, Trips: 31.0\n",
      "Zone 75, Hour: 6, Tickets: 33.0, Trips: 92.0\n",
      "Zone 75, Hour: 7, Tickets: 51.0, Trips: 153.0\n",
      "Zone 75, Hour: 8, Tickets: 115.0, Trips: 414.0\n",
      "Zone 75, Hour: 9, Tickets: 302.0, Trips: 278.0\n",
      "Zone 75, Hour: 10, Tickets: 491.0, Trips: 182.0\n",
      "Zone 75, Hour: 11, Tickets: 827.0, Trips: 140.0\n",
      "Zone 75, Hour: 12, Tickets: 923.0, Trips: 78.0\n",
      "Zone 75, Hour: 13, Tickets: 984.0, Trips: 107.0\n",
      "Zone 75, Hour: 14, Tickets: 856.0, Trips: 241.0\n",
      "Zone 75, Hour: 15, Tickets: 865.0, Trips: 180.0\n",
      "Zone 75, Hour: 16, Tickets: 467.0, Trips: 96.0\n",
      "Zone 75, Hour: 17, Tickets: 493.0, Trips: 260.0\n",
      "Zone 75, Hour: 18, Tickets: 221.0, Trips: 213.0\n",
      "Zone 75, Hour: 19, Tickets: 136.0, Trips: 236.0\n",
      "Zone 75, Hour: 20, Tickets: 63.0, Trips: 42.0\n",
      "Zone 75, Hour: 21, Tickets: 15.0, Trips: 46.0\n",
      "Zone 75, Hour: 22, Tickets: 5.0, Trips: 49.0\n",
      "Zone 75, Hour: 23, Tickets: 17.0, Trips: 8.0\n",
      "Zone 76, Hour: 0, Tickets: 195.0, Trips: nan\n",
      "Zone 76, Hour: 1, Tickets: 114.0, Trips: nan\n",
      "Zone 76, Hour: 2, Tickets: 18.0, Trips: nan\n",
      "Zone 76, Hour: 3, Tickets: 6.0, Trips: nan\n",
      "Zone 76, Hour: 4, Tickets: 7.0, Trips: nan\n",
      "Zone 76, Hour: 5, Tickets: 2.0, Trips: 15.0\n",
      "Zone 76, Hour: 6, Tickets: 33.0, Trips: 49.0\n",
      "Zone 76, Hour: 7, Tickets: 31.0, Trips: 210.0\n",
      "Zone 76, Hour: 8, Tickets: 78.0, Trips: 553.0\n",
      "Zone 76, Hour: 9, Tickets: 125.0, Trips: 266.0\n",
      "Zone 76, Hour: 10, Tickets: 121.0, Trips: 78.0\n",
      "Zone 76, Hour: 11, Tickets: 279.0, Trips: 28.0\n",
      "Zone 76, Hour: 12, Tickets: 406.0, Trips: 48.0\n",
      "Zone 76, Hour: 13, Tickets: 277.0, Trips: 27.0\n",
      "Zone 76, Hour: 14, Tickets: 380.0, Trips: 22.0\n",
      "Zone 76, Hour: 15, Tickets: 393.0, Trips: 188.0\n",
      "Zone 76, Hour: 16, Tickets: 322.0, Trips: 168.0\n",
      "Zone 76, Hour: 17, Tickets: 399.0, Trips: 257.0\n",
      "Zone 76, Hour: 18, Tickets: 299.0, Trips: 310.0\n",
      "Zone 76, Hour: 19, Tickets: 307.0, Trips: 58.0\n",
      "Zone 76, Hour: 20, Tickets: 166.0, Trips: 125.0\n",
      "Zone 76, Hour: 21, Tickets: 64.0, Trips: 7.0\n",
      "Zone 76, Hour: 22, Tickets: 23.0, Trips: 35.0\n",
      "Zone 76, Hour: 23, Tickets: 31.0, Trips: 74.0\n",
      "Zone 77, Hour: 0, Tickets: 115.0, Trips: nan\n",
      "Zone 77, Hour: 1, Tickets: 43.0, Trips: nan\n",
      "Zone 77, Hour: 2, Tickets: 19.0, Trips: nan\n",
      "Zone 77, Hour: 3, Tickets: 7.0, Trips: nan\n",
      "Zone 77, Hour: 4, Tickets: 5.0, Trips: nan\n",
      "Zone 77, Hour: 5, Tickets: 30.0, Trips: nan\n",
      "Zone 77, Hour: 6, Tickets: 41.0, Trips: 180.0\n",
      "Zone 77, Hour: 7, Tickets: 44.0, Trips: 349.0\n",
      "Zone 77, Hour: 8, Tickets: 66.0, Trips: 658.0\n",
      "Zone 77, Hour: 9, Tickets: 72.0, Trips: 533.0\n",
      "Zone 77, Hour: 10, Tickets: 130.0, Trips: 259.0\n",
      "Zone 77, Hour: 11, Tickets: 144.0, Trips: 194.0\n",
      "Zone 77, Hour: 12, Tickets: 223.0, Trips: 81.0\n",
      "Zone 77, Hour: 13, Tickets: 360.0, Trips: 138.0\n",
      "Zone 77, Hour: 14, Tickets: 221.0, Trips: 100.0\n",
      "Zone 77, Hour: 15, Tickets: 271.0, Trips: 106.0\n",
      "Zone 77, Hour: 16, Tickets: 155.0, Trips: 301.0\n",
      "Zone 77, Hour: 17, Tickets: 53.0, Trips: 235.0\n",
      "Zone 77, Hour: 18, Tickets: 29.0, Trips: 288.0\n",
      "Zone 77, Hour: 19, Tickets: 77.0, Trips: 268.0\n",
      "Zone 77, Hour: 20, Tickets: 60.0, Trips: 147.0\n",
      "Zone 77, Hour: 21, Tickets: 340.0, Trips: 52.0\n",
      "Zone 77, Hour: 22, Tickets: 52.0, Trips: 36.0\n",
      "Zone 77, Hour: 23, Tickets: 41.0, Trips: 31.0\n",
      "Zone 78, Hour: 0, Tickets: 612.0, Trips: nan\n",
      "Zone 78, Hour: 1, Tickets: 64.0, Trips: nan\n",
      "Zone 78, Hour: 2, Tickets: 21.0, Trips: nan\n",
      "Zone 78, Hour: 3, Tickets: 7.0, Trips: nan\n",
      "Zone 78, Hour: 4, Tickets: 3.0, Trips: 14.0\n",
      "Zone 78, Hour: 5, Tickets: 4.0, Trips: 29.0\n",
      "Zone 78, Hour: 6, Tickets: 11.0, Trips: 19.0\n",
      "Zone 78, Hour: 7, Tickets: 1.0, Trips: 168.0\n",
      "Zone 78, Hour: 8, Tickets: 19.0, Trips: 549.0\n",
      "Zone 78, Hour: 9, Tickets: 48.0, Trips: 255.0\n",
      "Zone 78, Hour: 10, Tickets: 53.0, Trips: 48.0\n",
      "Zone 78, Hour: 11, Tickets: 55.0, Trips: 129.0\n",
      "Zone 78, Hour: 12, Tickets: 163.0, Trips: 114.0\n",
      "Zone 78, Hour: 13, Tickets: 140.0, Trips: 59.0\n",
      "Zone 78, Hour: 14, Tickets: 105.0, Trips: 43.0\n",
      "Zone 78, Hour: 15, Tickets: 99.0, Trips: 160.0\n",
      "Zone 78, Hour: 16, Tickets: 71.0, Trips: 173.0\n",
      "Zone 78, Hour: 17, Tickets: 84.0, Trips: 210.0\n",
      "Zone 78, Hour: 18, Tickets: 136.0, Trips: 102.0\n",
      "Zone 78, Hour: 19, Tickets: 175.0, Trips: 164.0\n",
      "Zone 78, Hour: 20, Tickets: 145.0, Trips: 84.0\n",
      "Zone 78, Hour: 21, Tickets: 16.0, Trips: 44.0\n",
      "Zone 78, Hour: 22, Tickets: 10.0, Trips: 63.0\n",
      "Zone 78, Hour: 23, Tickets: 8.0, Trips: 30.0\n",
      "Zone 80, Hour: 0, Tickets: 6.0, Trips: nan\n",
      "Zone 80, Hour: 1, Tickets: 4.0, Trips: nan\n",
      "Zone 80, Hour: 2, Tickets: 267.0, Trips: nan\n",
      "Zone 80, Hour: 3, Tickets: 187.0, Trips: nan\n",
      "Zone 80, Hour: 4, Tickets: 74.0, Trips: 14.0\n",
      "Zone 80, Hour: 5, Tickets: 7.0, Trips: 14.0\n",
      "Zone 80, Hour: 6, Tickets: 1.0, Trips: 81.0\n",
      "Zone 80, Hour: 7, Tickets: 2.0, Trips: 33.0\n",
      "Zone 80, Hour: 8, Tickets: 14.0, Trips: 114.0\n",
      "Zone 80, Hour: 9, Tickets: 21.0, Trips: 19.0\n",
      "Zone 80, Hour: 10, Tickets: 53.0, Trips: 15.0\n",
      "Zone 80, Hour: 11, Tickets: 67.0, Trips: 16.0\n",
      "Zone 80, Hour: 12, Tickets: 85.0, Trips: 74.0\n",
      "Zone 80, Hour: 13, Tickets: 57.0, Trips: 33.0\n",
      "Zone 80, Hour: 14, Tickets: 14.0, Trips: 90.0\n",
      "Zone 80, Hour: 15, Tickets: 13.0, Trips: 64.0\n",
      "Zone 80, Hour: 16, Tickets: 55.0, Trips: 94.0\n",
      "Zone 80, Hour: 17, Tickets: 45.0, Trips: 77.0\n",
      "Zone 80, Hour: 18, Tickets: 30.0, Trips: 122.0\n",
      "Zone 80, Hour: 19, Tickets: 8.0, Trips: 110.0\n",
      "Zone 80, Hour: 20, Tickets: 5.0, Trips: 90.0\n",
      "Zone 80, Hour: 21, Tickets: 3.0, Trips: 14.0\n",
      "Zone 80, Hour: 22, Tickets: 1.0, Trips: 31.0\n",
      "Zone 80, Hour: 23, Tickets: 3.0, Trips: 14.0\n"
     ]
    }
   ],
   "source": [
    "for index,row in merged_TTS_tickets.sort_values(by=['gta06','hour']).iterrows():\n",
    "    print(\"Zone \"+str(row['gta06'])+\", Hour: \"+str(row['hour'])+\", Tickets: \"+str(row['tickets_count'])+\", Trips: \"+str(row['trips_to_zone']))"
   ]
  },
  {
   "cell_type": "code",
   "execution_count": null,
   "metadata": {},
   "outputs": [],
   "source": []
  }
 ]
}