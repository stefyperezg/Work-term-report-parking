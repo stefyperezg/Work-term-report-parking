{
 "metadata": {
  "language_info": {
   "codemirror_mode": {
    "name": "ipython",
    "version": 3
   },
   "file_extension": ".py",
   "mimetype": "text/x-python",
   "name": "python",
   "nbconvert_exporter": "python",
   "pygments_lexer": "ipython3",
   "version": "3.8.5"
  },
  "orig_nbformat": 2,
  "kernelspec": {
   "name": "python385jvsc74a57bd04d1b2b379f77804368f1b4b97cab03696df996ef5ba308d6c883f1aa51c0a08f",
   "display_name": "Python 3.8.5 64-bit ('base': conda)"
  }
 },
 "nbformat": 4,
 "nbformat_minor": 2,
 "cells": [
  {
   "cell_type": "code",
   "execution_count": 1,
   "metadata": {},
   "outputs": [],
   "source": [
    "import requests\n",
    "import pandas as pd\n",
    "import seaborn as sns\n",
    "import matplotlib.pyplot as plt\n",
    "import matplotlib.dates as mdates\n",
    "%matplotlib inline"
   ]
  },
  {
   "cell_type": "code",
   "execution_count": null,
   "metadata": {},
   "outputs": [],
   "source": [
    "df0 = pd.read_csv(\"C:\\\\Users\\\\stefy\\\\OneDrive - University of Waterloo\\\\Work Term Report 3 - Parking\\\\Datasets\\\\Toronto\\\\Parking_Tags_Data_2019.000.csv\")\n",
    "df1 = pd.read_csv(\"C:\\\\Users\\\\stefy\\\\OneDrive - University of Waterloo\\\\Work Term Report 3 - Parking\\\\Datasets\\\\Toronto\\\\Parking_Tags_Data_2019.001.csv\")\n",
    "df2 = pd.read_csv(\"C:\\\\Users\\\\stefy\\\\OneDrive - University of Waterloo\\\\Work Term Report 3 - Parking\\\\Datasets\\\\Toronto\\\\Parking_Tags_Data_2019.002.csv\")\n",
    "df3 = pd.read_csv(\"C:\\\\Users\\\\stefy\\\\OneDrive - University of Waterloo\\\\Work Term Report 3 - Parking\\\\Datasets\\\\Toronto\\\\Parking_Tags_Data_2019.003.csv\")\n",
    "df4 = pd.read_csv(\"C:\\\\Users\\\\stefy\\\\OneDrive - University of Waterloo\\\\Work Term Report 3 - Parking\\\\Datasets\\\\Toronto\\\\Parking_Tags_Data_2019.004.csv\")\n",
    "df5 = pd.read_csv(\"C:\\\\Users\\\\stefy\\\\OneDrive - University of Waterloo\\\\Work Term Report 3 - Parking\\\\Datasets\\\\Toronto\\\\Parking_Tags_Data_2019.005.csv\")\n",
    "df6 = pd.read_csv(\"C:\\\\Users\\\\stefy\\\\OneDrive - University of Waterloo\\\\Work Term Report 3 - Parking\\\\Datasets\\\\Toronto\\\\Parking_Tags_Data_2019.006.csv\")\n",
    "df7 = pd.read_csv(\"C:\\\\Users\\\\stefy\\\\OneDrive - University of Waterloo\\\\Work Term Report 3 - Parking\\\\Datasets\\\\Toronto\\\\Parking_Tags_Data_2019.007.csv\")\n",
    "df8 = pd.read_csv(\"C:\\\\Users\\\\stefy\\\\OneDrive - University of Waterloo\\\\Work Term Report 3 - Parking\\\\Datasets\\\\Toronto\\\\Parking_Tags_Data_2019.008.csv\")\n",
    "df = pd.concat([df0,df1,df2,df3,df4,df5,df6,df7,df8], axis=0, ignore_index=True)"
   ]
  },
  {
   "cell_type": "code",
   "execution_count": 1,
   "metadata": {},
   "outputs": [
    {
     "output_type": "error",
     "ename": "NameError",
     "evalue": "name 'df' is not defined",
     "traceback": [
      "\u001b[1;31m---------------------------------------------------------------------------\u001b[0m",
      "\u001b[1;31mNameError\u001b[0m                                 Traceback (most recent call last)",
      "\u001b[1;32m<ipython-input-1-b986710dd51f>\u001b[0m in \u001b[0;36m<module>\u001b[1;34m\u001b[0m\n\u001b[0;32m      1\u001b[0m \u001b[1;31m#Delete instances with no\u001b[0m\u001b[1;33m\u001b[0m\u001b[1;33m\u001b[0m\u001b[1;33m\u001b[0m\u001b[0m\n\u001b[1;32m----> 2\u001b[1;33m \u001b[0mprint\u001b[0m\u001b[1;33m(\u001b[0m\u001b[0mdf\u001b[0m\u001b[1;33m.\u001b[0m\u001b[0mshape\u001b[0m\u001b[1;33m)\u001b[0m\u001b[1;33m\u001b[0m\u001b[1;33m\u001b[0m\u001b[0m\n\u001b[0m\u001b[0;32m      3\u001b[0m \u001b[0mdf\u001b[0m \u001b[1;33m=\u001b[0m\u001b[0mdf\u001b[0m\u001b[1;33m[\u001b[0m\u001b[0mdf\u001b[0m\u001b[1;33m[\u001b[0m\u001b[1;34m'location2'\u001b[0m\u001b[1;33m]\u001b[0m\u001b[1;33m.\u001b[0m\u001b[0misna\u001b[0m\u001b[1;33m(\u001b[0m\u001b[1;33m)\u001b[0m\u001b[1;33m==\u001b[0m\u001b[1;32mFalse\u001b[0m\u001b[1;33m]\u001b[0m\u001b[1;33m\u001b[0m\u001b[1;33m\u001b[0m\u001b[0m\n\u001b[0;32m      4\u001b[0m \u001b[0mdf\u001b[0m \u001b[1;33m=\u001b[0m \u001b[0mdf\u001b[0m\u001b[1;33m[\u001b[0m\u001b[0mdf\u001b[0m\u001b[1;33m[\u001b[0m\u001b[1;34m'location2'\u001b[0m\u001b[1;33m]\u001b[0m\u001b[1;33m.\u001b[0m\u001b[0mapply\u001b[0m\u001b[1;33m(\u001b[0m\u001b[1;32mlambda\u001b[0m \u001b[0mx\u001b[0m\u001b[1;33m:\u001b[0m \u001b[0mx\u001b[0m\u001b[1;33m.\u001b[0m\u001b[0misdigit\u001b[0m\u001b[1;33m(\u001b[0m\u001b[1;33m)\u001b[0m\u001b[1;33m==\u001b[0m\u001b[1;32mFalse\u001b[0m\u001b[1;33m)\u001b[0m\u001b[1;33m]\u001b[0m\u001b[1;33m\u001b[0m\u001b[1;33m\u001b[0m\u001b[0m\n\u001b[0;32m      5\u001b[0m \u001b[0mdf\u001b[0m \u001b[1;33m=\u001b[0m \u001b[0mdf\u001b[0m\u001b[1;33m[\u001b[0m\u001b[0mdf\u001b[0m\u001b[1;33m[\u001b[0m\u001b[1;34m'location2'\u001b[0m\u001b[1;33m]\u001b[0m\u001b[1;33m.\u001b[0m\u001b[0mapply\u001b[0m\u001b[1;33m(\u001b[0m\u001b[1;32mlambda\u001b[0m \u001b[0mx\u001b[0m\u001b[1;33m:\u001b[0m \u001b[0mx\u001b[0m\u001b[1;33m.\u001b[0m\u001b[0mfind\u001b[0m\u001b[1;33m(\u001b[0m\u001b[1;34m\" \"\u001b[0m\u001b[1;33m)\u001b[0m\u001b[1;33m==\u001b[0m\u001b[1;33m-\u001b[0m\u001b[1;36m1\u001b[0m\u001b[1;33m)\u001b[0m\u001b[1;33m==\u001b[0m\u001b[1;32mFalse\u001b[0m\u001b[1;33m]\u001b[0m\u001b[1;33m\u001b[0m\u001b[1;33m\u001b[0m\u001b[0m\n",
      "\u001b[1;31mNameError\u001b[0m: name 'df' is not defined"
     ]
    }
   ],
   "source": [
    "#Delete instances with no \n",
    "print(df.shape)\n",
    "df =df[df['location2'].isna()==False]\n",
    "df = df[df['location2'].apply(lambda x: x.isdigit()==False)]\n",
    "df = df[df['location2'].apply(lambda x: x.find(\" \")==-1)==False]\n",
    "print(df.shape)"
   ]
  },
  {
   "cell_type": "code",
   "execution_count": null,
   "metadata": {},
   "outputs": [],
   "source": [
    "addresses = df['location2']\n",
    "addresses.head()"
   ]
  },
  {
   "cell_type": "code",
   "execution_count": null,
   "metadata": {},
   "outputs": [],
   "source": [
    "streets_of_interest = pd.read_csv(\"C:\\\\Users\\\\stefy\\\\OneDrive - University of Waterloo\\\\Work Term Report 3 - Parking\\\\Datasets\\\\Toronto\\\\Toronto Centerline\\\\CENTRELINE_WGS84.csv\")\n",
    "streets_of_interest = streets_of_interest[streets_of_interest['LINEAR_NAME_FULL']!= 'Planning Boundary']\n",
    "streets_of_interest = streets_of_interest[streets_of_interest['LINEAR_NAME_FULL']!= 'C N R']\n",
    "streets_of_interest = streets_of_interest[streets_of_interest['LINEAR_NAME_FULL']!= 'C P R']\n",
    "streets_of_interest = streets_of_interest[streets_of_interest['LINEAR_NAME_FULL']!= 'Toronto Shoreline']\n",
    "\n",
    "streets_of_interest.head(3)"
   ]
  },
  {
   "cell_type": "code",
   "execution_count": 4,
   "metadata": {},
   "outputs": [
    {
     "output_type": "error",
     "ename": "NameError",
     "evalue": "name 'streets_of_interest' is not defined",
     "traceback": [
      "\u001b[1;31m---------------------------------------------------------------------------\u001b[0m",
      "\u001b[1;31mNameError\u001b[0m                                 Traceback (most recent call last)",
      "\u001b[1;32m<ipython-input-4-a84e2ca95b9f>\u001b[0m in \u001b[0;36m<module>\u001b[1;34m\u001b[0m\n\u001b[1;32m----> 1\u001b[1;33m \u001b[0mstreets_of_interest_list\u001b[0m \u001b[1;33m=\u001b[0m \u001b[0mstreets_of_interest\u001b[0m\u001b[1;33m[\u001b[0m\u001b[1;34m'LINEAR_NAME_FULL'\u001b[0m\u001b[1;33m]\u001b[0m\u001b[1;33m.\u001b[0m\u001b[0munique\u001b[0m\u001b[1;33m(\u001b[0m\u001b[1;33m)\u001b[0m\u001b[1;33m\u001b[0m\u001b[1;33m\u001b[0m\u001b[0m\n\u001b[0m\u001b[0;32m      2\u001b[0m \u001b[0mstreets_of_interest_list\u001b[0m\u001b[1;33m\u001b[0m\u001b[1;33m\u001b[0m\u001b[0m\n",
      "\u001b[1;31mNameError\u001b[0m: name 'streets_of_interest' is not defined"
     ]
    }
   ],
   "source": [
    "streets_of_interest_list = streets_of_interest['LINEAR_NAME_FULL'].unique()\n",
    "streets_of_interest_list"
   ]
  },
  {
   "cell_type": "code",
   "execution_count": null,
   "metadata": {
    "tags": []
   },
   "outputs": [],
   "source": [
    "delimited_rows = list()\n",
    "for street in streets_of_interest_list:\n",
    "    for index, row in df.iterrows():\n",
    "        address = row['location2']\n",
    "        try:\n",
    "            if address.find(street)>-1:\n",
    "                delimited_rows.append(row)\n",
    "                print(address)\n",
    "        except:\n",
    "            print(address)\n",
    "        \n",
    "delimited_df = pd.DataFrame(delimited_rows, columns=df.columns)"
   ]
  },
  {
   "cell_type": "code",
   "execution_count": 33,
   "metadata": {},
   "outputs": [
    {
     "output_type": "execute_result",
     "data": {
      "text/plain": [
       "-1"
      ]
     },
     "metadata": {},
     "execution_count": 33
    }
   ],
   "source": [
    "\"Toronto\".find(\"te\")git"
   ]
  },
  {
   "cell_type": "code",
   "execution_count": null,
   "metadata": {},
   "outputs": [],
   "source": []
  }
 ]
}