{
 "metadata": {
  "language_info": {
   "codemirror_mode": {
    "name": "ipython",
    "version": 3
   },
   "file_extension": ".py",
   "mimetype": "text/x-python",
   "name": "python",
   "nbconvert_exporter": "python",
   "pygments_lexer": "ipython3",
   "version": "3.8.5"
  },
  "orig_nbformat": 2,
  "kernelspec": {
   "name": "python385jvsc74a57bd04d1b2b379f77804368f1b4b97cab03696df996ef5ba308d6c883f1aa51c0a08f",
   "display_name": "Python 3.8.5 64-bit ('base': conda)"
  }
 },
 "nbformat": 4,
 "nbformat_minor": 2,
 "cells": [
  {
   "cell_type": "code",
   "execution_count": 1,
   "metadata": {},
   "outputs": [],
   "source": [
    "import requests\n",
    "import pandas as pd\n",
    "import seaborn as sns\n",
    "import matplotlib.pyplot as plt\n",
    "import matplotlib.dates as mdates\n",
    "%matplotlib inline"
   ]
  },
  {
   "cell_type": "code",
   "execution_count": 2,
   "metadata": {},
   "outputs": [],
   "source": [
    "df0 = pd.read_csv(\"C:\\\\Users\\\\stefy\\\\OneDrive - University of Waterloo\\\\Work Term Report 3 - Parking\\\\Datasets\\\\Toronto\\\\Parking_Tags_Data_2019.000.csv\")\n",
    "df1 = pd.read_csv(\"C:\\\\Users\\\\stefy\\\\OneDrive - University of Waterloo\\\\Work Term Report 3 - Parking\\\\Datasets\\\\Toronto\\\\Parking_Tags_Data_2019.001.csv\")\n",
    "df2 = pd.read_csv(\"C:\\\\Users\\\\stefy\\\\OneDrive - University of Waterloo\\\\Work Term Report 3 - Parking\\\\Datasets\\\\Toronto\\\\Parking_Tags_Data_2019.002.csv\")\n",
    "df3 = pd.read_csv(\"C:\\\\Users\\\\stefy\\\\OneDrive - University of Waterloo\\\\Work Term Report 3 - Parking\\\\Datasets\\\\Toronto\\\\Parking_Tags_Data_2019.003.csv\")\n",
    "df4 = pd.read_csv(\"C:\\\\Users\\\\stefy\\\\OneDrive - University of Waterloo\\\\Work Term Report 3 - Parking\\\\Datasets\\\\Toronto\\\\Parking_Tags_Data_2019.004.csv\")\n",
    "df5 = pd.read_csv(\"C:\\\\Users\\\\stefy\\\\OneDrive - University of Waterloo\\\\Work Term Report 3 - Parking\\\\Datasets\\\\Toronto\\\\Parking_Tags_Data_2019.005.csv\")\n",
    "df6 = pd.read_csv(\"C:\\\\Users\\\\stefy\\\\OneDrive - University of Waterloo\\\\Work Term Report 3 - Parking\\\\Datasets\\\\Toronto\\\\Parking_Tags_Data_2019.006.csv\")\n",
    "df7 = pd.read_csv(\"C:\\\\Users\\\\stefy\\\\OneDrive - University of Waterloo\\\\Work Term Report 3 - Parking\\\\Datasets\\\\Toronto\\\\Parking_Tags_Data_2019.007.csv\")\n",
    "df8 = pd.read_csv(\"C:\\\\Users\\\\stefy\\\\OneDrive - University of Waterloo\\\\Work Term Report 3 - Parking\\\\Datasets\\\\Toronto\\\\Parking_Tags_Data_2019.008.csv\")\n",
    "df = pd.concat([df0,df1,df2,df3,df4,df5,df6,df7,df8], axis=0, ignore_index=True)"
   ]
  },
  {
   "cell_type": "code",
   "execution_count": 38,
   "metadata": {},
   "outputs": [
    {
     "output_type": "stream",
     "name": "stdout",
     "text": [
      "(2213939, 11)\n",
      "(2213765, 11)\n"
     ]
    }
   ],
   "source": [
    "#Delete instances with no \n",
    "print(df.shape)\n",
    "df =df[df['location2'].isna()==False]\n",
    "print(df.shape)"
   ]
  },
  {
   "cell_type": "code",
   "execution_count": 42,
   "metadata": {},
   "outputs": [
    {
     "output_type": "stream",
     "name": "stdout",
     "text": [
      "(2213749, 11)\n"
     ]
    }
   ],
   "source": [
    "df = df[df['location2'].apply(lambda x: x.isdigit()==False)]\n",
    "df = df[df['location2'].apply(lambda x: x.find(\" \")==-1)==False]\n",
    "print(df.shape)"
   ]
  },
  {
   "cell_type": "code",
   "execution_count": 50,
   "metadata": {},
   "outputs": [],
   "source": []
  },
  {
   "cell_type": "code",
   "execution_count": 51,
   "metadata": {},
   "outputs": [
    {
     "output_type": "stream",
     "name": "stdout",
     "text": [
      "(2213689, 11)\n"
     ]
    }
   ],
   "source": [
    "print(df.shape)"
   ]
  },
  {
   "cell_type": "code",
   "execution_count": 52,
   "metadata": {},
   "outputs": [
    {
     "output_type": "execute_result",
     "data": {
      "text/plain": [
       "0          2110 KEELE ST\n",
       "1    125 QUEENS WHARF RD\n",
       "2          HAZELWOOD AVE\n",
       "3         10 CARABOB CRT\n",
       "4    1801 EGLINTON AVE W\n",
       "Name: location2, dtype: object"
      ]
     },
     "metadata": {},
     "execution_count": 52
    }
   ],
   "source": [
    "addresses = df['location2']\n",
    "addresses.head()"
   ]
  },
  {
   "cell_type": "code",
   "execution_count": 53,
   "metadata": {},
   "outputs": [
    {
     "output_type": "execute_result",
     "data": {
      "text/plain": [
       "   CENTRELINE_ID  LINEAR_NAME_ID LINEAR_NAME_FULL LINEAR_NAME_FULL_LEGAL  \\\n",
       "0       14025592            3147     Charlotte St       Charlotte Street   \n",
       "1        1146472            4733         Yonge St           Yonge Street   \n",
       "3       20054575             436      Bathurst St        Bathurst Street   \n",
       "\n",
       "  ADDRESS_L ADDRESS_R PARITY_L PARITY_R  LO_NUM_L  HI_NUM_L  ...  \\\n",
       "0       NaN       NaN        N        N       NaN       NaN  ...   \n",
       "1       NaN       NaN        N        N       NaN       NaN  ...   \n",
       "3       NaN       NaN        N        N       NaN       NaN  ...   \n",
       "\n",
       "   TO_INTERSECTION_ID  ONEWAY_DIR_CODE  ONEWAY_DIR_CODE_DESC  FEATURE_CODE  \\\n",
       "0            14025595                0           Not One-Way        201500   \n",
       "1            13467668                0           Not One-Way        201200   \n",
       "3            20054577                0           Not One-Way        201200   \n",
       "\n",
       "   FEATURE_CODE_DESC     JURISDICTION  CENTRELINE_STATUS  OBJECTID  MI_PRINX  \\\n",
       "0              Local  CITY OF TORONTO                NaN     18733     18733   \n",
       "1     Major Arterial  CITY OF TORONTO                NaN     18852     18852   \n",
       "3     Major Arterial  CITY OF TORONTO                NaN     50548     50548   \n",
       "\n",
       "   Shape__Length  \n",
       "0       6.292203  \n",
       "1       6.219553  \n",
       "3       4.816115  \n",
       "\n",
       "[3 rows x 40 columns]"
      ],
      "text/html": "<div>\n<style scoped>\n    .dataframe tbody tr th:only-of-type {\n        vertical-align: middle;\n    }\n\n    .dataframe tbody tr th {\n        vertical-align: top;\n    }\n\n    .dataframe thead th {\n        text-align: right;\n    }\n</style>\n<table border=\"1\" class=\"dataframe\">\n  <thead>\n    <tr style=\"text-align: right;\">\n      <th></th>\n      <th>CENTRELINE_ID</th>\n      <th>LINEAR_NAME_ID</th>\n      <th>LINEAR_NAME_FULL</th>\n      <th>LINEAR_NAME_FULL_LEGAL</th>\n      <th>ADDRESS_L</th>\n      <th>ADDRESS_R</th>\n      <th>PARITY_L</th>\n      <th>PARITY_R</th>\n      <th>LO_NUM_L</th>\n      <th>HI_NUM_L</th>\n      <th>...</th>\n      <th>TO_INTERSECTION_ID</th>\n      <th>ONEWAY_DIR_CODE</th>\n      <th>ONEWAY_DIR_CODE_DESC</th>\n      <th>FEATURE_CODE</th>\n      <th>FEATURE_CODE_DESC</th>\n      <th>JURISDICTION</th>\n      <th>CENTRELINE_STATUS</th>\n      <th>OBJECTID</th>\n      <th>MI_PRINX</th>\n      <th>Shape__Length</th>\n    </tr>\n  </thead>\n  <tbody>\n    <tr>\n      <th>0</th>\n      <td>14025592</td>\n      <td>3147</td>\n      <td>Charlotte St</td>\n      <td>Charlotte Street</td>\n      <td>NaN</td>\n      <td>NaN</td>\n      <td>N</td>\n      <td>N</td>\n      <td>NaN</td>\n      <td>NaN</td>\n      <td>...</td>\n      <td>14025595</td>\n      <td>0</td>\n      <td>Not One-Way</td>\n      <td>201500</td>\n      <td>Local</td>\n      <td>CITY OF TORONTO</td>\n      <td>NaN</td>\n      <td>18733</td>\n      <td>18733</td>\n      <td>6.292203</td>\n    </tr>\n    <tr>\n      <th>1</th>\n      <td>1146472</td>\n      <td>4733</td>\n      <td>Yonge St</td>\n      <td>Yonge Street</td>\n      <td>NaN</td>\n      <td>NaN</td>\n      <td>N</td>\n      <td>N</td>\n      <td>NaN</td>\n      <td>NaN</td>\n      <td>...</td>\n      <td>13467668</td>\n      <td>0</td>\n      <td>Not One-Way</td>\n      <td>201200</td>\n      <td>Major Arterial</td>\n      <td>CITY OF TORONTO</td>\n      <td>NaN</td>\n      <td>18852</td>\n      <td>18852</td>\n      <td>6.219553</td>\n    </tr>\n    <tr>\n      <th>3</th>\n      <td>20054575</td>\n      <td>436</td>\n      <td>Bathurst St</td>\n      <td>Bathurst Street</td>\n      <td>NaN</td>\n      <td>NaN</td>\n      <td>N</td>\n      <td>N</td>\n      <td>NaN</td>\n      <td>NaN</td>\n      <td>...</td>\n      <td>20054577</td>\n      <td>0</td>\n      <td>Not One-Way</td>\n      <td>201200</td>\n      <td>Major Arterial</td>\n      <td>CITY OF TORONTO</td>\n      <td>NaN</td>\n      <td>50548</td>\n      <td>50548</td>\n      <td>4.816115</td>\n    </tr>\n  </tbody>\n</table>\n<p>3 rows × 40 columns</p>\n</div>"
     },
     "metadata": {},
     "execution_count": 53
    }
   ],
   "source": [
    "streets_of_interest = pd.read_csv(\"C:\\\\Users\\\\stefy\\\\OneDrive - University of Waterloo\\\\Work Term Report 3 - Parking\\\\Datasets\\\\Toronto\\\\Toronto Centerline\\\\CENTRELINE_WGS84.csv\")\n",
    "streets_of_interest = streets_of_interest[streets_of_interest['LINEAR_NAME_FULL']!= 'Planning Boundary']\n",
    "streets_of_interest = streets_of_interest[streets_of_interest['LINEAR_NAME_FULL']!= 'C N R']\n",
    "streets_of_interest = streets_of_interest[streets_of_interest['LINEAR_NAME_FULL']!= 'C P R']\n",
    "streets_of_interest = streets_of_interest[streets_of_interest['LINEAR_NAME_FULL']!= 'Toronto Shoreline']\n",
    "\n",
    "streets_of_interest.head(3)"
   ]
  },
  {
   "cell_type": "code",
   "execution_count": null,
   "metadata": {},
   "outputs": [],
   "source": [
    "streets_of_interest_list = streets_of_interest['LINEAR_NAME_FULL'].unique()\n",
    "streets_of_interest_list"
   ]
  },
  {
   "cell_type": "code",
   "execution_count": null,
   "metadata": {
    "tags": []
   },
   "outputs": [],
   "source": [
    "delimited_rows = list()\n",
    "for street in streets_of_interest_list:\n",
    "    for index, row in df.iterrows():\n",
    "        address = row['location2']\n",
    "        try:\n",
    "            if address.find(street)>-1:\n",
    "                delimited_rows.append(row)\n",
    "                print(address)\n",
    "        except:\n",
    "            print(address)\n",
    "        \n",
    "delimited_df = pd.DataFrame(delimited_rows, columns=df.columns)"
   ]
  },
  {
   "cell_type": "code",
   "execution_count": 33,
   "metadata": {},
   "outputs": [
    {
     "output_type": "execute_result",
     "data": {
      "text/plain": [
       "-1"
      ]
     },
     "metadata": {},
     "execution_count": 33
    }
   ],
   "source": [
    "\"Toronto\".find(\"te\")git"
   ]
  },
  {
   "cell_type": "code",
   "execution_count": null,
   "metadata": {},
   "outputs": [],
   "source": []
  }
 ]
}