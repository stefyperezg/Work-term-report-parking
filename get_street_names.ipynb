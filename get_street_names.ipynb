{
 "metadata": {
  "language_info": {
   "codemirror_mode": {
    "name": "ipython",
    "version": 3
   },
   "file_extension": ".py",
   "mimetype": "text/x-python",
   "name": "python",
   "nbconvert_exporter": "python",
   "pygments_lexer": "ipython3",
   "version": "3.8.5"
  },
  "orig_nbformat": 2,
  "kernelspec": {
   "name": "python385jvsc74a57bd04d1b2b379f77804368f1b4b97cab03696df996ef5ba308d6c883f1aa51c0a08f",
   "display_name": "Python 3.8.5 64-bit ('base': conda)"
  }
 },
 "nbformat": 4,
 "nbformat_minor": 2,
 "cells": [
  {
   "cell_type": "code",
   "execution_count": 1,
   "metadata": {},
   "outputs": [],
   "source": [
    "import requests\n",
    "import pandas as pd\n",
    "import seaborn as sns\n",
    "import matplotlib.pyplot as plt\n",
    "import matplotlib.dates as mdates\n",
    "%matplotlib inline"
   ]
  },
  {
   "cell_type": "code",
   "execution_count": 2,
   "metadata": {},
   "outputs": [],
   "source": [
    "df0 = pd.read_csv(\"C:\\\\Users\\\\stefy\\\\OneDrive - University of Waterloo\\\\Work Term Report 3 - Parking\\\\Datasets\\\\Toronto\\\\Parking_Tags_Data_2019.000.csv\")\n",
    "df1 = pd.read_csv(\"C:\\\\Users\\\\stefy\\\\OneDrive - University of Waterloo\\\\Work Term Report 3 - Parking\\\\Datasets\\\\Toronto\\\\Parking_Tags_Data_2019.001.csv\")\n",
    "df2 = pd.read_csv(\"C:\\\\Users\\\\stefy\\\\OneDrive - University of Waterloo\\\\Work Term Report 3 - Parking\\\\Datasets\\\\Toronto\\\\Parking_Tags_Data_2019.002.csv\")\n",
    "df3 = pd.read_csv(\"C:\\\\Users\\\\stefy\\\\OneDrive - University of Waterloo\\\\Work Term Report 3 - Parking\\\\Datasets\\\\Toronto\\\\Parking_Tags_Data_2019.003.csv\")\n",
    "df4 = pd.read_csv(\"C:\\\\Users\\\\stefy\\\\OneDrive - University of Waterloo\\\\Work Term Report 3 - Parking\\\\Datasets\\\\Toronto\\\\Parking_Tags_Data_2019.004.csv\")\n",
    "df5 = pd.read_csv(\"C:\\\\Users\\\\stefy\\\\OneDrive - University of Waterloo\\\\Work Term Report 3 - Parking\\\\Datasets\\\\Toronto\\\\Parking_Tags_Data_2019.005.csv\")\n",
    "df6 = pd.read_csv(\"C:\\\\Users\\\\stefy\\\\OneDrive - University of Waterloo\\\\Work Term Report 3 - Parking\\\\Datasets\\\\Toronto\\\\Parking_Tags_Data_2019.006.csv\")\n",
    "df7 = pd.read_csv(\"C:\\\\Users\\\\stefy\\\\OneDrive - University of Waterloo\\\\Work Term Report 3 - Parking\\\\Datasets\\\\Toronto\\\\Parking_Tags_Data_2019.007.csv\")\n",
    "df8 = pd.read_csv(\"C:\\\\Users\\\\stefy\\\\OneDrive - University of Waterloo\\\\Work Term Report 3 - Parking\\\\Datasets\\\\Toronto\\\\Parking_Tags_Data_2019.008.csv\")\n",
    "df = pd.concat([df0,df1,df2,df3,df4,df5,df6,df7,df8], axis=0, ignore_index=True)"
   ]
  },
  {
   "cell_type": "code",
   "execution_count": 38,
   "metadata": {},
   "outputs": [
    {
     "output_type": "stream",
     "name": "stdout",
     "text": [
      "(2213939, 11)\n",
      "(2213765, 11)\n"
     ]
    }
   ],
   "source": [
    "#Delete instances with no \n",
    "print(df.shape)\n",
    "df =df[df['location2'].isna()==False]\n",
    "print(df.shape)"
   ]
  },
  {
   "cell_type": "code",
   "execution_count": 42,
   "metadata": {},
   "outputs": [
    {
     "output_type": "stream",
     "name": "stdout",
     "text": [
      "(2213749, 11)\n"
     ]
    }
   ],
   "source": [
    "df = df[df['location2'].apply(lambda x: x.isdigit()==False)]\n",
    "print(df.shape)"
   ]
  },
  {
   "cell_type": "code",
   "execution_count": 50,
   "metadata": {},
   "outputs": [],
   "source": [
    "df = df[df['location2'].apply(lambda x: x.find(\" \")==-1)==False]\n",
    "# print(df.shape)"
   ]
  },
  {
   "cell_type": "code",
   "execution_count": 3,
   "metadata": {},
   "outputs": [
    {
     "output_type": "execute_result",
     "data": {
      "text/plain": [
       "0          2110 KEELE ST\n",
       "1    125 QUEENS WHARF RD\n",
       "2          HAZELWOOD AVE\n",
       "3         10 CARABOB CRT\n",
       "4    1801 EGLINTON AVE W\n",
       "Name: location2, dtype: object"
      ]
     },
     "metadata": {},
     "execution_count": 3
    }
   ],
   "source": [
    "addresses = df['location2']\n",
    "addresses.head()"
   ]
  },
  {
   "cell_type": "code",
   "execution_count": 27,
   "metadata": {},
   "outputs": [
    {
     "output_type": "execute_result",
     "data": {
      "text/plain": [
       "   CENTRELINE_ID  LINEAR_NAME_ID LINEAR_NAME_FULL LINEAR_NAME_FULL_LEGAL  \\\n",
       "0       14025592            3147     Charlotte St       Charlotte Street   \n",
       "1        1146472            4733         Yonge St           Yonge Street   \n",
       "3       20054575             436      Bathurst St        Bathurst Street   \n",
       "\n",
       "  ADDRESS_L ADDRESS_R PARITY_L PARITY_R  LO_NUM_L  HI_NUM_L  ...  \\\n",
       "0       NaN       NaN        N        N       NaN       NaN  ...   \n",
       "1       NaN       NaN        N        N       NaN       NaN  ...   \n",
       "3       NaN       NaN        N        N       NaN       NaN  ...   \n",
       "\n",
       "   TO_INTERSECTION_ID  ONEWAY_DIR_CODE  ONEWAY_DIR_CODE_DESC  FEATURE_CODE  \\\n",
       "0            14025595                0           Not One-Way        201500   \n",
       "1            13467668                0           Not One-Way        201200   \n",
       "3            20054577                0           Not One-Way        201200   \n",
       "\n",
       "   FEATURE_CODE_DESC     JURISDICTION  CENTRELINE_STATUS  OBJECTID  MI_PRINX  \\\n",
       "0              Local  CITY OF TORONTO                NaN     18733     18733   \n",
       "1     Major Arterial  CITY OF TORONTO                NaN     18852     18852   \n",
       "3     Major Arterial  CITY OF TORONTO                NaN     50548     50548   \n",
       "\n",
       "   Shape__Length  \n",
       "0       6.292203  \n",
       "1       6.219553  \n",
       "3       4.816115  \n",
       "\n",
       "[3 rows x 40 columns]"
      ],
      "text/html": "<div>\n<style scoped>\n    .dataframe tbody tr th:only-of-type {\n        vertical-align: middle;\n    }\n\n    .dataframe tbody tr th {\n        vertical-align: top;\n    }\n\n    .dataframe thead th {\n        text-align: right;\n    }\n</style>\n<table border=\"1\" class=\"dataframe\">\n  <thead>\n    <tr style=\"text-align: right;\">\n      <th></th>\n      <th>CENTRELINE_ID</th>\n      <th>LINEAR_NAME_ID</th>\n      <th>LINEAR_NAME_FULL</th>\n      <th>LINEAR_NAME_FULL_LEGAL</th>\n      <th>ADDRESS_L</th>\n      <th>ADDRESS_R</th>\n      <th>PARITY_L</th>\n      <th>PARITY_R</th>\n      <th>LO_NUM_L</th>\n      <th>HI_NUM_L</th>\n      <th>...</th>\n      <th>TO_INTERSECTION_ID</th>\n      <th>ONEWAY_DIR_CODE</th>\n      <th>ONEWAY_DIR_CODE_DESC</th>\n      <th>FEATURE_CODE</th>\n      <th>FEATURE_CODE_DESC</th>\n      <th>JURISDICTION</th>\n      <th>CENTRELINE_STATUS</th>\n      <th>OBJECTID</th>\n      <th>MI_PRINX</th>\n      <th>Shape__Length</th>\n    </tr>\n  </thead>\n  <tbody>\n    <tr>\n      <th>0</th>\n      <td>14025592</td>\n      <td>3147</td>\n      <td>Charlotte St</td>\n      <td>Charlotte Street</td>\n      <td>NaN</td>\n      <td>NaN</td>\n      <td>N</td>\n      <td>N</td>\n      <td>NaN</td>\n      <td>NaN</td>\n      <td>...</td>\n      <td>14025595</td>\n      <td>0</td>\n      <td>Not One-Way</td>\n      <td>201500</td>\n      <td>Local</td>\n      <td>CITY OF TORONTO</td>\n      <td>NaN</td>\n      <td>18733</td>\n      <td>18733</td>\n      <td>6.292203</td>\n    </tr>\n    <tr>\n      <th>1</th>\n      <td>1146472</td>\n      <td>4733</td>\n      <td>Yonge St</td>\n      <td>Yonge Street</td>\n      <td>NaN</td>\n      <td>NaN</td>\n      <td>N</td>\n      <td>N</td>\n      <td>NaN</td>\n      <td>NaN</td>\n      <td>...</td>\n      <td>13467668</td>\n      <td>0</td>\n      <td>Not One-Way</td>\n      <td>201200</td>\n      <td>Major Arterial</td>\n      <td>CITY OF TORONTO</td>\n      <td>NaN</td>\n      <td>18852</td>\n      <td>18852</td>\n      <td>6.219553</td>\n    </tr>\n    <tr>\n      <th>3</th>\n      <td>20054575</td>\n      <td>436</td>\n      <td>Bathurst St</td>\n      <td>Bathurst Street</td>\n      <td>NaN</td>\n      <td>NaN</td>\n      <td>N</td>\n      <td>N</td>\n      <td>NaN</td>\n      <td>NaN</td>\n      <td>...</td>\n      <td>20054577</td>\n      <td>0</td>\n      <td>Not One-Way</td>\n      <td>201200</td>\n      <td>Major Arterial</td>\n      <td>CITY OF TORONTO</td>\n      <td>NaN</td>\n      <td>50548</td>\n      <td>50548</td>\n      <td>4.816115</td>\n    </tr>\n  </tbody>\n</table>\n<p>3 rows × 40 columns</p>\n</div>"
     },
     "metadata": {},
     "execution_count": 27
    }
   ],
   "source": [
    "streets_of_interest = pd.read_csv(\"C:\\\\Users\\\\stefy\\\\OneDrive - University of Waterloo\\\\Work Term Report 3 - Parking\\\\Datasets\\\\Toronto\\\\Toronto Centerline\\\\CENTRELINE_WGS84.csv\")\n",
    "streets_of_interest = streets_of_interest[streets_of_interest['LINEAR_NAME_FULL']!= 'Planning Boundary']\n",
    "streets_of_interest = streets_of_interest[streets_of_interest['LINEAR_NAME_FULL']!= 'C N R']\n",
    "streets_of_interest = streets_of_interest[streets_of_interest['LINEAR_NAME_FULL']!= 'C P R']\n",
    "streets_of_interest = streets_of_interest[streets_of_interest['LINEAR_NAME_FULL']!= 'Toronto Shoreline']\n",
    "\n",
    "streets_of_interest.head(3)"
   ]
  },
  {
   "cell_type": "code",
   "execution_count": 29,
   "metadata": {},
   "outputs": [
    {
     "output_type": "execute_result",
     "data": {
      "text/plain": [
       "array(['Charlotte Street', 'Yonge Street', 'Bathurst Street',\n",
       "       'Church Street', 'Lower Simcoe Street', 'White Court Place',\n",
       "       'Orphanage Mews', 'Canoe Landing Park Trail', 'Sullivan Street',\n",
       "       'Nelson Street', 'Bremner Boulevard', 'Grange Avenue',\n",
       "       'Spadina Avenue', 'Jarvis Street', 'Martin Goodman Trail',\n",
       "       'Ln E Spadina N Phoebe', 'Ln S Dundas W Larch',\n",
       "       'Alex Wilson Community Garden Trail', 'Huron Street',\n",
       "       'Lakeshore Bv W Uturn Ramp', 'F G Gardiner Xy W', 'Dan Leckie Way',\n",
       "       'Sheard Street', 'Joseph Sheard Parkette Trail',\n",
       "       'Toronto Music Garden Trail', \"St. Andrew's Playground Trail\",\n",
       "       'St. James Park Trail', 'Little Norway Park Trail', 'Eireann Quay',\n",
       "       'St. Patricks Square Trail', 'Grange Park Trail',\n",
       "       'Carr Street Court', 'Robertson Crescent',\n",
       "       'Lake Shore Boulevard West', 'Clarence Square',\n",
       "       'Alexandra Park Trail', 'School Lane', 'Phoebe Street',\n",
       "       'Ryerson Avenue', 'Mc Caul Street', 'York Street',\n",
       "       'Arena Gardens Trail', 'King Street East', 'John Street',\n",
       "       'Glasgow Street', 'Ln S Cecil W Huron', 'Lower Jarvis Street',\n",
       "       'The Esplanade', 'Blue Jays Way', 'Harbour Square',\n",
       "       \"Sonya's Park Trail\", 'Renfrew Place', 'Waterfront Trail',\n",
       "       'Ln S Wellington W University', 'Rees Street', 'F G Gardiner Xy E',\n",
       "       'Peter Street', 'Bay Street', 'Queens Quay West',\n",
       "       'Wellington Street West', 'Niagara Street', 'Market Street',\n",
       "       'Northern Linear Park Trail', 'Freeland Street',\n",
       "       'Ln E University N Heenan', 'Mutual Street',\n",
       "       'Van De Water Crescent', 'Nassau Street', 'Carlton Street',\n",
       "       'Stephanie Street', 'Olympic Park Trail', 'Orde Street',\n",
       "       'Dundas Street West', 'Lakeshore W York St Ramp',\n",
       "       'Beverley Street', 'Allan Gardens Trail',\n",
       "       'Clarence Square Park Trail', 'Bridge of Light',\n",
       "       'Ln N Phoebe E Huron', 'Kensington Avenue', 'Victoria Street Lane',\n",
       "       'Ln N Dundas W Augusta', 'Ln E Huron S Dundas',\n",
       "       'Ln S College E Spadina', 'Dalhousie Street',\n",
       "       'Ln W Spadina N Glen Baillie', 'Cecil Street',\n",
       "       'Victoria Memorial Square Park Trail', 'Simcoe Street',\n",
       "       'Oxford Street', 'McCaul - Orde Parkette Trail',\n",
       "       'St Patricks Market', 'Brant Street', 'Portland Street',\n",
       "       'Harry Barberian Lane', 'Queen Street West',\n",
       "       'Gardiner E Lower Jarvis Ramp', 'Yonge S Lakeshore W Ramp',\n",
       "       'Wellington Street East', 'Wales Avenue', 'Dundas Square',\n",
       "       'Fort York Boulevard', 'College Street', 'Kensington Place',\n",
       "       'Island Airport Ferry Route', 'Little Norway Crescent',\n",
       "       'Rees Street Parkette Trail', 'St Patricks Square',\n",
       "       'Robert Street', 'Waterloo Terrace', 'Ln 2 W Peter N Jack Cooper',\n",
       "       'Dr. Emily Stowe Way', 'George Street', 'Granby Street',\n",
       "       'Richmond Street West', 'Ln S Richmond W Widmer',\n",
       "       'University Avenue', 'Arthur King Lane', 'Adelaide Street West',\n",
       "       'Vanauley Street', 'Ln W Spadina S College', 'Toronto Street',\n",
       "       'Queen Street East', 'McGill Street', 'Ln N Dundas W Denison Ave',\n",
       "       'Ln S Adelaide W Morrison', 'Denison Avenue',\n",
       "       'Ln N Cecil W Glasgow', 'Lake Shore Boulevard East',\n",
       "       'Lakeshore W Gardiner', 'Soho Street', 'Elizabeth Street',\n",
       "       'Ln E Bathurst S Wellington', 'Glen Baillie Place',\n",
       "       'Morrison Street', 'Ln S Adelaide E Morrison', 'Melinda Street',\n",
       "       'Augusta Avenue', 'Casimir Street', 'Victoria Street',\n",
       "       'Bay St N Gardiner Xy Ramp', 'Richmond Street East',\n",
       "       'Ln W Spadina S Glen Baillie', 'Ln W Yonge N Walton',\n",
       "       'Ln W Yonge S Walton', 'Ln N King E Portland',\n",
       "       'Ln W Spadina S Grange', 'Augusta Square', 'Ln E Bathurst S Carr',\n",
       "       'Ln W Spadina S St Andrew', 'Ln W York N Pearl',\n",
       "       'Ln W University N Pearl', 'Lombard Street', 'Bond Street',\n",
       "       'Leader Lane', 'Jack Cooper Lane', 'Colborne Lane',\n",
       "       'Ln N Grange E Larch', 'Hickory Street', 'St Patrick Street',\n",
       "       'Duncan Street', 'Ln W Duncan N Nelson', 'Wolseley Street',\n",
       "       'Ln E John S Mercer', 'Ln W Duncan S Nelson',\n",
       "       'Ln S Nelson W Simcoe', 'Ln 1 S College W Mc Caul',\n",
       "       'Willison Square', 'Ln N Dundas W Casimir',\n",
       "       'Ln E Ryerson N Wolseley', 'George Street South',\n",
       "       'Robinson Street', 'Leonard Avenue', 'Ln N Adelaide W Duncan',\n",
       "       'Pearl Street', 'Ln N Sullivan E Huron',\n",
       "       'Ln E Bathurst N Wolseley', 'Court Street', 'Napanee Court',\n",
       "       'Rush Lane', 'Ln N Dundas W Beverley', 'Temperance Street',\n",
       "       'Walton Street', 'Elm Street', 'Berti Street',\n",
       "       'Ln N Dundas W Hickory', 'Ln E Huron S Sullivan',\n",
       "       'Colborne Street', 'Drummond Place', 'Ln E Bathurst N Richmond',\n",
       "       'Soho Place', 'Mc Dougall Lane', 'Larch Street',\n",
       "       'Ln W Augusta N Richmond', 'Heenan Place', 'Silverstein Lane',\n",
       "       'Ln S Adelaide E Portland', 'Trinity Square', 'Baldwin Street',\n",
       "       'Ln S Richmond W Duncan', 'Lakeshore E Gardiner Ramp',\n",
       "       'Shuter Street', 'Ln W Beverley S Sullivan',\n",
       "       'Ln N Queen E Beverley', 'Richard Bigley Lane', 'Pullan Place',\n",
       "       'Ln E Spadina S Dundas', 'Ln W Augusta S Queen',\n",
       "       'Ln S Richmond E Duncan', 'Ln W Spadina S Adelaide',\n",
       "       'Ln N Shuter W Jarvis', 'Paul Lane Gardens',\n",
       "       'Ln E Portland S Queen', 'Widmer Street', 'Carr Street',\n",
       "       'Portugal Square', 'Front Street East', 'Grange Court',\n",
       "       'Ln W Peter S Adelaide', 'Adelaide Street East', 'College Place',\n",
       "       'Littlehayes Lane', 'Ln N Cecil E Huron', 'Ln S Baldwin W Mc Caul',\n",
       "       'Ln N Gerrard E Mutual', 'Eden Place', 'Henry Street',\n",
       "       'Dundas Street East', \"Queen's Park\", 'Ln E Bay S Elm',\n",
       "       'Ln S Adelaide W University', 'Front Street West', 'Gould Street',\n",
       "       \"Toronto-Ward's Island Ferry Route\", 'Mercer Street',\n",
       "       'Ln E Lippincott N Oxford', 'Ln S College E Bathurst',\n",
       "       'Ln S Gould W Bond', 'Ln S Gerrard E Mutual',\n",
       "       'Gerrard Street East', 'Ln S Dundas E Huron', 'Ln E John S Nelson',\n",
       "       'Brunswick Avenue', 'Bellevue Avenue', 'Ln N King E Peter',\n",
       "       'Browns Lane', 'Gardiner E Spadina Av Ramp',\n",
       "       'Ln 1 W Peter N Jack Cooper', 'Ln W Spadina N Nassau',\n",
       "       'Mariner Terrace', 'Borden Street', 'Ln S Gould E Bond',\n",
       "       'Ln W Spadina N Wellington', 'Jarvis St Adelaide St E Ramp',\n",
       "       'Cameron Street', 'Windsor Street', 'Ln E Mutual S Gerrard',\n",
       "       'Ln N King W John', 'Egerton Lane', 'Ln S Adelaide E Brant',\n",
       "       'Ross Street', 'Ln E Spadina N Dundas', 'Ln E Spadina N Sullivan',\n",
       "       'King Street West', 'Ln E Beverley S Baldwin', 'Lippincott Street',\n",
       "       'Ln S Queen W Duncan', 'Ln S Adelaide E Charlotte',\n",
       "       'Douglas Campbell Lane', 'Ln E Spadina N D Arcy',\n",
       "       'Ln N King E Charlotte', 'Felician Place', 'Leonard Place',\n",
       "       'Ln W Augusta N Dundas', 'Ln N Adelaide E Peter', 'Grange Place',\n",
       "       'Ln N College E Elizabeth', 'Soho Square',\n",
       "       'Spadina S Gardiner Ramp', 'Edward Street', 'Carlyle Street',\n",
       "       'Ln N Dundas E Carlyle', 'Scott Street', 'Ching Lane',\n",
       "       'Ln N D Arcy W Mc Caul', \"D'Arcy Street\", 'Ln E Beverley S D Arcy',\n",
       "       'Ln N College E Spadina', 'Major Street', 'Station Street',\n",
       "       'Wilton Street', 'Jarvis St Richmond St E Ramp',\n",
       "       'Ln W University S Wellington', 'Fitzroy Terrace',\n",
       "       'Ln W York S Richmond', 'Gerrard Street West', 'Harbour Street',\n",
       "       'Foster Place', 'York St Gardiner W Ramp', 'St Andrew Street',\n",
       "       'Central Fire Station Lane', 'Old Post Office Lane',\n",
       "       'Ln E Bathurst S Richmond', 'Barbed Wire Lane', 'Jean Lumb Lane',\n",
       "       'Willison Place', 'Hayter Street', 'Ln N Queen E Soho St',\n",
       "       'Ln S Nassau W Augusta', 'Ln N Dundas E Augusta', 'Yo-Yo Ma Lane',\n",
       "       'Jordan Street', 'Sheppard Street', 'Ln E Spadina S Cecil',\n",
       "       'Ed Mirvish Way', 'Emily Street', 'Ln W Spadina N Oxford',\n",
       "       'Ln W Bay S Richmond', 'Ln S College W Huron', 'Navy Wharf Court',\n",
       "       'St George Street', 'Ln S Adelaide E Bay', 'Ln S Cecil E Huron',\n",
       "       'Frank Natale Lane', 'Ditty Lane', 'Vanauley Walk',\n",
       "       'Spice Mill Lane', 'Ln S King E Portland', \"St Enoch's Square\",\n",
       "       'Ln 1 S King E Spadina', 'Twilight Lane', 'Grange Road',\n",
       "       'Adelaide Place', 'Ln N Carr E Ryerson', 'Ln N Baldwin E Huron',\n",
       "       'Ln N Queen E Denison', 'Randy Padmore Park Trail', 'Ellen Avenue',\n",
       "       'Centre Avenue', 'Ln N Wolseley W Denison', 'Ln W Church S Dundas',\n",
       "       'Ln S Adelaide E University', 'Cayley Lane', 'Brant Place',\n",
       "       'Chestnut Street', 'Ln W Yonge N Wellington', 'La Plante Avenue',\n",
       "       'Southern Linear Park Trail', 'Lot Street Lane',\n",
       "       'Bishop Tutu Boulevard', 'Ln W Church S Mc Gill',\n",
       "       'Ln S Dundas W Grange Pl', 'Ln N Queen W Cameron',\n",
       "       'Ln 2 S College W Mc Caul', 'Ln N Cecil E Ross',\n",
       "       'Ln N Wellington E Portland', 'Ln N Phoebe W Huron',\n",
       "       'Walnut Hall Place', 'Ln S Baldwin W Huron', 'Grand Opera Lane',\n",
       "       'Ln N Carr W Denison', 'Ln W University N Front', 'James Street',\n",
       "       \"O'Keefe Lane\", 'Lower Spadina Avenue', 'Ln N Sullivan W Huron',\n",
       "       'Ln N Baldwin W Huron', 'Ln S Dundas W Jarvis',\n",
       "       'Ln W John S Adelaide', 'Ln N Dundas W Huron',\n",
       "       'Michael Sweet Avenue', 'Glicksman Glick Lane', 'Armoury Street',\n",
       "       'Ln E Spadina N Cecil', 'Lake Shore Rees S Ramp', 'McClear Place',\n",
       "       'Ln W Augusta N Wolseley', 'Gardiner Lakeshore E',\n",
       "       'Lower Jarvis Gardiner Ramp', 'Gardiner W Yonge N Ramp',\n",
       "       'Barnaby Place', 'Ln E Lippincott N Nassau',\n",
       "       'Ln W Jarvis N Shuter', 'Ln S King W Portland',\n",
       "       'Ln S Wellington E Blue Jays Way', 'Ln S Baldwin E Huron',\n",
       "       'Ln N Queen E Augusta', 'Telegram Mews', 'Queens Quay East',\n",
       "       'Housey Street', 'Ln S King W Blue Jays Way', 'Denison Square',\n",
       "       'Court Square', 'Queens Wharf Road', 'Capreol Court',\n",
       "       'Ln N King E Spadina', 'Gardiner E York St Ramp',\n",
       "       'Hagerman Street', 'Oxley Street', 'Linda Griffiths Lane',\n",
       "       'Ln W Beverley S Cecil', 'Ln N Adelaide E Duncan',\n",
       "       'Ln N Queen E Ryerson', 'Oak Hall Lane', 'Ln S Dundas W Bathurst',\n",
       "       'Albert Street', 'Ln W Yonge S Elm', 'Ln S Queen E Augusta',\n",
       "       'Ln S Queen E Bathurst', 'Farquhars Lane', 'Ways Lane',\n",
       "       'Brunel Court', 'Ln N Dundas W Mc Caul', 'Ln N Dundas E Bond',\n",
       "       'Ln E Portland S Richmond', 'Scott Lane', 'Ln 2 S King E Spadina',\n",
       "       'Harbour Light Lane', 'Maud Street', 'Campbell Russell Lane',\n",
       "       'Ln S Queen W Spadina', 'Spadina S Lakeshore W Ramp',\n",
       "       'Conger Coal Lane', 'Henry Lane Terrace', 'Ace Lane',\n",
       "       'Ln N Wellington E Blue Jays Way', 'Richardson Street',\n",
       "       'Ln S Queen W Simcoe', 'Gardiner Lakeshore W Ramp',\n",
       "       'Draper Street', 'Piper Street', 'Ln S King W John',\n",
       "       'Grand Trunk Crescent', 'Ln E Beverley S College',\n",
       "       'Iceboat Terrace', 'Alley Cat Lane', 'Ln S Queen W John',\n",
       "       'Stewart Street', 'Camden Street', 'Gardiner W Spadina Ramp',\n",
       "       'Cooper Street', 'Murray Street', 'Bulwer Street'], dtype=object)"
      ]
     },
     "metadata": {},
     "execution_count": 29
    }
   ],
   "source": [
    "streets_of_interest_list = streets_of_interest['LINEAR_NAME_FULL_LEGAL'].unique()\n",
    "streets_of_interest_list"
   ]
  },
  {
   "cell_type": "code",
   "execution_count": 36,
   "metadata": {
    "tags": []
   },
   "outputs": [
    {
     "output_type": "stream",
     "name": "stdout",
     "text": [
      "nan\n",
      "nan\n",
      "nan\n",
      "nan\n",
      "nan\n",
      "nan\n",
      "nan\n",
      "nan\n",
      "nan\n",
      "nan\n",
      "nan\n",
      "nan\n"
     ]
    },
    {
     "output_type": "error",
     "ename": "KeyboardInterrupt",
     "evalue": "",
     "traceback": [
      "\u001b[1;31m---------------------------------------------------------------------------\u001b[0m",
      "\u001b[1;31mKeyboardInterrupt\u001b[0m                         Traceback (most recent call last)",
      "\u001b[1;32m<ipython-input-36-08219fa2d3fb>\u001b[0m in \u001b[0;36m<module>\u001b[1;34m\u001b[0m\n\u001b[0;32m      1\u001b[0m \u001b[0mdelimited_rows\u001b[0m \u001b[1;33m=\u001b[0m \u001b[0mlist\u001b[0m\u001b[1;33m(\u001b[0m\u001b[1;33m)\u001b[0m\u001b[1;33m\u001b[0m\u001b[1;33m\u001b[0m\u001b[0m\n\u001b[0;32m      2\u001b[0m \u001b[1;32mfor\u001b[0m \u001b[0mstreet\u001b[0m \u001b[1;32min\u001b[0m \u001b[0mstreets_of_interest_list\u001b[0m\u001b[1;33m:\u001b[0m\u001b[1;33m\u001b[0m\u001b[1;33m\u001b[0m\u001b[0m\n\u001b[1;32m----> 3\u001b[1;33m     \u001b[1;32mfor\u001b[0m \u001b[0mindex\u001b[0m\u001b[1;33m,\u001b[0m \u001b[0mrow\u001b[0m \u001b[1;32min\u001b[0m \u001b[0mdf\u001b[0m\u001b[1;33m.\u001b[0m\u001b[0miterrows\u001b[0m\u001b[1;33m(\u001b[0m\u001b[1;33m)\u001b[0m\u001b[1;33m:\u001b[0m\u001b[1;33m\u001b[0m\u001b[1;33m\u001b[0m\u001b[0m\n\u001b[0m\u001b[0;32m      4\u001b[0m         \u001b[0maddress\u001b[0m \u001b[1;33m=\u001b[0m \u001b[0mrow\u001b[0m\u001b[1;33m[\u001b[0m\u001b[1;34m'location2'\u001b[0m\u001b[1;33m]\u001b[0m\u001b[1;33m\u001b[0m\u001b[1;33m\u001b[0m\u001b[0m\n\u001b[0;32m      5\u001b[0m         \u001b[1;32mtry\u001b[0m\u001b[1;33m:\u001b[0m\u001b[1;33m\u001b[0m\u001b[1;33m\u001b[0m\u001b[0m\n",
      "\u001b[1;32m~\\anaconda3\\lib\\site-packages\\pandas\\core\\frame.py\u001b[0m in \u001b[0;36miterrows\u001b[1;34m(self)\u001b[0m\n\u001b[0;32m   1012\u001b[0m         \u001b[0mklass\u001b[0m \u001b[1;33m=\u001b[0m \u001b[0mself\u001b[0m\u001b[1;33m.\u001b[0m\u001b[0m_constructor_sliced\u001b[0m\u001b[1;33m\u001b[0m\u001b[1;33m\u001b[0m\u001b[0m\n\u001b[0;32m   1013\u001b[0m         \u001b[1;32mfor\u001b[0m \u001b[0mk\u001b[0m\u001b[1;33m,\u001b[0m \u001b[0mv\u001b[0m \u001b[1;32min\u001b[0m \u001b[0mzip\u001b[0m\u001b[1;33m(\u001b[0m\u001b[0mself\u001b[0m\u001b[1;33m.\u001b[0m\u001b[0mindex\u001b[0m\u001b[1;33m,\u001b[0m \u001b[0mself\u001b[0m\u001b[1;33m.\u001b[0m\u001b[0mvalues\u001b[0m\u001b[1;33m)\u001b[0m\u001b[1;33m:\u001b[0m\u001b[1;33m\u001b[0m\u001b[1;33m\u001b[0m\u001b[0m\n\u001b[1;32m-> 1014\u001b[1;33m             \u001b[0ms\u001b[0m \u001b[1;33m=\u001b[0m \u001b[0mklass\u001b[0m\u001b[1;33m(\u001b[0m\u001b[0mv\u001b[0m\u001b[1;33m,\u001b[0m \u001b[0mindex\u001b[0m\u001b[1;33m=\u001b[0m\u001b[0mcolumns\u001b[0m\u001b[1;33m,\u001b[0m \u001b[0mname\u001b[0m\u001b[1;33m=\u001b[0m\u001b[0mk\u001b[0m\u001b[1;33m)\u001b[0m\u001b[1;33m\u001b[0m\u001b[1;33m\u001b[0m\u001b[0m\n\u001b[0m\u001b[0;32m   1015\u001b[0m             \u001b[1;32myield\u001b[0m \u001b[0mk\u001b[0m\u001b[1;33m,\u001b[0m \u001b[0ms\u001b[0m\u001b[1;33m\u001b[0m\u001b[1;33m\u001b[0m\u001b[0m\n\u001b[0;32m   1016\u001b[0m \u001b[1;33m\u001b[0m\u001b[0m\n",
      "\u001b[1;32m~\\anaconda3\\lib\\site-packages\\pandas\\core\\series.py\u001b[0m in \u001b[0;36m__init__\u001b[1;34m(self, data, index, dtype, name, copy, fastpath)\u001b[0m\n\u001b[0;32m    325\u001b[0m                     \u001b[0mdata\u001b[0m \u001b[1;33m=\u001b[0m \u001b[0mdata\u001b[0m\u001b[1;33m.\u001b[0m\u001b[0mcopy\u001b[0m\u001b[1;33m(\u001b[0m\u001b[1;33m)\u001b[0m\u001b[1;33m\u001b[0m\u001b[1;33m\u001b[0m\u001b[0m\n\u001b[0;32m    326\u001b[0m             \u001b[1;32melse\u001b[0m\u001b[1;33m:\u001b[0m\u001b[1;33m\u001b[0m\u001b[1;33m\u001b[0m\u001b[0m\n\u001b[1;32m--> 327\u001b[1;33m                 \u001b[0mdata\u001b[0m \u001b[1;33m=\u001b[0m \u001b[0msanitize_array\u001b[0m\u001b[1;33m(\u001b[0m\u001b[0mdata\u001b[0m\u001b[1;33m,\u001b[0m \u001b[0mindex\u001b[0m\u001b[1;33m,\u001b[0m \u001b[0mdtype\u001b[0m\u001b[1;33m,\u001b[0m \u001b[0mcopy\u001b[0m\u001b[1;33m,\u001b[0m \u001b[0mraise_cast_failure\u001b[0m\u001b[1;33m=\u001b[0m\u001b[1;32mTrue\u001b[0m\u001b[1;33m)\u001b[0m\u001b[1;33m\u001b[0m\u001b[1;33m\u001b[0m\u001b[0m\n\u001b[0m\u001b[0;32m    328\u001b[0m \u001b[1;33m\u001b[0m\u001b[0m\n\u001b[0;32m    329\u001b[0m                 \u001b[0mdata\u001b[0m \u001b[1;33m=\u001b[0m \u001b[0mSingleBlockManager\u001b[0m\u001b[1;33m.\u001b[0m\u001b[0mfrom_array\u001b[0m\u001b[1;33m(\u001b[0m\u001b[0mdata\u001b[0m\u001b[1;33m,\u001b[0m \u001b[0mindex\u001b[0m\u001b[1;33m)\u001b[0m\u001b[1;33m\u001b[0m\u001b[1;33m\u001b[0m\u001b[0m\n",
      "\u001b[1;32m~\\anaconda3\\lib\\site-packages\\pandas\\core\\construction.py\u001b[0m in \u001b[0;36msanitize_array\u001b[1;34m(data, index, dtype, copy, raise_cast_failure)\u001b[0m\n\u001b[0;32m    512\u001b[0m         \u001b[1;32mif\u001b[0m \u001b[0mis_object_dtype\u001b[0m\u001b[1;33m(\u001b[0m\u001b[0msubarr\u001b[0m\u001b[1;33m.\u001b[0m\u001b[0mdtype\u001b[0m\u001b[1;33m)\u001b[0m \u001b[1;32mand\u001b[0m \u001b[1;32mnot\u001b[0m \u001b[0mis_object_dtype\u001b[0m\u001b[1;33m(\u001b[0m\u001b[0mdtype\u001b[0m\u001b[1;33m)\u001b[0m\u001b[1;33m:\u001b[0m\u001b[1;33m\u001b[0m\u001b[1;33m\u001b[0m\u001b[0m\n\u001b[0;32m    513\u001b[0m             \u001b[0minferred\u001b[0m \u001b[1;33m=\u001b[0m \u001b[0mlib\u001b[0m\u001b[1;33m.\u001b[0m\u001b[0minfer_dtype\u001b[0m\u001b[1;33m(\u001b[0m\u001b[0msubarr\u001b[0m\u001b[1;33m,\u001b[0m \u001b[0mskipna\u001b[0m\u001b[1;33m=\u001b[0m\u001b[1;32mFalse\u001b[0m\u001b[1;33m)\u001b[0m\u001b[1;33m\u001b[0m\u001b[1;33m\u001b[0m\u001b[0m\n\u001b[1;32m--> 514\u001b[1;33m             \u001b[1;32mif\u001b[0m \u001b[0minferred\u001b[0m \u001b[1;32min\u001b[0m \u001b[1;33m{\u001b[0m\u001b[1;34m\"interval\"\u001b[0m\u001b[1;33m,\u001b[0m \u001b[1;34m\"period\"\u001b[0m\u001b[1;33m}\u001b[0m\u001b[1;33m:\u001b[0m\u001b[1;33m\u001b[0m\u001b[1;33m\u001b[0m\u001b[0m\n\u001b[0m\u001b[0;32m    515\u001b[0m                 \u001b[0msubarr\u001b[0m \u001b[1;33m=\u001b[0m \u001b[0marray\u001b[0m\u001b[1;33m(\u001b[0m\u001b[0msubarr\u001b[0m\u001b[1;33m)\u001b[0m\u001b[1;33m\u001b[0m\u001b[1;33m\u001b[0m\u001b[0m\n\u001b[0;32m    516\u001b[0m \u001b[1;33m\u001b[0m\u001b[0m\n",
      "\u001b[1;31mKeyboardInterrupt\u001b[0m: "
     ]
    }
   ],
   "source": [
    "delimited_rows = list()\n",
    "for street in streets_of_interest_list:\n",
    "    for index, row in df.iterrows():\n",
    "        address = row['location2']\n",
    "        try:\n",
    "            if address.find(street)>-1:\n",
    "                delimited_rows.append(row)\n",
    "                print(address)\n",
    "        except:\n",
    "            print(address)\n",
    "        \n",
    "delimited_df = pd.DataFrame(delimited_rows, columns=df.columns)\n",
    "\n"
   ]
  },
  {
   "cell_type": "code",
   "execution_count": 33,
   "metadata": {},
   "outputs": [
    {
     "output_type": "execute_result",
     "data": {
      "text/plain": [
       "-1"
      ]
     },
     "metadata": {},
     "execution_count": 33
    }
   ],
   "source": [
    "\"Toronto\".find(\"te\")"
   ]
  },
  {
   "cell_type": "code",
   "execution_count": null,
   "metadata": {},
   "outputs": [],
   "source": []
  }
 ]
}