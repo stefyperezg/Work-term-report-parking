{
 "metadata": {
  "language_info": {
   "codemirror_mode": {
    "name": "ipython",
    "version": 3
   },
   "file_extension": ".py",
   "mimetype": "text/x-python",
   "name": "python",
   "nbconvert_exporter": "python",
   "pygments_lexer": "ipython3",
   "version": 3
  },
  "orig_nbformat": 2
 },
 "nbformat": 4,
 "nbformat_minor": 2,
 "cells": [
  {
   "cell_type": "code",
   "execution_count": null,
   "metadata": {},
   "outputs": [],
   "source": [
    "import pandas as pd\n",
    "import seaborn as sns\n",
    "import matplotlib.pyplot as plt\n",
    "import matplotlib.dates as mdates\n",
    "%matplotlib inline"
   ]
  },
  {
   "cell_type": "code",
   "execution_count": null,
   "metadata": {},
   "outputs": [],
   "source": [
    "census_dir = \"C:\\\\Users\\\\stefy\\\\OneDrive - University of Waterloo\\Work Term Report 3 - Parking\\\\Datasets\\\\Toronto\\\\Census Tracts\\\\\"\r\n",
    "census_file = 'Dwellings and population per TTS zone.csv'\r\n",
    "dwell_pop = pd.read_csv(census_dir+census_file)"
   ]
  }
 ]
}